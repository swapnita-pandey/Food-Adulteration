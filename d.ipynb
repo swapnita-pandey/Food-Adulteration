{
 "cells": [
  {
   "cell_type": "markdown",
   "metadata": {},
   "source": [
    "# Is your Honey Adulterated?"
   ]
  },
  {
   "cell_type": "markdown",
   "metadata": {},
   "source": [
    "# Data Cleaning and Visualization"
   ]
  },
  {
   "cell_type": "code",
   "execution_count": 1,
   "metadata": {},
   "outputs": [],
   "source": [
    "import os # for file access\n",
    "import pandas as pd # for data processing\n",
    "import numpy as np # for math processing\n",
    "\n",
    "# for plotting\n",
    "import plotly.express as px\n",
    "\n",
    "import pandas as pd\n",
    "from sklearn.preprocessing import LabelEncoder\n",
    "from sklearn.metrics import accuracy_score\n",
    "\n",
    "from sklearn.metrics import precision_score, recall_score, f1_score, cohen_kappa_score,confusion_matrix\n",
    "from sklearn.metrics import roc_curve, roc_auc_score, precision_recall_curve, auc\n",
    "import matplotlib.pyplot as plt\n",
    "\n",
    "np.random.seed(33)"
   ]
  },
  {
   "cell_type": "code",
   "execution_count": 2,
   "metadata": {},
   "outputs": [],
   "source": [
    "import numpy as np\n",
    "import pandas as pd\n",
    "from sklearn.model_selection import train_test_split\n",
    "from sklearn.neural_network import MLPClassifier\n",
    "from sklearn.preprocessing import StandardScaler\n",
    "from sklearn.metrics import accuracy_score, precision_score, recall_score, f1_score, confusion_matrix\n",
    "\n",
    "from sklearn.cluster import KMeans\n",
    "import matplotlib.pyplot as plt\n",
    "\n",
    "from sklearn.cluster import DBSCAN\n"
   ]
  },
  {
   "cell_type": "code",
   "execution_count": 3,
   "metadata": {},
   "outputs": [
    {
     "data": {
      "text/html": [
       "<div>\n",
       "<style scoped>\n",
       "    .dataframe tbody tr th:only-of-type {\n",
       "        vertical-align: middle;\n",
       "    }\n",
       "\n",
       "    .dataframe tbody tr th {\n",
       "        vertical-align: top;\n",
       "    }\n",
       "\n",
       "    .dataframe thead th {\n",
       "        text-align: right;\n",
       "    }\n",
       "</style>\n",
       "<table border=\"1\" class=\"dataframe\">\n",
       "  <thead>\n",
       "    <tr style=\"text-align: right;\">\n",
       "      <th></th>\n",
       "      <th>Brand</th>\n",
       "      <th>Acquisition</th>\n",
       "      <th>Concentration_Class</th>\n",
       "      <th>Concentration</th>\n",
       "      <th>399.40nm</th>\n",
       "      <th>404.39nm</th>\n",
       "      <th>409.38nm</th>\n",
       "      <th>414.37nm</th>\n",
       "      <th>419.37nm</th>\n",
       "      <th>424.38nm</th>\n",
       "      <th>...</th>\n",
       "      <th>1020.10nm</th>\n",
       "      <th>1025.55nm</th>\n",
       "      <th>1031.00nm</th>\n",
       "      <th>1036.46nm</th>\n",
       "      <th>1041.92nm</th>\n",
       "      <th>1047.38nm</th>\n",
       "      <th>1052.85nm</th>\n",
       "      <th>1058.32nm</th>\n",
       "      <th>1063.79nm</th>\n",
       "      <th>Class</th>\n",
       "    </tr>\n",
       "  </thead>\n",
       "  <tbody>\n",
       "    <tr>\n",
       "      <th>0</th>\n",
       "      <td>C11</td>\n",
       "      <td>2</td>\n",
       "      <td>5</td>\n",
       "      <td>5</td>\n",
       "      <td>0.999980</td>\n",
       "      <td>0.999967</td>\n",
       "      <td>0.999203</td>\n",
       "      <td>0.992107</td>\n",
       "      <td>0.953222</td>\n",
       "      <td>0.872113</td>\n",
       "      <td>...</td>\n",
       "      <td>0.477751</td>\n",
       "      <td>0.481703</td>\n",
       "      <td>0.487756</td>\n",
       "      <td>0.497647</td>\n",
       "      <td>0.513220</td>\n",
       "      <td>0.528185</td>\n",
       "      <td>0.544014</td>\n",
       "      <td>0.562675</td>\n",
       "      <td>0.583122</td>\n",
       "      <td>Rewarewa</td>\n",
       "    </tr>\n",
       "    <tr>\n",
       "      <th>1</th>\n",
       "      <td>C11</td>\n",
       "      <td>2</td>\n",
       "      <td>5</td>\n",
       "      <td>5</td>\n",
       "      <td>0.999980</td>\n",
       "      <td>0.999968</td>\n",
       "      <td>0.999208</td>\n",
       "      <td>0.992223</td>\n",
       "      <td>0.953823</td>\n",
       "      <td>0.873235</td>\n",
       "      <td>...</td>\n",
       "      <td>0.478158</td>\n",
       "      <td>0.482184</td>\n",
       "      <td>0.488387</td>\n",
       "      <td>0.498356</td>\n",
       "      <td>0.514065</td>\n",
       "      <td>0.529189</td>\n",
       "      <td>0.545075</td>\n",
       "      <td>0.563809</td>\n",
       "      <td>0.584472</td>\n",
       "      <td>Rewarewa</td>\n",
       "    </tr>\n",
       "    <tr>\n",
       "      <th>2</th>\n",
       "      <td>C11</td>\n",
       "      <td>2</td>\n",
       "      <td>5</td>\n",
       "      <td>5</td>\n",
       "      <td>0.999979</td>\n",
       "      <td>0.999968</td>\n",
       "      <td>0.999220</td>\n",
       "      <td>0.992204</td>\n",
       "      <td>0.953378</td>\n",
       "      <td>0.872248</td>\n",
       "      <td>...</td>\n",
       "      <td>0.477288</td>\n",
       "      <td>0.481155</td>\n",
       "      <td>0.487180</td>\n",
       "      <td>0.497018</td>\n",
       "      <td>0.512569</td>\n",
       "      <td>0.527521</td>\n",
       "      <td>0.543329</td>\n",
       "      <td>0.561971</td>\n",
       "      <td>0.582424</td>\n",
       "      <td>Rewarewa</td>\n",
       "    </tr>\n",
       "    <tr>\n",
       "      <th>3</th>\n",
       "      <td>C11</td>\n",
       "      <td>2</td>\n",
       "      <td>5</td>\n",
       "      <td>5</td>\n",
       "      <td>0.999979</td>\n",
       "      <td>0.999966</td>\n",
       "      <td>0.999189</td>\n",
       "      <td>0.992018</td>\n",
       "      <td>0.952935</td>\n",
       "      <td>0.871801</td>\n",
       "      <td>...</td>\n",
       "      <td>0.477015</td>\n",
       "      <td>0.480936</td>\n",
       "      <td>0.486965</td>\n",
       "      <td>0.496816</td>\n",
       "      <td>0.512370</td>\n",
       "      <td>0.527352</td>\n",
       "      <td>0.543177</td>\n",
       "      <td>0.561848</td>\n",
       "      <td>0.582337</td>\n",
       "      <td>Rewarewa</td>\n",
       "    </tr>\n",
       "    <tr>\n",
       "      <th>4</th>\n",
       "      <td>C11</td>\n",
       "      <td>2</td>\n",
       "      <td>5</td>\n",
       "      <td>5</td>\n",
       "      <td>0.999977</td>\n",
       "      <td>0.999965</td>\n",
       "      <td>0.999151</td>\n",
       "      <td>0.991986</td>\n",
       "      <td>0.953458</td>\n",
       "      <td>0.873161</td>\n",
       "      <td>...</td>\n",
       "      <td>0.477190</td>\n",
       "      <td>0.481269</td>\n",
       "      <td>0.487589</td>\n",
       "      <td>0.497584</td>\n",
       "      <td>0.513355</td>\n",
       "      <td>0.528691</td>\n",
       "      <td>0.544639</td>\n",
       "      <td>0.563497</td>\n",
       "      <td>0.584432</td>\n",
       "      <td>Rewarewa</td>\n",
       "    </tr>\n",
       "  </tbody>\n",
       "</table>\n",
       "<p>5 rows × 133 columns</p>\n",
       "</div>"
      ],
      "text/plain": [
       "  Brand  Acquisition  Concentration_Class  Concentration  399.40nm  404.39nm  \\\n",
       "0   C11            2                    5              5  0.999980  0.999967   \n",
       "1   C11            2                    5              5  0.999980  0.999968   \n",
       "2   C11            2                    5              5  0.999979  0.999968   \n",
       "3   C11            2                    5              5  0.999979  0.999966   \n",
       "4   C11            2                    5              5  0.999977  0.999965   \n",
       "\n",
       "   409.38nm  414.37nm  419.37nm  424.38nm  ...  1020.10nm  1025.55nm  \\\n",
       "0  0.999203  0.992107  0.953222  0.872113  ...   0.477751   0.481703   \n",
       "1  0.999208  0.992223  0.953823  0.873235  ...   0.478158   0.482184   \n",
       "2  0.999220  0.992204  0.953378  0.872248  ...   0.477288   0.481155   \n",
       "3  0.999189  0.992018  0.952935  0.871801  ...   0.477015   0.480936   \n",
       "4  0.999151  0.991986  0.953458  0.873161  ...   0.477190   0.481269   \n",
       "\n",
       "   1031.00nm  1036.46nm  1041.92nm  1047.38nm  1052.85nm  1058.32nm  \\\n",
       "0   0.487756   0.497647   0.513220   0.528185   0.544014   0.562675   \n",
       "1   0.488387   0.498356   0.514065   0.529189   0.545075   0.563809   \n",
       "2   0.487180   0.497018   0.512569   0.527521   0.543329   0.561971   \n",
       "3   0.486965   0.496816   0.512370   0.527352   0.543177   0.561848   \n",
       "4   0.487589   0.497584   0.513355   0.528691   0.544639   0.563497   \n",
       "\n",
       "   1063.79nm     Class  \n",
       "0   0.583122  Rewarewa  \n",
       "1   0.584472  Rewarewa  \n",
       "2   0.582424  Rewarewa  \n",
       "3   0.582337  Rewarewa  \n",
       "4   0.584432  Rewarewa  \n",
       "\n",
       "[5 rows x 133 columns]"
      ]
     },
     "execution_count": 3,
     "metadata": {},
     "output_type": "execute_result"
    }
   ],
   "source": [
    "\n",
    "# Load the dataset\n",
    "#file = ('D:\\Research\\Honey Adulteration\\new\\generated_data.xlsx')\n",
    "file = ('D:\\\\Research\\\\Honey Adulteration\\\\new\\\\generated_data.xlsx')\n",
    "df = pd.read_excel(file)\n",
    "df.head()"
   ]
  },
  {
   "cell_type": "code",
   "execution_count": 4,
   "metadata": {},
   "outputs": [
    {
     "data": {
      "text/plain": [
       "Brand\n",
       "C11    7800\n",
       "C3     6000\n",
       "C10    4800\n",
       "C9     3600\n",
       "C7     3600\n",
       "C6     3000\n",
       "C2     1800\n",
       "C4     1800\n",
       "C1     1200\n",
       "C5      600\n",
       "C8      600\n",
       "Name: count, dtype: int64"
      ]
     },
     "execution_count": 4,
     "metadata": {},
     "output_type": "execute_result"
    }
   ],
   "source": [
    "df['Brand'].value_counts()"
   ]
  },
  {
   "cell_type": "code",
   "execution_count": 5,
   "metadata": {},
   "outputs": [
    {
     "data": {
      "text/plain": [
       "Acquisition\n",
       "2    5800\n",
       "3    5800\n",
       "1    5800\n",
       "4    5800\n",
       "5    5800\n",
       "6    5800\n",
       "Name: count, dtype: int64"
      ]
     },
     "execution_count": 5,
     "metadata": {},
     "output_type": "execute_result"
    }
   ],
   "source": [
    "df['Acquisition'].value_counts()"
   ]
  },
  {
   "cell_type": "code",
   "execution_count": 6,
   "metadata": {},
   "outputs": [
    {
     "data": {
      "text/plain": [
       "Concentration_Class\n",
       "5     8700\n",
       "10    8700\n",
       "25    8700\n",
       "50    8700\n",
       "Name: count, dtype: int64"
      ]
     },
     "execution_count": 6,
     "metadata": {},
     "output_type": "execute_result"
    }
   ],
   "source": [
    "df['Concentration_Class'].value_counts()"
   ]
  },
  {
   "cell_type": "code",
   "execution_count": 7,
   "metadata": {},
   "outputs": [
    {
     "data": {
      "text/plain": [
       "Concentration\n",
       "5     8700\n",
       "10    8700\n",
       "25    8700\n",
       "50    8700\n",
       "Name: count, dtype: int64"
      ]
     },
     "execution_count": 7,
     "metadata": {},
     "output_type": "execute_result"
    }
   ],
   "source": [
    "df['Concentration'].value_counts()"
   ]
  },
  {
   "cell_type": "code",
   "execution_count": 8,
   "metadata": {},
   "outputs": [
    {
     "data": {
      "text/plain": [
       "Class\n",
       "Rewarewa        3600\n",
       "ManukaUMF10     3600\n",
       "Clover          3600\n",
       "ManukaUMF5      3600\n",
       "Multifloral     2400\n",
       "ManukaUMF15     2400\n",
       "Manuka          1800\n",
       "Tawari          1800\n",
       "ManukaBlend     1800\n",
       "Rata            1200\n",
       "Kamahi          1200\n",
       "Pohu            1200\n",
       "BB              1200\n",
       "ManukaUMF20     1200\n",
       "ManukaUMF13      600\n",
       "BorageField      600\n",
       "ManukaUMF12      600\n",
       "ManukaUMF18      600\n",
       "ManukaUMF22      600\n",
       "Honeydew         600\n",
       "Field+Tawari     600\n",
       "Name: count, dtype: int64"
      ]
     },
     "execution_count": 8,
     "metadata": {},
     "output_type": "execute_result"
    }
   ],
   "source": [
    "df['Class'].value_counts()"
   ]
  },
  {
   "cell_type": "code",
   "execution_count": 9,
   "metadata": {},
   "outputs": [
    {
     "data": {
      "text/plain": [
       "(34800, 133)"
      ]
     },
     "execution_count": 9,
     "metadata": {},
     "output_type": "execute_result"
    }
   ],
   "source": [
    "df.shape"
   ]
  },
  {
   "cell_type": "code",
   "execution_count": 10,
   "metadata": {},
   "outputs": [
    {
     "data": {
      "text/plain": [
       "float64    128\n",
       "int64        3\n",
       "object       2\n",
       "Name: count, dtype: int64"
      ]
     },
     "execution_count": 10,
     "metadata": {},
     "output_type": "execute_result"
    }
   ],
   "source": [
    "df.dtypes.value_counts()"
   ]
  },
  {
   "cell_type": "code",
   "execution_count": 11,
   "metadata": {},
   "outputs": [
    {
     "data": {
      "text/html": [
       "<div>\n",
       "<style scoped>\n",
       "    .dataframe tbody tr th:only-of-type {\n",
       "        vertical-align: middle;\n",
       "    }\n",
       "\n",
       "    .dataframe tbody tr th {\n",
       "        vertical-align: top;\n",
       "    }\n",
       "\n",
       "    .dataframe thead th {\n",
       "        text-align: right;\n",
       "    }\n",
       "</style>\n",
       "<table border=\"1\" class=\"dataframe\">\n",
       "  <thead>\n",
       "    <tr style=\"text-align: right;\">\n",
       "      <th></th>\n",
       "      <th>Brand</th>\n",
       "      <th>Acquisition</th>\n",
       "      <th>Concentration_Class</th>\n",
       "      <th>Concentration</th>\n",
       "      <th>399.40nm</th>\n",
       "      <th>404.39nm</th>\n",
       "      <th>409.38nm</th>\n",
       "      <th>414.37nm</th>\n",
       "      <th>419.37nm</th>\n",
       "      <th>424.38nm</th>\n",
       "      <th>...</th>\n",
       "      <th>1020.10nm</th>\n",
       "      <th>1025.55nm</th>\n",
       "      <th>1031.00nm</th>\n",
       "      <th>1036.46nm</th>\n",
       "      <th>1041.92nm</th>\n",
       "      <th>1047.38nm</th>\n",
       "      <th>1052.85nm</th>\n",
       "      <th>1058.32nm</th>\n",
       "      <th>1063.79nm</th>\n",
       "      <th>Class</th>\n",
       "    </tr>\n",
       "  </thead>\n",
       "  <tbody>\n",
       "    <tr>\n",
       "      <th>0</th>\n",
       "      <td>C11</td>\n",
       "      <td>2</td>\n",
       "      <td>5</td>\n",
       "      <td>5</td>\n",
       "      <td>0.999980</td>\n",
       "      <td>0.999967</td>\n",
       "      <td>0.999203</td>\n",
       "      <td>0.992107</td>\n",
       "      <td>0.953222</td>\n",
       "      <td>0.872113</td>\n",
       "      <td>...</td>\n",
       "      <td>0.477751</td>\n",
       "      <td>0.481703</td>\n",
       "      <td>0.487756</td>\n",
       "      <td>0.497647</td>\n",
       "      <td>0.513220</td>\n",
       "      <td>0.528185</td>\n",
       "      <td>0.544014</td>\n",
       "      <td>0.562675</td>\n",
       "      <td>0.583122</td>\n",
       "      <td>Rewarewa</td>\n",
       "    </tr>\n",
       "    <tr>\n",
       "      <th>1</th>\n",
       "      <td>C11</td>\n",
       "      <td>2</td>\n",
       "      <td>5</td>\n",
       "      <td>5</td>\n",
       "      <td>0.999980</td>\n",
       "      <td>0.999968</td>\n",
       "      <td>0.999208</td>\n",
       "      <td>0.992223</td>\n",
       "      <td>0.953823</td>\n",
       "      <td>0.873235</td>\n",
       "      <td>...</td>\n",
       "      <td>0.478158</td>\n",
       "      <td>0.482184</td>\n",
       "      <td>0.488387</td>\n",
       "      <td>0.498356</td>\n",
       "      <td>0.514065</td>\n",
       "      <td>0.529189</td>\n",
       "      <td>0.545075</td>\n",
       "      <td>0.563809</td>\n",
       "      <td>0.584472</td>\n",
       "      <td>Rewarewa</td>\n",
       "    </tr>\n",
       "    <tr>\n",
       "      <th>2</th>\n",
       "      <td>C11</td>\n",
       "      <td>2</td>\n",
       "      <td>5</td>\n",
       "      <td>5</td>\n",
       "      <td>0.999979</td>\n",
       "      <td>0.999968</td>\n",
       "      <td>0.999220</td>\n",
       "      <td>0.992204</td>\n",
       "      <td>0.953378</td>\n",
       "      <td>0.872248</td>\n",
       "      <td>...</td>\n",
       "      <td>0.477288</td>\n",
       "      <td>0.481155</td>\n",
       "      <td>0.487180</td>\n",
       "      <td>0.497018</td>\n",
       "      <td>0.512569</td>\n",
       "      <td>0.527521</td>\n",
       "      <td>0.543329</td>\n",
       "      <td>0.561971</td>\n",
       "      <td>0.582424</td>\n",
       "      <td>Rewarewa</td>\n",
       "    </tr>\n",
       "    <tr>\n",
       "      <th>3</th>\n",
       "      <td>C11</td>\n",
       "      <td>2</td>\n",
       "      <td>5</td>\n",
       "      <td>5</td>\n",
       "      <td>0.999979</td>\n",
       "      <td>0.999966</td>\n",
       "      <td>0.999189</td>\n",
       "      <td>0.992018</td>\n",
       "      <td>0.952935</td>\n",
       "      <td>0.871801</td>\n",
       "      <td>...</td>\n",
       "      <td>0.477015</td>\n",
       "      <td>0.480936</td>\n",
       "      <td>0.486965</td>\n",
       "      <td>0.496816</td>\n",
       "      <td>0.512370</td>\n",
       "      <td>0.527352</td>\n",
       "      <td>0.543177</td>\n",
       "      <td>0.561848</td>\n",
       "      <td>0.582337</td>\n",
       "      <td>Rewarewa</td>\n",
       "    </tr>\n",
       "    <tr>\n",
       "      <th>4</th>\n",
       "      <td>C11</td>\n",
       "      <td>2</td>\n",
       "      <td>5</td>\n",
       "      <td>5</td>\n",
       "      <td>0.999977</td>\n",
       "      <td>0.999965</td>\n",
       "      <td>0.999151</td>\n",
       "      <td>0.991986</td>\n",
       "      <td>0.953458</td>\n",
       "      <td>0.873161</td>\n",
       "      <td>...</td>\n",
       "      <td>0.477190</td>\n",
       "      <td>0.481269</td>\n",
       "      <td>0.487589</td>\n",
       "      <td>0.497584</td>\n",
       "      <td>0.513355</td>\n",
       "      <td>0.528691</td>\n",
       "      <td>0.544639</td>\n",
       "      <td>0.563497</td>\n",
       "      <td>0.584432</td>\n",
       "      <td>Rewarewa</td>\n",
       "    </tr>\n",
       "  </tbody>\n",
       "</table>\n",
       "<p>5 rows × 133 columns</p>\n",
       "</div>"
      ],
      "text/plain": [
       "  Brand  Acquisition  Concentration_Class  Concentration  399.40nm  404.39nm  \\\n",
       "0   C11            2                    5              5  0.999980  0.999967   \n",
       "1   C11            2                    5              5  0.999980  0.999968   \n",
       "2   C11            2                    5              5  0.999979  0.999968   \n",
       "3   C11            2                    5              5  0.999979  0.999966   \n",
       "4   C11            2                    5              5  0.999977  0.999965   \n",
       "\n",
       "   409.38nm  414.37nm  419.37nm  424.38nm  ...  1020.10nm  1025.55nm  \\\n",
       "0  0.999203  0.992107  0.953222  0.872113  ...   0.477751   0.481703   \n",
       "1  0.999208  0.992223  0.953823  0.873235  ...   0.478158   0.482184   \n",
       "2  0.999220  0.992204  0.953378  0.872248  ...   0.477288   0.481155   \n",
       "3  0.999189  0.992018  0.952935  0.871801  ...   0.477015   0.480936   \n",
       "4  0.999151  0.991986  0.953458  0.873161  ...   0.477190   0.481269   \n",
       "\n",
       "   1031.00nm  1036.46nm  1041.92nm  1047.38nm  1052.85nm  1058.32nm  \\\n",
       "0   0.487756   0.497647   0.513220   0.528185   0.544014   0.562675   \n",
       "1   0.488387   0.498356   0.514065   0.529189   0.545075   0.563809   \n",
       "2   0.487180   0.497018   0.512569   0.527521   0.543329   0.561971   \n",
       "3   0.486965   0.496816   0.512370   0.527352   0.543177   0.561848   \n",
       "4   0.487589   0.497584   0.513355   0.528691   0.544639   0.563497   \n",
       "\n",
       "   1063.79nm     Class  \n",
       "0   0.583122  Rewarewa  \n",
       "1   0.584472  Rewarewa  \n",
       "2   0.582424  Rewarewa  \n",
       "3   0.582337  Rewarewa  \n",
       "4   0.584432  Rewarewa  \n",
       "\n",
       "[5 rows x 133 columns]"
      ]
     },
     "execution_count": 11,
     "metadata": {},
     "output_type": "execute_result"
    }
   ],
   "source": [
    "df.head()"
   ]
  },
  {
   "cell_type": "code",
   "execution_count": 12,
   "metadata": {},
   "outputs": [],
   "source": [
    "Y=df['Concentration']"
   ]
  },
  {
   "cell_type": "code",
   "execution_count": 13,
   "metadata": {},
   "outputs": [
    {
     "data": {
      "text/plain": [
       "0    5\n",
       "1    5\n",
       "2    5\n",
       "3    5\n",
       "4    5\n",
       "Name: Concentration, dtype: int64"
      ]
     },
     "execution_count": 13,
     "metadata": {},
     "output_type": "execute_result"
    }
   ],
   "source": [
    "Y.head()"
   ]
  },
  {
   "cell_type": "code",
   "execution_count": 14,
   "metadata": {},
   "outputs": [],
   "source": [
    "df.drop('Concentration_Class',axis=1,inplace=True)"
   ]
  },
  {
   "cell_type": "code",
   "execution_count": 15,
   "metadata": {},
   "outputs": [
    {
     "data": {
      "text/html": [
       "<div>\n",
       "<style scoped>\n",
       "    .dataframe tbody tr th:only-of-type {\n",
       "        vertical-align: middle;\n",
       "    }\n",
       "\n",
       "    .dataframe tbody tr th {\n",
       "        vertical-align: top;\n",
       "    }\n",
       "\n",
       "    .dataframe thead th {\n",
       "        text-align: right;\n",
       "    }\n",
       "</style>\n",
       "<table border=\"1\" class=\"dataframe\">\n",
       "  <thead>\n",
       "    <tr style=\"text-align: right;\">\n",
       "      <th></th>\n",
       "      <th>Brand</th>\n",
       "      <th>Acquisition</th>\n",
       "      <th>Concentration</th>\n",
       "      <th>399.40nm</th>\n",
       "      <th>404.39nm</th>\n",
       "      <th>409.38nm</th>\n",
       "      <th>414.37nm</th>\n",
       "      <th>419.37nm</th>\n",
       "      <th>424.38nm</th>\n",
       "      <th>429.38nm</th>\n",
       "      <th>...</th>\n",
       "      <th>1020.10nm</th>\n",
       "      <th>1025.55nm</th>\n",
       "      <th>1031.00nm</th>\n",
       "      <th>1036.46nm</th>\n",
       "      <th>1041.92nm</th>\n",
       "      <th>1047.38nm</th>\n",
       "      <th>1052.85nm</th>\n",
       "      <th>1058.32nm</th>\n",
       "      <th>1063.79nm</th>\n",
       "      <th>Class</th>\n",
       "    </tr>\n",
       "  </thead>\n",
       "  <tbody>\n",
       "    <tr>\n",
       "      <th>0</th>\n",
       "      <td>C11</td>\n",
       "      <td>2</td>\n",
       "      <td>5</td>\n",
       "      <td>0.999980</td>\n",
       "      <td>0.999967</td>\n",
       "      <td>0.999203</td>\n",
       "      <td>0.992107</td>\n",
       "      <td>0.953222</td>\n",
       "      <td>0.872113</td>\n",
       "      <td>0.728557</td>\n",
       "      <td>...</td>\n",
       "      <td>0.477751</td>\n",
       "      <td>0.481703</td>\n",
       "      <td>0.487756</td>\n",
       "      <td>0.497647</td>\n",
       "      <td>0.513220</td>\n",
       "      <td>0.528185</td>\n",
       "      <td>0.544014</td>\n",
       "      <td>0.562675</td>\n",
       "      <td>0.583122</td>\n",
       "      <td>Rewarewa</td>\n",
       "    </tr>\n",
       "    <tr>\n",
       "      <th>1</th>\n",
       "      <td>C11</td>\n",
       "      <td>2</td>\n",
       "      <td>5</td>\n",
       "      <td>0.999980</td>\n",
       "      <td>0.999968</td>\n",
       "      <td>0.999208</td>\n",
       "      <td>0.992223</td>\n",
       "      <td>0.953823</td>\n",
       "      <td>0.873235</td>\n",
       "      <td>0.731307</td>\n",
       "      <td>...</td>\n",
       "      <td>0.478158</td>\n",
       "      <td>0.482184</td>\n",
       "      <td>0.488387</td>\n",
       "      <td>0.498356</td>\n",
       "      <td>0.514065</td>\n",
       "      <td>0.529189</td>\n",
       "      <td>0.545075</td>\n",
       "      <td>0.563809</td>\n",
       "      <td>0.584472</td>\n",
       "      <td>Rewarewa</td>\n",
       "    </tr>\n",
       "    <tr>\n",
       "      <th>2</th>\n",
       "      <td>C11</td>\n",
       "      <td>2</td>\n",
       "      <td>5</td>\n",
       "      <td>0.999979</td>\n",
       "      <td>0.999968</td>\n",
       "      <td>0.999220</td>\n",
       "      <td>0.992204</td>\n",
       "      <td>0.953378</td>\n",
       "      <td>0.872248</td>\n",
       "      <td>0.728564</td>\n",
       "      <td>...</td>\n",
       "      <td>0.477288</td>\n",
       "      <td>0.481155</td>\n",
       "      <td>0.487180</td>\n",
       "      <td>0.497018</td>\n",
       "      <td>0.512569</td>\n",
       "      <td>0.527521</td>\n",
       "      <td>0.543329</td>\n",
       "      <td>0.561971</td>\n",
       "      <td>0.582424</td>\n",
       "      <td>Rewarewa</td>\n",
       "    </tr>\n",
       "    <tr>\n",
       "      <th>3</th>\n",
       "      <td>C11</td>\n",
       "      <td>2</td>\n",
       "      <td>5</td>\n",
       "      <td>0.999979</td>\n",
       "      <td>0.999966</td>\n",
       "      <td>0.999189</td>\n",
       "      <td>0.992018</td>\n",
       "      <td>0.952935</td>\n",
       "      <td>0.871801</td>\n",
       "      <td>0.728091</td>\n",
       "      <td>...</td>\n",
       "      <td>0.477015</td>\n",
       "      <td>0.480936</td>\n",
       "      <td>0.486965</td>\n",
       "      <td>0.496816</td>\n",
       "      <td>0.512370</td>\n",
       "      <td>0.527352</td>\n",
       "      <td>0.543177</td>\n",
       "      <td>0.561848</td>\n",
       "      <td>0.582337</td>\n",
       "      <td>Rewarewa</td>\n",
       "    </tr>\n",
       "    <tr>\n",
       "      <th>4</th>\n",
       "      <td>C11</td>\n",
       "      <td>2</td>\n",
       "      <td>5</td>\n",
       "      <td>0.999977</td>\n",
       "      <td>0.999965</td>\n",
       "      <td>0.999151</td>\n",
       "      <td>0.991986</td>\n",
       "      <td>0.953458</td>\n",
       "      <td>0.873161</td>\n",
       "      <td>0.732385</td>\n",
       "      <td>...</td>\n",
       "      <td>0.477190</td>\n",
       "      <td>0.481269</td>\n",
       "      <td>0.487589</td>\n",
       "      <td>0.497584</td>\n",
       "      <td>0.513355</td>\n",
       "      <td>0.528691</td>\n",
       "      <td>0.544639</td>\n",
       "      <td>0.563497</td>\n",
       "      <td>0.584432</td>\n",
       "      <td>Rewarewa</td>\n",
       "    </tr>\n",
       "  </tbody>\n",
       "</table>\n",
       "<p>5 rows × 132 columns</p>\n",
       "</div>"
      ],
      "text/plain": [
       "  Brand  Acquisition  Concentration  399.40nm  404.39nm  409.38nm  414.37nm  \\\n",
       "0   C11            2              5  0.999980  0.999967  0.999203  0.992107   \n",
       "1   C11            2              5  0.999980  0.999968  0.999208  0.992223   \n",
       "2   C11            2              5  0.999979  0.999968  0.999220  0.992204   \n",
       "3   C11            2              5  0.999979  0.999966  0.999189  0.992018   \n",
       "4   C11            2              5  0.999977  0.999965  0.999151  0.991986   \n",
       "\n",
       "   419.37nm  424.38nm  429.38nm  ...  1020.10nm  1025.55nm  1031.00nm  \\\n",
       "0  0.953222  0.872113  0.728557  ...   0.477751   0.481703   0.487756   \n",
       "1  0.953823  0.873235  0.731307  ...   0.478158   0.482184   0.488387   \n",
       "2  0.953378  0.872248  0.728564  ...   0.477288   0.481155   0.487180   \n",
       "3  0.952935  0.871801  0.728091  ...   0.477015   0.480936   0.486965   \n",
       "4  0.953458  0.873161  0.732385  ...   0.477190   0.481269   0.487589   \n",
       "\n",
       "   1036.46nm  1041.92nm  1047.38nm  1052.85nm  1058.32nm  1063.79nm     Class  \n",
       "0   0.497647   0.513220   0.528185   0.544014   0.562675   0.583122  Rewarewa  \n",
       "1   0.498356   0.514065   0.529189   0.545075   0.563809   0.584472  Rewarewa  \n",
       "2   0.497018   0.512569   0.527521   0.543329   0.561971   0.582424  Rewarewa  \n",
       "3   0.496816   0.512370   0.527352   0.543177   0.561848   0.582337  Rewarewa  \n",
       "4   0.497584   0.513355   0.528691   0.544639   0.563497   0.584432  Rewarewa  \n",
       "\n",
       "[5 rows x 132 columns]"
      ]
     },
     "execution_count": 15,
     "metadata": {},
     "output_type": "execute_result"
    }
   ],
   "source": [
    "df.head()"
   ]
  },
  {
   "cell_type": "code",
   "execution_count": 16,
   "metadata": {},
   "outputs": [],
   "source": [
    "# Define the mapping dictionary\n",
    "brand_mapping = {\n",
    "    'C1': 1,\n",
    "    'C2': 2,\n",
    "    'C3': 3,\n",
    "    'C4': 4,\n",
    "    'C5': 5,\n",
    "    'C6': 6,\n",
    "    'C7': 7,\n",
    "    'C8': 8,\n",
    "    'C9': 9,\n",
    "    'C10': 10,\n",
    "    'C11': 11,\n",
    "}\n",
    "\n",
    "# Map the values in the 'Brand' column using the mapping dictionary\n",
    "df['Brand'] = df['Brand'].map(brand_mapping)"
   ]
  },
  {
   "cell_type": "code",
   "execution_count": 17,
   "metadata": {},
   "outputs": [
    {
     "data": {
      "text/html": [
       "<div>\n",
       "<style scoped>\n",
       "    .dataframe tbody tr th:only-of-type {\n",
       "        vertical-align: middle;\n",
       "    }\n",
       "\n",
       "    .dataframe tbody tr th {\n",
       "        vertical-align: top;\n",
       "    }\n",
       "\n",
       "    .dataframe thead th {\n",
       "        text-align: right;\n",
       "    }\n",
       "</style>\n",
       "<table border=\"1\" class=\"dataframe\">\n",
       "  <thead>\n",
       "    <tr style=\"text-align: right;\">\n",
       "      <th></th>\n",
       "      <th>Brand</th>\n",
       "      <th>Acquisition</th>\n",
       "      <th>Concentration</th>\n",
       "      <th>399.40nm</th>\n",
       "      <th>404.39nm</th>\n",
       "      <th>409.38nm</th>\n",
       "      <th>414.37nm</th>\n",
       "      <th>419.37nm</th>\n",
       "      <th>424.38nm</th>\n",
       "      <th>429.38nm</th>\n",
       "      <th>...</th>\n",
       "      <th>1020.10nm</th>\n",
       "      <th>1025.55nm</th>\n",
       "      <th>1031.00nm</th>\n",
       "      <th>1036.46nm</th>\n",
       "      <th>1041.92nm</th>\n",
       "      <th>1047.38nm</th>\n",
       "      <th>1052.85nm</th>\n",
       "      <th>1058.32nm</th>\n",
       "      <th>1063.79nm</th>\n",
       "      <th>Class</th>\n",
       "    </tr>\n",
       "  </thead>\n",
       "  <tbody>\n",
       "    <tr>\n",
       "      <th>0</th>\n",
       "      <td>11</td>\n",
       "      <td>2</td>\n",
       "      <td>5</td>\n",
       "      <td>0.999980</td>\n",
       "      <td>0.999967</td>\n",
       "      <td>0.999203</td>\n",
       "      <td>0.992107</td>\n",
       "      <td>0.953222</td>\n",
       "      <td>0.872113</td>\n",
       "      <td>0.728557</td>\n",
       "      <td>...</td>\n",
       "      <td>0.477751</td>\n",
       "      <td>0.481703</td>\n",
       "      <td>0.487756</td>\n",
       "      <td>0.497647</td>\n",
       "      <td>0.513220</td>\n",
       "      <td>0.528185</td>\n",
       "      <td>0.544014</td>\n",
       "      <td>0.562675</td>\n",
       "      <td>0.583122</td>\n",
       "      <td>Rewarewa</td>\n",
       "    </tr>\n",
       "    <tr>\n",
       "      <th>1</th>\n",
       "      <td>11</td>\n",
       "      <td>2</td>\n",
       "      <td>5</td>\n",
       "      <td>0.999980</td>\n",
       "      <td>0.999968</td>\n",
       "      <td>0.999208</td>\n",
       "      <td>0.992223</td>\n",
       "      <td>0.953823</td>\n",
       "      <td>0.873235</td>\n",
       "      <td>0.731307</td>\n",
       "      <td>...</td>\n",
       "      <td>0.478158</td>\n",
       "      <td>0.482184</td>\n",
       "      <td>0.488387</td>\n",
       "      <td>0.498356</td>\n",
       "      <td>0.514065</td>\n",
       "      <td>0.529189</td>\n",
       "      <td>0.545075</td>\n",
       "      <td>0.563809</td>\n",
       "      <td>0.584472</td>\n",
       "      <td>Rewarewa</td>\n",
       "    </tr>\n",
       "    <tr>\n",
       "      <th>2</th>\n",
       "      <td>11</td>\n",
       "      <td>2</td>\n",
       "      <td>5</td>\n",
       "      <td>0.999979</td>\n",
       "      <td>0.999968</td>\n",
       "      <td>0.999220</td>\n",
       "      <td>0.992204</td>\n",
       "      <td>0.953378</td>\n",
       "      <td>0.872248</td>\n",
       "      <td>0.728564</td>\n",
       "      <td>...</td>\n",
       "      <td>0.477288</td>\n",
       "      <td>0.481155</td>\n",
       "      <td>0.487180</td>\n",
       "      <td>0.497018</td>\n",
       "      <td>0.512569</td>\n",
       "      <td>0.527521</td>\n",
       "      <td>0.543329</td>\n",
       "      <td>0.561971</td>\n",
       "      <td>0.582424</td>\n",
       "      <td>Rewarewa</td>\n",
       "    </tr>\n",
       "    <tr>\n",
       "      <th>3</th>\n",
       "      <td>11</td>\n",
       "      <td>2</td>\n",
       "      <td>5</td>\n",
       "      <td>0.999979</td>\n",
       "      <td>0.999966</td>\n",
       "      <td>0.999189</td>\n",
       "      <td>0.992018</td>\n",
       "      <td>0.952935</td>\n",
       "      <td>0.871801</td>\n",
       "      <td>0.728091</td>\n",
       "      <td>...</td>\n",
       "      <td>0.477015</td>\n",
       "      <td>0.480936</td>\n",
       "      <td>0.486965</td>\n",
       "      <td>0.496816</td>\n",
       "      <td>0.512370</td>\n",
       "      <td>0.527352</td>\n",
       "      <td>0.543177</td>\n",
       "      <td>0.561848</td>\n",
       "      <td>0.582337</td>\n",
       "      <td>Rewarewa</td>\n",
       "    </tr>\n",
       "    <tr>\n",
       "      <th>4</th>\n",
       "      <td>11</td>\n",
       "      <td>2</td>\n",
       "      <td>5</td>\n",
       "      <td>0.999977</td>\n",
       "      <td>0.999965</td>\n",
       "      <td>0.999151</td>\n",
       "      <td>0.991986</td>\n",
       "      <td>0.953458</td>\n",
       "      <td>0.873161</td>\n",
       "      <td>0.732385</td>\n",
       "      <td>...</td>\n",
       "      <td>0.477190</td>\n",
       "      <td>0.481269</td>\n",
       "      <td>0.487589</td>\n",
       "      <td>0.497584</td>\n",
       "      <td>0.513355</td>\n",
       "      <td>0.528691</td>\n",
       "      <td>0.544639</td>\n",
       "      <td>0.563497</td>\n",
       "      <td>0.584432</td>\n",
       "      <td>Rewarewa</td>\n",
       "    </tr>\n",
       "  </tbody>\n",
       "</table>\n",
       "<p>5 rows × 132 columns</p>\n",
       "</div>"
      ],
      "text/plain": [
       "   Brand  Acquisition  Concentration  399.40nm  404.39nm  409.38nm  414.37nm  \\\n",
       "0     11            2              5  0.999980  0.999967  0.999203  0.992107   \n",
       "1     11            2              5  0.999980  0.999968  0.999208  0.992223   \n",
       "2     11            2              5  0.999979  0.999968  0.999220  0.992204   \n",
       "3     11            2              5  0.999979  0.999966  0.999189  0.992018   \n",
       "4     11            2              5  0.999977  0.999965  0.999151  0.991986   \n",
       "\n",
       "   419.37nm  424.38nm  429.38nm  ...  1020.10nm  1025.55nm  1031.00nm  \\\n",
       "0  0.953222  0.872113  0.728557  ...   0.477751   0.481703   0.487756   \n",
       "1  0.953823  0.873235  0.731307  ...   0.478158   0.482184   0.488387   \n",
       "2  0.953378  0.872248  0.728564  ...   0.477288   0.481155   0.487180   \n",
       "3  0.952935  0.871801  0.728091  ...   0.477015   0.480936   0.486965   \n",
       "4  0.953458  0.873161  0.732385  ...   0.477190   0.481269   0.487589   \n",
       "\n",
       "   1036.46nm  1041.92nm  1047.38nm  1052.85nm  1058.32nm  1063.79nm     Class  \n",
       "0   0.497647   0.513220   0.528185   0.544014   0.562675   0.583122  Rewarewa  \n",
       "1   0.498356   0.514065   0.529189   0.545075   0.563809   0.584472  Rewarewa  \n",
       "2   0.497018   0.512569   0.527521   0.543329   0.561971   0.582424  Rewarewa  \n",
       "3   0.496816   0.512370   0.527352   0.543177   0.561848   0.582337  Rewarewa  \n",
       "4   0.497584   0.513355   0.528691   0.544639   0.563497   0.584432  Rewarewa  \n",
       "\n",
       "[5 rows x 132 columns]"
      ]
     },
     "execution_count": 17,
     "metadata": {},
     "output_type": "execute_result"
    }
   ],
   "source": [
    "df.head()"
   ]
  },
  {
   "cell_type": "code",
   "execution_count": 18,
   "metadata": {},
   "outputs": [],
   "source": [
    "# Initialize the LabelEncoder\n",
    "label_encoder = LabelEncoder()"
   ]
  },
  {
   "cell_type": "code",
   "execution_count": 19,
   "metadata": {},
   "outputs": [],
   "source": [
    "# Fit and transform the selected column\n",
    "df['Class'] = label_encoder.fit_transform(df['Class'])"
   ]
  },
  {
   "cell_type": "code",
   "execution_count": 20,
   "metadata": {},
   "outputs": [
    {
     "data": {
      "text/html": [
       "<div>\n",
       "<style scoped>\n",
       "    .dataframe tbody tr th:only-of-type {\n",
       "        vertical-align: middle;\n",
       "    }\n",
       "\n",
       "    .dataframe tbody tr th {\n",
       "        vertical-align: top;\n",
       "    }\n",
       "\n",
       "    .dataframe thead th {\n",
       "        text-align: right;\n",
       "    }\n",
       "</style>\n",
       "<table border=\"1\" class=\"dataframe\">\n",
       "  <thead>\n",
       "    <tr style=\"text-align: right;\">\n",
       "      <th></th>\n",
       "      <th>Brand</th>\n",
       "      <th>Acquisition</th>\n",
       "      <th>Concentration</th>\n",
       "      <th>399.40nm</th>\n",
       "      <th>404.39nm</th>\n",
       "      <th>409.38nm</th>\n",
       "      <th>414.37nm</th>\n",
       "      <th>419.37nm</th>\n",
       "      <th>424.38nm</th>\n",
       "      <th>429.38nm</th>\n",
       "      <th>...</th>\n",
       "      <th>1020.10nm</th>\n",
       "      <th>1025.55nm</th>\n",
       "      <th>1031.00nm</th>\n",
       "      <th>1036.46nm</th>\n",
       "      <th>1041.92nm</th>\n",
       "      <th>1047.38nm</th>\n",
       "      <th>1052.85nm</th>\n",
       "      <th>1058.32nm</th>\n",
       "      <th>1063.79nm</th>\n",
       "      <th>Class</th>\n",
       "    </tr>\n",
       "  </thead>\n",
       "  <tbody>\n",
       "    <tr>\n",
       "      <th>0</th>\n",
       "      <td>11</td>\n",
       "      <td>2</td>\n",
       "      <td>5</td>\n",
       "      <td>0.999980</td>\n",
       "      <td>0.999967</td>\n",
       "      <td>0.999203</td>\n",
       "      <td>0.992107</td>\n",
       "      <td>0.953222</td>\n",
       "      <td>0.872113</td>\n",
       "      <td>0.728557</td>\n",
       "      <td>...</td>\n",
       "      <td>0.477751</td>\n",
       "      <td>0.481703</td>\n",
       "      <td>0.487756</td>\n",
       "      <td>0.497647</td>\n",
       "      <td>0.513220</td>\n",
       "      <td>0.528185</td>\n",
       "      <td>0.544014</td>\n",
       "      <td>0.562675</td>\n",
       "      <td>0.583122</td>\n",
       "      <td>19</td>\n",
       "    </tr>\n",
       "    <tr>\n",
       "      <th>1</th>\n",
       "      <td>11</td>\n",
       "      <td>2</td>\n",
       "      <td>5</td>\n",
       "      <td>0.999980</td>\n",
       "      <td>0.999968</td>\n",
       "      <td>0.999208</td>\n",
       "      <td>0.992223</td>\n",
       "      <td>0.953823</td>\n",
       "      <td>0.873235</td>\n",
       "      <td>0.731307</td>\n",
       "      <td>...</td>\n",
       "      <td>0.478158</td>\n",
       "      <td>0.482184</td>\n",
       "      <td>0.488387</td>\n",
       "      <td>0.498356</td>\n",
       "      <td>0.514065</td>\n",
       "      <td>0.529189</td>\n",
       "      <td>0.545075</td>\n",
       "      <td>0.563809</td>\n",
       "      <td>0.584472</td>\n",
       "      <td>19</td>\n",
       "    </tr>\n",
       "    <tr>\n",
       "      <th>2</th>\n",
       "      <td>11</td>\n",
       "      <td>2</td>\n",
       "      <td>5</td>\n",
       "      <td>0.999979</td>\n",
       "      <td>0.999968</td>\n",
       "      <td>0.999220</td>\n",
       "      <td>0.992204</td>\n",
       "      <td>0.953378</td>\n",
       "      <td>0.872248</td>\n",
       "      <td>0.728564</td>\n",
       "      <td>...</td>\n",
       "      <td>0.477288</td>\n",
       "      <td>0.481155</td>\n",
       "      <td>0.487180</td>\n",
       "      <td>0.497018</td>\n",
       "      <td>0.512569</td>\n",
       "      <td>0.527521</td>\n",
       "      <td>0.543329</td>\n",
       "      <td>0.561971</td>\n",
       "      <td>0.582424</td>\n",
       "      <td>19</td>\n",
       "    </tr>\n",
       "    <tr>\n",
       "      <th>3</th>\n",
       "      <td>11</td>\n",
       "      <td>2</td>\n",
       "      <td>5</td>\n",
       "      <td>0.999979</td>\n",
       "      <td>0.999966</td>\n",
       "      <td>0.999189</td>\n",
       "      <td>0.992018</td>\n",
       "      <td>0.952935</td>\n",
       "      <td>0.871801</td>\n",
       "      <td>0.728091</td>\n",
       "      <td>...</td>\n",
       "      <td>0.477015</td>\n",
       "      <td>0.480936</td>\n",
       "      <td>0.486965</td>\n",
       "      <td>0.496816</td>\n",
       "      <td>0.512370</td>\n",
       "      <td>0.527352</td>\n",
       "      <td>0.543177</td>\n",
       "      <td>0.561848</td>\n",
       "      <td>0.582337</td>\n",
       "      <td>19</td>\n",
       "    </tr>\n",
       "    <tr>\n",
       "      <th>4</th>\n",
       "      <td>11</td>\n",
       "      <td>2</td>\n",
       "      <td>5</td>\n",
       "      <td>0.999977</td>\n",
       "      <td>0.999965</td>\n",
       "      <td>0.999151</td>\n",
       "      <td>0.991986</td>\n",
       "      <td>0.953458</td>\n",
       "      <td>0.873161</td>\n",
       "      <td>0.732385</td>\n",
       "      <td>...</td>\n",
       "      <td>0.477190</td>\n",
       "      <td>0.481269</td>\n",
       "      <td>0.487589</td>\n",
       "      <td>0.497584</td>\n",
       "      <td>0.513355</td>\n",
       "      <td>0.528691</td>\n",
       "      <td>0.544639</td>\n",
       "      <td>0.563497</td>\n",
       "      <td>0.584432</td>\n",
       "      <td>19</td>\n",
       "    </tr>\n",
       "  </tbody>\n",
       "</table>\n",
       "<p>5 rows × 132 columns</p>\n",
       "</div>"
      ],
      "text/plain": [
       "   Brand  Acquisition  Concentration  399.40nm  404.39nm  409.38nm  414.37nm  \\\n",
       "0     11            2              5  0.999980  0.999967  0.999203  0.992107   \n",
       "1     11            2              5  0.999980  0.999968  0.999208  0.992223   \n",
       "2     11            2              5  0.999979  0.999968  0.999220  0.992204   \n",
       "3     11            2              5  0.999979  0.999966  0.999189  0.992018   \n",
       "4     11            2              5  0.999977  0.999965  0.999151  0.991986   \n",
       "\n",
       "   419.37nm  424.38nm  429.38nm  ...  1020.10nm  1025.55nm  1031.00nm  \\\n",
       "0  0.953222  0.872113  0.728557  ...   0.477751   0.481703   0.487756   \n",
       "1  0.953823  0.873235  0.731307  ...   0.478158   0.482184   0.488387   \n",
       "2  0.953378  0.872248  0.728564  ...   0.477288   0.481155   0.487180   \n",
       "3  0.952935  0.871801  0.728091  ...   0.477015   0.480936   0.486965   \n",
       "4  0.953458  0.873161  0.732385  ...   0.477190   0.481269   0.487589   \n",
       "\n",
       "   1036.46nm  1041.92nm  1047.38nm  1052.85nm  1058.32nm  1063.79nm  Class  \n",
       "0   0.497647   0.513220   0.528185   0.544014   0.562675   0.583122     19  \n",
       "1   0.498356   0.514065   0.529189   0.545075   0.563809   0.584472     19  \n",
       "2   0.497018   0.512569   0.527521   0.543329   0.561971   0.582424     19  \n",
       "3   0.496816   0.512370   0.527352   0.543177   0.561848   0.582337     19  \n",
       "4   0.497584   0.513355   0.528691   0.544639   0.563497   0.584432     19  \n",
       "\n",
       "[5 rows x 132 columns]"
      ]
     },
     "execution_count": 20,
     "metadata": {},
     "output_type": "execute_result"
    }
   ],
   "source": [
    "df.head()"
   ]
  },
  {
   "cell_type": "code",
   "execution_count": 21,
   "metadata": {},
   "outputs": [
    {
     "data": {
      "text/plain": [
       "Class\n",
       "19    3600\n",
       "8     3600\n",
       "2     3600\n",
       "15    3600\n",
       "16    2400\n",
       "11    2400\n",
       "6     1800\n",
       "20    1800\n",
       "7     1800\n",
       "18    1200\n",
       "5     1200\n",
       "17    1200\n",
       "0     1200\n",
       "13    1200\n",
       "10     600\n",
       "1      600\n",
       "9      600\n",
       "12     600\n",
       "14     600\n",
       "4      600\n",
       "3      600\n",
       "Name: count, dtype: int64"
      ]
     },
     "execution_count": 21,
     "metadata": {},
     "output_type": "execute_result"
    }
   ],
   "source": [
    "df['Class'].value_counts()"
   ]
  },
  {
   "cell_type": "code",
   "execution_count": 22,
   "metadata": {},
   "outputs": [
    {
     "data": {
      "text/html": [
       "<div>\n",
       "<style scoped>\n",
       "    .dataframe tbody tr th:only-of-type {\n",
       "        vertical-align: middle;\n",
       "    }\n",
       "\n",
       "    .dataframe tbody tr th {\n",
       "        vertical-align: top;\n",
       "    }\n",
       "\n",
       "    .dataframe thead th {\n",
       "        text-align: right;\n",
       "    }\n",
       "</style>\n",
       "<table border=\"1\" class=\"dataframe\">\n",
       "  <thead>\n",
       "    <tr style=\"text-align: right;\">\n",
       "      <th></th>\n",
       "      <th>Brand</th>\n",
       "      <th>Acquisition</th>\n",
       "      <th>Concentration</th>\n",
       "      <th>399.40nm</th>\n",
       "      <th>404.39nm</th>\n",
       "      <th>409.38nm</th>\n",
       "      <th>414.37nm</th>\n",
       "      <th>419.37nm</th>\n",
       "      <th>424.38nm</th>\n",
       "      <th>429.38nm</th>\n",
       "      <th>...</th>\n",
       "      <th>1020.10nm</th>\n",
       "      <th>1025.55nm</th>\n",
       "      <th>1031.00nm</th>\n",
       "      <th>1036.46nm</th>\n",
       "      <th>1041.92nm</th>\n",
       "      <th>1047.38nm</th>\n",
       "      <th>1052.85nm</th>\n",
       "      <th>1058.32nm</th>\n",
       "      <th>1063.79nm</th>\n",
       "      <th>Class</th>\n",
       "    </tr>\n",
       "  </thead>\n",
       "  <tbody>\n",
       "    <tr>\n",
       "      <th>0</th>\n",
       "      <td>11</td>\n",
       "      <td>2</td>\n",
       "      <td>5</td>\n",
       "      <td>0.999980</td>\n",
       "      <td>0.999967</td>\n",
       "      <td>0.999203</td>\n",
       "      <td>0.992107</td>\n",
       "      <td>0.953222</td>\n",
       "      <td>0.872113</td>\n",
       "      <td>0.728557</td>\n",
       "      <td>...</td>\n",
       "      <td>0.477751</td>\n",
       "      <td>0.481703</td>\n",
       "      <td>0.487756</td>\n",
       "      <td>0.497647</td>\n",
       "      <td>0.513220</td>\n",
       "      <td>0.528185</td>\n",
       "      <td>0.544014</td>\n",
       "      <td>0.562675</td>\n",
       "      <td>0.583122</td>\n",
       "      <td>19</td>\n",
       "    </tr>\n",
       "    <tr>\n",
       "      <th>1</th>\n",
       "      <td>11</td>\n",
       "      <td>2</td>\n",
       "      <td>5</td>\n",
       "      <td>0.999980</td>\n",
       "      <td>0.999968</td>\n",
       "      <td>0.999208</td>\n",
       "      <td>0.992223</td>\n",
       "      <td>0.953823</td>\n",
       "      <td>0.873235</td>\n",
       "      <td>0.731307</td>\n",
       "      <td>...</td>\n",
       "      <td>0.478158</td>\n",
       "      <td>0.482184</td>\n",
       "      <td>0.488387</td>\n",
       "      <td>0.498356</td>\n",
       "      <td>0.514065</td>\n",
       "      <td>0.529189</td>\n",
       "      <td>0.545075</td>\n",
       "      <td>0.563809</td>\n",
       "      <td>0.584472</td>\n",
       "      <td>19</td>\n",
       "    </tr>\n",
       "    <tr>\n",
       "      <th>2</th>\n",
       "      <td>11</td>\n",
       "      <td>2</td>\n",
       "      <td>5</td>\n",
       "      <td>0.999979</td>\n",
       "      <td>0.999968</td>\n",
       "      <td>0.999220</td>\n",
       "      <td>0.992204</td>\n",
       "      <td>0.953378</td>\n",
       "      <td>0.872248</td>\n",
       "      <td>0.728564</td>\n",
       "      <td>...</td>\n",
       "      <td>0.477288</td>\n",
       "      <td>0.481155</td>\n",
       "      <td>0.487180</td>\n",
       "      <td>0.497018</td>\n",
       "      <td>0.512569</td>\n",
       "      <td>0.527521</td>\n",
       "      <td>0.543329</td>\n",
       "      <td>0.561971</td>\n",
       "      <td>0.582424</td>\n",
       "      <td>19</td>\n",
       "    </tr>\n",
       "    <tr>\n",
       "      <th>3</th>\n",
       "      <td>11</td>\n",
       "      <td>2</td>\n",
       "      <td>5</td>\n",
       "      <td>0.999979</td>\n",
       "      <td>0.999966</td>\n",
       "      <td>0.999189</td>\n",
       "      <td>0.992018</td>\n",
       "      <td>0.952935</td>\n",
       "      <td>0.871801</td>\n",
       "      <td>0.728091</td>\n",
       "      <td>...</td>\n",
       "      <td>0.477015</td>\n",
       "      <td>0.480936</td>\n",
       "      <td>0.486965</td>\n",
       "      <td>0.496816</td>\n",
       "      <td>0.512370</td>\n",
       "      <td>0.527352</td>\n",
       "      <td>0.543177</td>\n",
       "      <td>0.561848</td>\n",
       "      <td>0.582337</td>\n",
       "      <td>19</td>\n",
       "    </tr>\n",
       "    <tr>\n",
       "      <th>4</th>\n",
       "      <td>11</td>\n",
       "      <td>2</td>\n",
       "      <td>5</td>\n",
       "      <td>0.999977</td>\n",
       "      <td>0.999965</td>\n",
       "      <td>0.999151</td>\n",
       "      <td>0.991986</td>\n",
       "      <td>0.953458</td>\n",
       "      <td>0.873161</td>\n",
       "      <td>0.732385</td>\n",
       "      <td>...</td>\n",
       "      <td>0.477190</td>\n",
       "      <td>0.481269</td>\n",
       "      <td>0.487589</td>\n",
       "      <td>0.497584</td>\n",
       "      <td>0.513355</td>\n",
       "      <td>0.528691</td>\n",
       "      <td>0.544639</td>\n",
       "      <td>0.563497</td>\n",
       "      <td>0.584432</td>\n",
       "      <td>19</td>\n",
       "    </tr>\n",
       "  </tbody>\n",
       "</table>\n",
       "<p>5 rows × 132 columns</p>\n",
       "</div>"
      ],
      "text/plain": [
       "   Brand  Acquisition  Concentration  399.40nm  404.39nm  409.38nm  414.37nm  \\\n",
       "0     11            2              5  0.999980  0.999967  0.999203  0.992107   \n",
       "1     11            2              5  0.999980  0.999968  0.999208  0.992223   \n",
       "2     11            2              5  0.999979  0.999968  0.999220  0.992204   \n",
       "3     11            2              5  0.999979  0.999966  0.999189  0.992018   \n",
       "4     11            2              5  0.999977  0.999965  0.999151  0.991986   \n",
       "\n",
       "   419.37nm  424.38nm  429.38nm  ...  1020.10nm  1025.55nm  1031.00nm  \\\n",
       "0  0.953222  0.872113  0.728557  ...   0.477751   0.481703   0.487756   \n",
       "1  0.953823  0.873235  0.731307  ...   0.478158   0.482184   0.488387   \n",
       "2  0.953378  0.872248  0.728564  ...   0.477288   0.481155   0.487180   \n",
       "3  0.952935  0.871801  0.728091  ...   0.477015   0.480936   0.486965   \n",
       "4  0.953458  0.873161  0.732385  ...   0.477190   0.481269   0.487589   \n",
       "\n",
       "   1036.46nm  1041.92nm  1047.38nm  1052.85nm  1058.32nm  1063.79nm  Class  \n",
       "0   0.497647   0.513220   0.528185   0.544014   0.562675   0.583122     19  \n",
       "1   0.498356   0.514065   0.529189   0.545075   0.563809   0.584472     19  \n",
       "2   0.497018   0.512569   0.527521   0.543329   0.561971   0.582424     19  \n",
       "3   0.496816   0.512370   0.527352   0.543177   0.561848   0.582337     19  \n",
       "4   0.497584   0.513355   0.528691   0.544639   0.563497   0.584432     19  \n",
       "\n",
       "[5 rows x 132 columns]"
      ]
     },
     "execution_count": 22,
     "metadata": {},
     "output_type": "execute_result"
    }
   ],
   "source": [
    "df.head()"
   ]
  },
  {
   "cell_type": "code",
   "execution_count": 23,
   "metadata": {},
   "outputs": [],
   "source": [
    "df.drop('Concentration',axis=1,inplace=True)"
   ]
  },
  {
   "cell_type": "code",
   "execution_count": 24,
   "metadata": {},
   "outputs": [],
   "source": [
    "X=df"
   ]
  },
  {
   "cell_type": "markdown",
   "metadata": {},
   "source": [
    "# Splitting the dataset"
   ]
  },
  {
   "cell_type": "code",
   "execution_count": 25,
   "metadata": {},
   "outputs": [],
   "source": [
    "from sklearn.model_selection import train_test_split"
   ]
  },
  {
   "cell_type": "markdown",
   "metadata": {},
   "source": [
    "# 7:3"
   ]
  },
  {
   "cell_type": "code",
   "execution_count": 26,
   "metadata": {},
   "outputs": [],
   "source": [
    "X_train,X_test,y_train,y_test=train_test_split(X,Y,test_size=0.3,random_state=42,shuffle=True)"
   ]
  },
  {
   "cell_type": "markdown",
   "metadata": {},
   "source": [
    "# Linear Regression"
   ]
  },
  {
   "cell_type": "code",
   "execution_count": 27,
   "metadata": {},
   "outputs": [],
   "source": [
    "from sklearn.linear_model import LinearRegression\n",
    "from sklearn.metrics import mean_squared_error, explained_variance_score, median_absolute_error\n",
    "from sklearn.metrics import r2_score, mean_absolute_error, mean_squared_log_error, max_error\n"
   ]
  },
  {
   "cell_type": "code",
   "execution_count": 28,
   "metadata": {},
   "outputs": [],
   "source": [
    "# Initialize the Linear Regression model\n",
    "model = LinearRegression()"
   ]
  },
  {
   "cell_type": "code",
   "execution_count": 29,
   "metadata": {},
   "outputs": [
    {
     "data": {
      "text/html": [
       "<style>#sk-container-id-1 {color: black;}#sk-container-id-1 pre{padding: 0;}#sk-container-id-1 div.sk-toggleable {background-color: white;}#sk-container-id-1 label.sk-toggleable__label {cursor: pointer;display: block;width: 100%;margin-bottom: 0;padding: 0.3em;box-sizing: border-box;text-align: center;}#sk-container-id-1 label.sk-toggleable__label-arrow:before {content: \"▸\";float: left;margin-right: 0.25em;color: #696969;}#sk-container-id-1 label.sk-toggleable__label-arrow:hover:before {color: black;}#sk-container-id-1 div.sk-estimator:hover label.sk-toggleable__label-arrow:before {color: black;}#sk-container-id-1 div.sk-toggleable__content {max-height: 0;max-width: 0;overflow: hidden;text-align: left;background-color: #f0f8ff;}#sk-container-id-1 div.sk-toggleable__content pre {margin: 0.2em;color: black;border-radius: 0.25em;background-color: #f0f8ff;}#sk-container-id-1 input.sk-toggleable__control:checked~div.sk-toggleable__content {max-height: 200px;max-width: 100%;overflow: auto;}#sk-container-id-1 input.sk-toggleable__control:checked~label.sk-toggleable__label-arrow:before {content: \"▾\";}#sk-container-id-1 div.sk-estimator input.sk-toggleable__control:checked~label.sk-toggleable__label {background-color: #d4ebff;}#sk-container-id-1 div.sk-label input.sk-toggleable__control:checked~label.sk-toggleable__label {background-color: #d4ebff;}#sk-container-id-1 input.sk-hidden--visually {border: 0;clip: rect(1px 1px 1px 1px);clip: rect(1px, 1px, 1px, 1px);height: 1px;margin: -1px;overflow: hidden;padding: 0;position: absolute;width: 1px;}#sk-container-id-1 div.sk-estimator {font-family: monospace;background-color: #f0f8ff;border: 1px dotted black;border-radius: 0.25em;box-sizing: border-box;margin-bottom: 0.5em;}#sk-container-id-1 div.sk-estimator:hover {background-color: #d4ebff;}#sk-container-id-1 div.sk-parallel-item::after {content: \"\";width: 100%;border-bottom: 1px solid gray;flex-grow: 1;}#sk-container-id-1 div.sk-label:hover label.sk-toggleable__label {background-color: #d4ebff;}#sk-container-id-1 div.sk-serial::before {content: \"\";position: absolute;border-left: 1px solid gray;box-sizing: border-box;top: 0;bottom: 0;left: 50%;z-index: 0;}#sk-container-id-1 div.sk-serial {display: flex;flex-direction: column;align-items: center;background-color: white;padding-right: 0.2em;padding-left: 0.2em;position: relative;}#sk-container-id-1 div.sk-item {position: relative;z-index: 1;}#sk-container-id-1 div.sk-parallel {display: flex;align-items: stretch;justify-content: center;background-color: white;position: relative;}#sk-container-id-1 div.sk-item::before, #sk-container-id-1 div.sk-parallel-item::before {content: \"\";position: absolute;border-left: 1px solid gray;box-sizing: border-box;top: 0;bottom: 0;left: 50%;z-index: -1;}#sk-container-id-1 div.sk-parallel-item {display: flex;flex-direction: column;z-index: 1;position: relative;background-color: white;}#sk-container-id-1 div.sk-parallel-item:first-child::after {align-self: flex-end;width: 50%;}#sk-container-id-1 div.sk-parallel-item:last-child::after {align-self: flex-start;width: 50%;}#sk-container-id-1 div.sk-parallel-item:only-child::after {width: 0;}#sk-container-id-1 div.sk-dashed-wrapped {border: 1px dashed gray;margin: 0 0.4em 0.5em 0.4em;box-sizing: border-box;padding-bottom: 0.4em;background-color: white;}#sk-container-id-1 div.sk-label label {font-family: monospace;font-weight: bold;display: inline-block;line-height: 1.2em;}#sk-container-id-1 div.sk-label-container {text-align: center;}#sk-container-id-1 div.sk-container {/* jupyter's `normalize.less` sets `[hidden] { display: none; }` but bootstrap.min.css set `[hidden] { display: none !important; }` so we also need the `!important` here to be able to override the default hidden behavior on the sphinx rendered scikit-learn.org. See: https://github.com/scikit-learn/scikit-learn/issues/21755 */display: inline-block !important;position: relative;}#sk-container-id-1 div.sk-text-repr-fallback {display: none;}</style><div id=\"sk-container-id-1\" class=\"sk-top-container\"><div class=\"sk-text-repr-fallback\"><pre>LinearRegression()</pre><b>In a Jupyter environment, please rerun this cell to show the HTML representation or trust the notebook. <br />On GitHub, the HTML representation is unable to render, please try loading this page with nbviewer.org.</b></div><div class=\"sk-container\" hidden><div class=\"sk-item\"><div class=\"sk-estimator sk-toggleable\"><input class=\"sk-toggleable__control sk-hidden--visually\" id=\"sk-estimator-id-1\" type=\"checkbox\" checked><label for=\"sk-estimator-id-1\" class=\"sk-toggleable__label sk-toggleable__label-arrow\">LinearRegression</label><div class=\"sk-toggleable__content\"><pre>LinearRegression()</pre></div></div></div></div></div>"
      ],
      "text/plain": [
       "LinearRegression()"
      ]
     },
     "execution_count": 29,
     "metadata": {},
     "output_type": "execute_result"
    }
   ],
   "source": [
    "# Fit the model to the training data\n",
    "model.fit(X_train, y_train)"
   ]
  },
  {
   "cell_type": "code",
   "execution_count": 30,
   "metadata": {},
   "outputs": [],
   "source": [
    "\n",
    "# Make predictions on the testing data\n",
    "y_pred = model.predict(X_test)"
   ]
  },
  {
   "cell_type": "code",
   "execution_count": 31,
   "metadata": {},
   "outputs": [
    {
     "name": "stdout",
     "output_type": "stream",
     "text": [
      "Mean Squared Error: 1.6076478733345836\n"
     ]
    }
   ],
   "source": [
    "\n",
    "# Calculate Mean Squared Error (MSE) as a measure of model performance\n",
    "mse = mean_squared_error(y_test, y_pred)\n",
    "print(f\"Mean Squared Error: {mse}\")"
   ]
  },
  {
   "cell_type": "code",
   "execution_count": 32,
   "metadata": {},
   "outputs": [
    {
     "name": "stdout",
     "output_type": "stream",
     "text": [
      "Mean Squared Logarithmic Error: 0.012944812617170016\n"
     ]
    }
   ],
   "source": [
    "# Calculate Mean Squared Logarithmic Error (MSLE)\n",
    "msle = mean_squared_log_error(y_test, y_pred)\n",
    "print(\"Mean Squared Logarithmic Error:\", msle)"
   ]
  },
  {
   "cell_type": "code",
   "execution_count": 33,
   "metadata": {},
   "outputs": [
    {
     "name": "stdout",
     "output_type": "stream",
     "text": [
      "Mean Squared Percentage Error: 1.8462891775937291\n"
     ]
    }
   ],
   "source": [
    "# Calculate Mean Squared Percentage Error (MSPE)\n",
    "mspe = np.mean(np.square((y_test - y_pred) / y_test)) * 100\n",
    "print(\"Mean Squared Percentage Error:\", mspe)"
   ]
  },
  {
   "cell_type": "code",
   "execution_count": 34,
   "metadata": {},
   "outputs": [
    {
     "name": "stdout",
     "output_type": "stream",
     "text": [
      "Mean Absolute Error: 0.9686179208765655\n"
     ]
    }
   ],
   "source": [
    "# Calculate Mean Absolute Error (MAE)\n",
    "mae = mean_absolute_error(y_test, y_pred)\n",
    "print(\"Mean Absolute Error:\", mae)"
   ]
  },
  {
   "cell_type": "code",
   "execution_count": 35,
   "metadata": {},
   "outputs": [
    {
     "name": "stdout",
     "output_type": "stream",
     "text": [
      "Median Absolute Error: 0.7766025904206799\n"
     ]
    }
   ],
   "source": [
    "# Calculate Median Absolute Error\n",
    "median_absolute_err = median_absolute_error(y_test, y_pred)\n",
    "print(\"Median Absolute Error:\", median_absolute_err)"
   ]
  },
  {
   "cell_type": "code",
   "execution_count": 36,
   "metadata": {},
   "outputs": [
    {
     "name": "stdout",
     "output_type": "stream",
     "text": [
      "Mean Absolute Percentage Error: 8.461455975850301\n"
     ]
    }
   ],
   "source": [
    "# Calculate Mean Absolute Percentage Error (MAPE)\n",
    "mape = np.mean(np.abs((y_test - y_pred) / y_test)) * 100\n",
    "print(\"Mean Absolute Percentage Error:\", mape)"
   ]
  },
  {
   "cell_type": "code",
   "execution_count": 37,
   "metadata": {},
   "outputs": [
    {
     "name": "stdout",
     "output_type": "stream",
     "text": [
      "R-squared: 0.9947908774196826\n"
     ]
    }
   ],
   "source": [
    "# Calculate R-squared (coefficient of determination)\n",
    "r2 = r2_score(y_test, y_pred)\n",
    "print(\"R-squared:\", r2)"
   ]
  },
  {
   "cell_type": "code",
   "execution_count": 38,
   "metadata": {},
   "outputs": [
    {
     "name": "stdout",
     "output_type": "stream",
     "text": [
      "Max Error: 8.353921368790452\n"
     ]
    }
   ],
   "source": [
    "# Calculate Max Error\n",
    "max_err = max_error(y_test, y_pred)\n",
    "print(\"Max Error:\", max_err)"
   ]
  },
  {
   "cell_type": "code",
   "execution_count": 39,
   "metadata": {},
   "outputs": [
    {
     "name": "stdout",
     "output_type": "stream",
     "text": [
      "Explained Variance Score: 0.9947914311811991\n"
     ]
    }
   ],
   "source": [
    "# Calculate Explained Variance Score\n",
    "explained_variance = explained_variance_score(y_test, y_pred)\n",
    "print(\"Explained Variance Score:\", explained_variance)"
   ]
  },
  {
   "cell_type": "markdown",
   "metadata": {},
   "source": [
    "# Random Forest Regressor"
   ]
  },
  {
   "cell_type": "code",
   "execution_count": 40,
   "metadata": {},
   "outputs": [],
   "source": [
    "from sklearn.ensemble import RandomForestRegressor"
   ]
  },
  {
   "cell_type": "code",
   "execution_count": 41,
   "metadata": {},
   "outputs": [],
   "source": [
    "# Initialize the Random Forest Regressor\n",
    "rf_regressor = RandomForestRegressor(n_estimators=100, random_state=42)\n"
   ]
  },
  {
   "cell_type": "code",
   "execution_count": 42,
   "metadata": {},
   "outputs": [
    {
     "data": {
      "text/html": [
       "<style>#sk-container-id-2 {color: black;}#sk-container-id-2 pre{padding: 0;}#sk-container-id-2 div.sk-toggleable {background-color: white;}#sk-container-id-2 label.sk-toggleable__label {cursor: pointer;display: block;width: 100%;margin-bottom: 0;padding: 0.3em;box-sizing: border-box;text-align: center;}#sk-container-id-2 label.sk-toggleable__label-arrow:before {content: \"▸\";float: left;margin-right: 0.25em;color: #696969;}#sk-container-id-2 label.sk-toggleable__label-arrow:hover:before {color: black;}#sk-container-id-2 div.sk-estimator:hover label.sk-toggleable__label-arrow:before {color: black;}#sk-container-id-2 div.sk-toggleable__content {max-height: 0;max-width: 0;overflow: hidden;text-align: left;background-color: #f0f8ff;}#sk-container-id-2 div.sk-toggleable__content pre {margin: 0.2em;color: black;border-radius: 0.25em;background-color: #f0f8ff;}#sk-container-id-2 input.sk-toggleable__control:checked~div.sk-toggleable__content {max-height: 200px;max-width: 100%;overflow: auto;}#sk-container-id-2 input.sk-toggleable__control:checked~label.sk-toggleable__label-arrow:before {content: \"▾\";}#sk-container-id-2 div.sk-estimator input.sk-toggleable__control:checked~label.sk-toggleable__label {background-color: #d4ebff;}#sk-container-id-2 div.sk-label input.sk-toggleable__control:checked~label.sk-toggleable__label {background-color: #d4ebff;}#sk-container-id-2 input.sk-hidden--visually {border: 0;clip: rect(1px 1px 1px 1px);clip: rect(1px, 1px, 1px, 1px);height: 1px;margin: -1px;overflow: hidden;padding: 0;position: absolute;width: 1px;}#sk-container-id-2 div.sk-estimator {font-family: monospace;background-color: #f0f8ff;border: 1px dotted black;border-radius: 0.25em;box-sizing: border-box;margin-bottom: 0.5em;}#sk-container-id-2 div.sk-estimator:hover {background-color: #d4ebff;}#sk-container-id-2 div.sk-parallel-item::after {content: \"\";width: 100%;border-bottom: 1px solid gray;flex-grow: 1;}#sk-container-id-2 div.sk-label:hover label.sk-toggleable__label {background-color: #d4ebff;}#sk-container-id-2 div.sk-serial::before {content: \"\";position: absolute;border-left: 1px solid gray;box-sizing: border-box;top: 0;bottom: 0;left: 50%;z-index: 0;}#sk-container-id-2 div.sk-serial {display: flex;flex-direction: column;align-items: center;background-color: white;padding-right: 0.2em;padding-left: 0.2em;position: relative;}#sk-container-id-2 div.sk-item {position: relative;z-index: 1;}#sk-container-id-2 div.sk-parallel {display: flex;align-items: stretch;justify-content: center;background-color: white;position: relative;}#sk-container-id-2 div.sk-item::before, #sk-container-id-2 div.sk-parallel-item::before {content: \"\";position: absolute;border-left: 1px solid gray;box-sizing: border-box;top: 0;bottom: 0;left: 50%;z-index: -1;}#sk-container-id-2 div.sk-parallel-item {display: flex;flex-direction: column;z-index: 1;position: relative;background-color: white;}#sk-container-id-2 div.sk-parallel-item:first-child::after {align-self: flex-end;width: 50%;}#sk-container-id-2 div.sk-parallel-item:last-child::after {align-self: flex-start;width: 50%;}#sk-container-id-2 div.sk-parallel-item:only-child::after {width: 0;}#sk-container-id-2 div.sk-dashed-wrapped {border: 1px dashed gray;margin: 0 0.4em 0.5em 0.4em;box-sizing: border-box;padding-bottom: 0.4em;background-color: white;}#sk-container-id-2 div.sk-label label {font-family: monospace;font-weight: bold;display: inline-block;line-height: 1.2em;}#sk-container-id-2 div.sk-label-container {text-align: center;}#sk-container-id-2 div.sk-container {/* jupyter's `normalize.less` sets `[hidden] { display: none; }` but bootstrap.min.css set `[hidden] { display: none !important; }` so we also need the `!important` here to be able to override the default hidden behavior on the sphinx rendered scikit-learn.org. See: https://github.com/scikit-learn/scikit-learn/issues/21755 */display: inline-block !important;position: relative;}#sk-container-id-2 div.sk-text-repr-fallback {display: none;}</style><div id=\"sk-container-id-2\" class=\"sk-top-container\"><div class=\"sk-text-repr-fallback\"><pre>RandomForestRegressor(random_state=42)</pre><b>In a Jupyter environment, please rerun this cell to show the HTML representation or trust the notebook. <br />On GitHub, the HTML representation is unable to render, please try loading this page with nbviewer.org.</b></div><div class=\"sk-container\" hidden><div class=\"sk-item\"><div class=\"sk-estimator sk-toggleable\"><input class=\"sk-toggleable__control sk-hidden--visually\" id=\"sk-estimator-id-2\" type=\"checkbox\" checked><label for=\"sk-estimator-id-2\" class=\"sk-toggleable__label sk-toggleable__label-arrow\">RandomForestRegressor</label><div class=\"sk-toggleable__content\"><pre>RandomForestRegressor(random_state=42)</pre></div></div></div></div></div>"
      ],
      "text/plain": [
       "RandomForestRegressor(random_state=42)"
      ]
     },
     "execution_count": 42,
     "metadata": {},
     "output_type": "execute_result"
    }
   ],
   "source": [
    "\n",
    "# Fit the model to the training data\n",
    "rf_regressor.fit(X_train, y_train)"
   ]
  },
  {
   "cell_type": "code",
   "execution_count": 43,
   "metadata": {},
   "outputs": [],
   "source": [
    "\n",
    "# Predict the concentrations on the testing data\n",
    "y_pred = rf_regressor.predict(X_test)"
   ]
  },
  {
   "cell_type": "code",
   "execution_count": 44,
   "metadata": {},
   "outputs": [
    {
     "name": "stdout",
     "output_type": "stream",
     "text": [
      "Mean Squared Logarithmic Error: 0.0017560699451221844\n",
      "Mean Squared Error: 0.24939415708812257\n",
      "Mean Squared Percentage Error: 0.26632550766283525\n",
      "Mean Absolute Error: 0.1146551724137931\n",
      "Mean Absolute Percentage Error: 1.3980363984674327\n",
      "Median Absolute Error: 0.0\n",
      "R-squared: 0.9991919096484777\n",
      "Max Error: 19.75\n",
      "Explained Variance Score: 0.9991919318048138\n"
     ]
    }
   ],
   "source": [
    "# Calculate Mean Squared Logarithmic Error (MSLE)\n",
    "msle = mean_squared_log_error(y_test, y_pred)\n",
    "print(\"Mean Squared Logarithmic Error:\", msle)\n",
    "\n",
    "# Calculate the Mean Squared Error\n",
    "mse = mean_squared_error(y_test, y_pred)\n",
    "print(\"Mean Squared Error:\", mse)\n",
    "\n",
    "# Calculate Mean Squared Percentage Error (MSPE)\n",
    "mspe = np.mean(np.square((y_test - y_pred) / y_test)) * 100\n",
    "print(\"Mean Squared Percentage Error:\", mspe)\n",
    "\n",
    "# Calculate Mean Absolute Error (MAE)\n",
    "mae = mean_absolute_error(y_test, y_pred)\n",
    "print(\"Mean Absolute Error:\", mae)\n",
    "\n",
    "# Calculate Mean Absolute Percentage Error (MAPE)\n",
    "mape = np.mean(np.abs((y_test - y_pred) / y_test)) * 100\n",
    "print(\"Mean Absolute Percentage Error:\", mape)\n",
    "\n",
    "# Calculate Median Absolute Error\n",
    "medae = median_absolute_error(y_test, y_pred)\n",
    "print(\"Median Absolute Error:\", medae)\n",
    "\n",
    "# Calculate R-squared (coefficient of determination)\n",
    "r2 = r2_score(y_test, y_pred)\n",
    "print(\"R-squared:\", r2)\n",
    "\n",
    "# Calculate Max Error\n",
    "max_err = max_error(y_test, y_pred)\n",
    "print(\"Max Error:\", max_err)\n",
    "\n",
    "# Calculate Explained Variance Score\n",
    "explained_variance = explained_variance_score(y_test, y_pred)\n",
    "print(\"Explained Variance Score:\", explained_variance)"
   ]
  },
  {
   "cell_type": "markdown",
   "metadata": {},
   "source": [
    "# MLP Regressor"
   ]
  },
  {
   "cell_type": "code",
   "execution_count": 45,
   "metadata": {},
   "outputs": [],
   "source": [
    "from sklearn.neural_network import MLPRegressor"
   ]
  },
  {
   "cell_type": "code",
   "execution_count": 46,
   "metadata": {},
   "outputs": [],
   "source": [
    "# Standardize features\n",
    "scaler = StandardScaler()\n",
    "X_train_scaled = scaler.fit_transform(X_train)\n",
    "X_test_scaled = scaler.transform(X_test)\n"
   ]
  },
  {
   "cell_type": "code",
   "execution_count": 47,
   "metadata": {},
   "outputs": [],
   "source": [
    "# Initialize the MLPRegressor (neural network) model\n",
    "mlp_regressor = MLPRegressor(hidden_layer_sizes=(100, 50), activation='relu', solver='adam', random_state=42)\n"
   ]
  },
  {
   "cell_type": "code",
   "execution_count": 48,
   "metadata": {},
   "outputs": [
    {
     "data": {
      "text/html": [
       "<style>#sk-container-id-3 {color: black;}#sk-container-id-3 pre{padding: 0;}#sk-container-id-3 div.sk-toggleable {background-color: white;}#sk-container-id-3 label.sk-toggleable__label {cursor: pointer;display: block;width: 100%;margin-bottom: 0;padding: 0.3em;box-sizing: border-box;text-align: center;}#sk-container-id-3 label.sk-toggleable__label-arrow:before {content: \"▸\";float: left;margin-right: 0.25em;color: #696969;}#sk-container-id-3 label.sk-toggleable__label-arrow:hover:before {color: black;}#sk-container-id-3 div.sk-estimator:hover label.sk-toggleable__label-arrow:before {color: black;}#sk-container-id-3 div.sk-toggleable__content {max-height: 0;max-width: 0;overflow: hidden;text-align: left;background-color: #f0f8ff;}#sk-container-id-3 div.sk-toggleable__content pre {margin: 0.2em;color: black;border-radius: 0.25em;background-color: #f0f8ff;}#sk-container-id-3 input.sk-toggleable__control:checked~div.sk-toggleable__content {max-height: 200px;max-width: 100%;overflow: auto;}#sk-container-id-3 input.sk-toggleable__control:checked~label.sk-toggleable__label-arrow:before {content: \"▾\";}#sk-container-id-3 div.sk-estimator input.sk-toggleable__control:checked~label.sk-toggleable__label {background-color: #d4ebff;}#sk-container-id-3 div.sk-label input.sk-toggleable__control:checked~label.sk-toggleable__label {background-color: #d4ebff;}#sk-container-id-3 input.sk-hidden--visually {border: 0;clip: rect(1px 1px 1px 1px);clip: rect(1px, 1px, 1px, 1px);height: 1px;margin: -1px;overflow: hidden;padding: 0;position: absolute;width: 1px;}#sk-container-id-3 div.sk-estimator {font-family: monospace;background-color: #f0f8ff;border: 1px dotted black;border-radius: 0.25em;box-sizing: border-box;margin-bottom: 0.5em;}#sk-container-id-3 div.sk-estimator:hover {background-color: #d4ebff;}#sk-container-id-3 div.sk-parallel-item::after {content: \"\";width: 100%;border-bottom: 1px solid gray;flex-grow: 1;}#sk-container-id-3 div.sk-label:hover label.sk-toggleable__label {background-color: #d4ebff;}#sk-container-id-3 div.sk-serial::before {content: \"\";position: absolute;border-left: 1px solid gray;box-sizing: border-box;top: 0;bottom: 0;left: 50%;z-index: 0;}#sk-container-id-3 div.sk-serial {display: flex;flex-direction: column;align-items: center;background-color: white;padding-right: 0.2em;padding-left: 0.2em;position: relative;}#sk-container-id-3 div.sk-item {position: relative;z-index: 1;}#sk-container-id-3 div.sk-parallel {display: flex;align-items: stretch;justify-content: center;background-color: white;position: relative;}#sk-container-id-3 div.sk-item::before, #sk-container-id-3 div.sk-parallel-item::before {content: \"\";position: absolute;border-left: 1px solid gray;box-sizing: border-box;top: 0;bottom: 0;left: 50%;z-index: -1;}#sk-container-id-3 div.sk-parallel-item {display: flex;flex-direction: column;z-index: 1;position: relative;background-color: white;}#sk-container-id-3 div.sk-parallel-item:first-child::after {align-self: flex-end;width: 50%;}#sk-container-id-3 div.sk-parallel-item:last-child::after {align-self: flex-start;width: 50%;}#sk-container-id-3 div.sk-parallel-item:only-child::after {width: 0;}#sk-container-id-3 div.sk-dashed-wrapped {border: 1px dashed gray;margin: 0 0.4em 0.5em 0.4em;box-sizing: border-box;padding-bottom: 0.4em;background-color: white;}#sk-container-id-3 div.sk-label label {font-family: monospace;font-weight: bold;display: inline-block;line-height: 1.2em;}#sk-container-id-3 div.sk-label-container {text-align: center;}#sk-container-id-3 div.sk-container {/* jupyter's `normalize.less` sets `[hidden] { display: none; }` but bootstrap.min.css set `[hidden] { display: none !important; }` so we also need the `!important` here to be able to override the default hidden behavior on the sphinx rendered scikit-learn.org. See: https://github.com/scikit-learn/scikit-learn/issues/21755 */display: inline-block !important;position: relative;}#sk-container-id-3 div.sk-text-repr-fallback {display: none;}</style><div id=\"sk-container-id-3\" class=\"sk-top-container\"><div class=\"sk-text-repr-fallback\"><pre>MLPRegressor(hidden_layer_sizes=(100, 50), random_state=42)</pre><b>In a Jupyter environment, please rerun this cell to show the HTML representation or trust the notebook. <br />On GitHub, the HTML representation is unable to render, please try loading this page with nbviewer.org.</b></div><div class=\"sk-container\" hidden><div class=\"sk-item\"><div class=\"sk-estimator sk-toggleable\"><input class=\"sk-toggleable__control sk-hidden--visually\" id=\"sk-estimator-id-3\" type=\"checkbox\" checked><label for=\"sk-estimator-id-3\" class=\"sk-toggleable__label sk-toggleable__label-arrow\">MLPRegressor</label><div class=\"sk-toggleable__content\"><pre>MLPRegressor(hidden_layer_sizes=(100, 50), random_state=42)</pre></div></div></div></div></div>"
      ],
      "text/plain": [
       "MLPRegressor(hidden_layer_sizes=(100, 50), random_state=42)"
      ]
     },
     "execution_count": 48,
     "metadata": {},
     "output_type": "execute_result"
    }
   ],
   "source": [
    "# Fit the model to the scaled training data\n",
    "mlp_regressor.fit(X_train_scaled, y_train)\n"
   ]
  },
  {
   "cell_type": "code",
   "execution_count": 49,
   "metadata": {},
   "outputs": [],
   "source": [
    "# Predict the concentrations on the scaled testing data\n",
    "y_pred = mlp_regressor.predict(X_test_scaled)"
   ]
  },
  {
   "cell_type": "code",
   "execution_count": 50,
   "metadata": {},
   "outputs": [
    {
     "name": "stdout",
     "output_type": "stream",
     "text": [
      "Mean Squared Logarithmic Error: 0.0043126130233442726\n",
      "Mean Squared Error: 0.4050728824483903\n",
      "Mean Squared Percentage Error: 0.6608569823892747\n",
      "Mean Absolute Error: 0.4777690686052705\n",
      "Mean Absolute Percentage Error: 4.671541834825694\n",
      "Median Absolute Error: 0.3698738045667316\n",
      "R-squared: 0.998687477317866\n",
      "Max Error: 3.5296351455827324\n",
      "Explained Variance Score: 0.998726178630479\n"
     ]
    }
   ],
   "source": [
    "# Calculate Mean Squared Logarithmic Error (MSLE)\n",
    "msle = mean_squared_log_error(y_test, y_pred)\n",
    "print(\"Mean Squared Logarithmic Error:\", msle)\n",
    "\n",
    "# Calculate the Mean Squared Error\n",
    "mse = mean_squared_error(y_test, y_pred)\n",
    "print(\"Mean Squared Error:\", mse)\n",
    "\n",
    "# Calculate Mean Squared Percentage Error (MSPE)\n",
    "mspe = np.mean(np.square((y_test - y_pred) / y_test)) * 100\n",
    "print(\"Mean Squared Percentage Error:\", mspe)\n",
    "\n",
    "# Calculate Mean Absolute Error (MAE)\n",
    "mae = mean_absolute_error(y_test, y_pred)\n",
    "print(\"Mean Absolute Error:\", mae)\n",
    "\n",
    "# Calculate Mean Absolute Percentage Error (MAPE)\n",
    "mape = np.mean(np.abs((y_test - y_pred) / y_test)) * 100\n",
    "print(\"Mean Absolute Percentage Error:\", mape)\n",
    "\n",
    "# Calculate Median Absolute Error\n",
    "medae = median_absolute_error(y_test, y_pred)\n",
    "print(\"Median Absolute Error:\", medae)\n",
    "\n",
    "# Calculate R-squared (coefficient of determination)\n",
    "r2 = r2_score(y_test, y_pred)\n",
    "print(\"R-squared:\", r2)\n",
    "\n",
    "# Calculate Max Error\n",
    "max_err = max_error(y_test, y_pred)\n",
    "print(\"Max Error:\", max_err)\n",
    "\n",
    "# Calculate Explained Variance Score\n",
    "explained_variance = explained_variance_score(y_test, y_pred)\n",
    "print(\"Explained Variance Score:\", explained_variance)"
   ]
  },
  {
   "cell_type": "markdown",
   "metadata": {},
   "source": [
    "# SVR regressor"
   ]
  },
  {
   "cell_type": "code",
   "execution_count": 83,
   "metadata": {},
   "outputs": [],
   "source": [
    "from sklearn.svm import SVR"
   ]
  },
  {
   "cell_type": "code",
   "execution_count": 84,
   "metadata": {},
   "outputs": [],
   "source": [
    "# Standardize features\n",
    "scaler = StandardScaler()\n",
    "X_train_scaled = scaler.fit_transform(X_train)\n",
    "X_test_scaled = scaler.transform(X_test)\n"
   ]
  },
  {
   "cell_type": "code",
   "execution_count": 85,
   "metadata": {},
   "outputs": [],
   "source": [
    "# Initialize the SVR model\n",
    "svr_regressor = SVR(kernel='rbf')"
   ]
  },
  {
   "cell_type": "code",
   "execution_count": 86,
   "metadata": {},
   "outputs": [
    {
     "data": {
      "text/html": [
       "<style>#sk-container-id-8 {color: black;}#sk-container-id-8 pre{padding: 0;}#sk-container-id-8 div.sk-toggleable {background-color: white;}#sk-container-id-8 label.sk-toggleable__label {cursor: pointer;display: block;width: 100%;margin-bottom: 0;padding: 0.3em;box-sizing: border-box;text-align: center;}#sk-container-id-8 label.sk-toggleable__label-arrow:before {content: \"▸\";float: left;margin-right: 0.25em;color: #696969;}#sk-container-id-8 label.sk-toggleable__label-arrow:hover:before {color: black;}#sk-container-id-8 div.sk-estimator:hover label.sk-toggleable__label-arrow:before {color: black;}#sk-container-id-8 div.sk-toggleable__content {max-height: 0;max-width: 0;overflow: hidden;text-align: left;background-color: #f0f8ff;}#sk-container-id-8 div.sk-toggleable__content pre {margin: 0.2em;color: black;border-radius: 0.25em;background-color: #f0f8ff;}#sk-container-id-8 input.sk-toggleable__control:checked~div.sk-toggleable__content {max-height: 200px;max-width: 100%;overflow: auto;}#sk-container-id-8 input.sk-toggleable__control:checked~label.sk-toggleable__label-arrow:before {content: \"▾\";}#sk-container-id-8 div.sk-estimator input.sk-toggleable__control:checked~label.sk-toggleable__label {background-color: #d4ebff;}#sk-container-id-8 div.sk-label input.sk-toggleable__control:checked~label.sk-toggleable__label {background-color: #d4ebff;}#sk-container-id-8 input.sk-hidden--visually {border: 0;clip: rect(1px 1px 1px 1px);clip: rect(1px, 1px, 1px, 1px);height: 1px;margin: -1px;overflow: hidden;padding: 0;position: absolute;width: 1px;}#sk-container-id-8 div.sk-estimator {font-family: monospace;background-color: #f0f8ff;border: 1px dotted black;border-radius: 0.25em;box-sizing: border-box;margin-bottom: 0.5em;}#sk-container-id-8 div.sk-estimator:hover {background-color: #d4ebff;}#sk-container-id-8 div.sk-parallel-item::after {content: \"\";width: 100%;border-bottom: 1px solid gray;flex-grow: 1;}#sk-container-id-8 div.sk-label:hover label.sk-toggleable__label {background-color: #d4ebff;}#sk-container-id-8 div.sk-serial::before {content: \"\";position: absolute;border-left: 1px solid gray;box-sizing: border-box;top: 0;bottom: 0;left: 50%;z-index: 0;}#sk-container-id-8 div.sk-serial {display: flex;flex-direction: column;align-items: center;background-color: white;padding-right: 0.2em;padding-left: 0.2em;position: relative;}#sk-container-id-8 div.sk-item {position: relative;z-index: 1;}#sk-container-id-8 div.sk-parallel {display: flex;align-items: stretch;justify-content: center;background-color: white;position: relative;}#sk-container-id-8 div.sk-item::before, #sk-container-id-8 div.sk-parallel-item::before {content: \"\";position: absolute;border-left: 1px solid gray;box-sizing: border-box;top: 0;bottom: 0;left: 50%;z-index: -1;}#sk-container-id-8 div.sk-parallel-item {display: flex;flex-direction: column;z-index: 1;position: relative;background-color: white;}#sk-container-id-8 div.sk-parallel-item:first-child::after {align-self: flex-end;width: 50%;}#sk-container-id-8 div.sk-parallel-item:last-child::after {align-self: flex-start;width: 50%;}#sk-container-id-8 div.sk-parallel-item:only-child::after {width: 0;}#sk-container-id-8 div.sk-dashed-wrapped {border: 1px dashed gray;margin: 0 0.4em 0.5em 0.4em;box-sizing: border-box;padding-bottom: 0.4em;background-color: white;}#sk-container-id-8 div.sk-label label {font-family: monospace;font-weight: bold;display: inline-block;line-height: 1.2em;}#sk-container-id-8 div.sk-label-container {text-align: center;}#sk-container-id-8 div.sk-container {/* jupyter's `normalize.less` sets `[hidden] { display: none; }` but bootstrap.min.css set `[hidden] { display: none !important; }` so we also need the `!important` here to be able to override the default hidden behavior on the sphinx rendered scikit-learn.org. See: https://github.com/scikit-learn/scikit-learn/issues/21755 */display: inline-block !important;position: relative;}#sk-container-id-8 div.sk-text-repr-fallback {display: none;}</style><div id=\"sk-container-id-8\" class=\"sk-top-container\"><div class=\"sk-text-repr-fallback\"><pre>SVR()</pre><b>In a Jupyter environment, please rerun this cell to show the HTML representation or trust the notebook. <br />On GitHub, the HTML representation is unable to render, please try loading this page with nbviewer.org.</b></div><div class=\"sk-container\" hidden><div class=\"sk-item\"><div class=\"sk-estimator sk-toggleable\"><input class=\"sk-toggleable__control sk-hidden--visually\" id=\"sk-estimator-id-8\" type=\"checkbox\" checked><label for=\"sk-estimator-id-8\" class=\"sk-toggleable__label sk-toggleable__label-arrow\">SVR</label><div class=\"sk-toggleable__content\"><pre>SVR()</pre></div></div></div></div></div>"
      ],
      "text/plain": [
       "SVR()"
      ]
     },
     "execution_count": 86,
     "metadata": {},
     "output_type": "execute_result"
    }
   ],
   "source": [
    "\n",
    "# Fit the model to the scaled training data\n",
    "svr_regressor.fit(X_train_scaled, y_train)"
   ]
  },
  {
   "cell_type": "code",
   "execution_count": 87,
   "metadata": {},
   "outputs": [],
   "source": [
    "\n",
    "# Predict the concentrations on the scaled testing data\n",
    "y_pred = svr_regressor.predict(X_test_scaled)"
   ]
  },
  {
   "cell_type": "code",
   "execution_count": 88,
   "metadata": {},
   "outputs": [
    {
     "name": "stdout",
     "output_type": "stream",
     "text": [
      "Mean Squared Error: 3.6219294809382854\n",
      "Mean Squared Percentage Error: 3.2068665183215925\n",
      "Mean Absolute Error: 1.43458358731237\n",
      "Mean Absolute Percentage Error: 11.68820259867852\n",
      "Median Absolute Error: 1.1030607014643685\n",
      "R-squared: 0.988187705760071\n",
      "Max Error: 9.5213502646955\n",
      "Explained Variance Score: 0.9881878105887176\n"
     ]
    }
   ],
   "source": [
    "# Calculate Mean Squared Logarithmic Error (MSLE)\n",
    "#msle = mean_squared_log_error(y_test, y_pred)\n",
    "#print(\"Mean Squared Logarithmic Error:\", msle)\n",
    "\n",
    "# Calculate the Mean Squared Error\n",
    "mse = mean_squared_error(y_test, y_pred)\n",
    "print(\"Mean Squared Error:\", mse)\n",
    "\n",
    "# Calculate Mean Squared Percentage Error (MSPE)\n",
    "mspe = np.mean(np.square((y_test - y_pred) / y_test)) * 100\n",
    "print(\"Mean Squared Percentage Error:\", mspe)\n",
    "\n",
    "# Calculate Mean Absolute Error (MAE)\n",
    "mae = mean_absolute_error(y_test, y_pred)\n",
    "print(\"Mean Absolute Error:\", mae)\n",
    "\n",
    "# Calculate Mean Absolute Percentage Error (MAPE)\n",
    "mape = np.mean(np.abs((y_test - y_pred) / y_test)) * 100\n",
    "print(\"Mean Absolute Percentage Error:\", mape)\n",
    "\n",
    "# Calculate Median Absolute Error\n",
    "medae = median_absolute_error(y_test, y_pred)\n",
    "print(\"Median Absolute Error:\", medae)\n",
    "\n",
    "# Calculate R-squared (coefficient of determination)\n",
    "r2 = r2_score(y_test, y_pred)\n",
    "print(\"R-squared:\", r2)\n",
    "\n",
    "# Calculate Max Error\n",
    "max_err = max_error(y_test, y_pred)\n",
    "print(\"Max Error:\", max_err)\n",
    "\n",
    "# Calculate Explained Variance Score\n",
    "explained_variance = explained_variance_score(y_test, y_pred)\n",
    "print(\"Explained Variance Score:\", explained_variance)"
   ]
  },
  {
   "cell_type": "markdown",
   "metadata": {},
   "source": [
    "# KNN"
   ]
  },
  {
   "cell_type": "code",
   "execution_count": 89,
   "metadata": {},
   "outputs": [
    {
     "data": {
      "text/plain": [
       "0.9992816091954023"
      ]
     },
     "execution_count": 89,
     "metadata": {},
     "output_type": "execute_result"
    }
   ],
   "source": [
    "from sklearn.neighbors import KNeighborsClassifier\n",
    "\n",
    "clf = KNeighborsClassifier(n_neighbors=3)\n",
    "clf.fit(X_train, y_train)\n",
    "\n",
    "X_test = X_test.values\n",
    "\n",
    "y_pred = clf.predict(X_test)\n",
    "accuracy_score(y_test, y_pred)"
   ]
  },
  {
   "cell_type": "code",
   "execution_count": 90,
   "metadata": {},
   "outputs": [
    {
     "data": {
      "image/png": "[encoded data removed]",
      "text/plain": [
       "<Figure size 640x480 with 1 Axes>"
      ]
     },
     "metadata": {},
     "output_type": "display_data"
    }
   ],
   "source": [
    "import warnings\n",
    "from sklearn.neighbors import KNeighborsClassifier\n",
    "import matplotlib.pyplot as plt\n",
    "\n",
    "# Suppress all warnings\n",
    "warnings.filterwarnings(\"ignore\")\n",
    "\n",
    "# Initialize lists to store results\n",
    "n_neighbors_values = []\n",
    "accuracy_values = []\n",
    "\n",
    "# Test different values of n_neighbors\n",
    "for n_neighbors in range(1, 21):\n",
    "    # Initialize the KNeighborsClassifier with the current n_neighbors value\n",
    "    clf = KNeighborsClassifier(n_neighbors=n_neighbors)\n",
    "    \n",
    "    # Fit the model to the training data\n",
    "    clf.fit(X_train, y_train)\n",
    "    \n",
    "    # Make predictions on the testing data\n",
    "    y_pred = clf.predict(X_test)\n",
    "    \n",
    "    # Calculate accuracy and store the values\n",
    "    accuracy = accuracy_score(y_test, y_pred)\n",
    "    n_neighbors_values.append(n_neighbors)\n",
    "    accuracy_values.append(accuracy)\n",
    "\n",
    "# Plot the accuracy values\n",
    "plt.plot(n_neighbors_values, accuracy_values, marker='o')\n",
    "plt.xlabel('n_neighbors')\n",
    "plt.ylabel('Accuracy')\n",
    "plt.title('Accuracy vs. n_neighbors for KNN')\n",
    "plt.xticks(n_neighbors_values)\n",
    "plt.grid()\n",
    "plt.show()\n"
   ]
  },
  {
   "cell_type": "code",
   "execution_count": 91,
   "metadata": {},
   "outputs": [
    {
     "name": "stdout",
     "output_type": "stream",
     "text": [
      "confusion matrix:\n",
      " [[1744    6    0    0]\n",
      " [  20 1668    0    0]\n",
      " [   0    0 1771    1]\n",
      " [   0    0    0 1750]]\n"
     ]
    }
   ],
   "source": [
    "\n",
    "# # Calculate the confusion matrix\n",
    "cm = confusion_matrix(y_test, y_pred)\n",
    "print(\"confusion matrix:\\n\",cm)\n"
   ]
  },
  {
   "cell_type": "code",
   "execution_count": 92,
   "metadata": {},
   "outputs": [],
   "source": [
    "# Extract values from the confusion matrix\n",
    "true_negatives = cm[0, 0]\n",
    "false_positives = cm[0, 1]\n",
    "false_negatives = cm[1, 0]\n",
    "true_positives = cm[1, 1]\n"
   ]
  },
  {
   "cell_type": "code",
   "execution_count": 93,
   "metadata": {},
   "outputs": [
    {
     "name": "stdout",
     "output_type": "stream",
     "text": [
      "False Positive Rate (FPR): 0.0034285714285714284\n"
     ]
    }
   ],
   "source": [
    "\n",
    "# Calculate False Positive Rate (FPR)\n",
    "fpr = false_positives / (false_positives + true_negatives)\n",
    "print(\"False Positive Rate (FPR):\", fpr)"
   ]
  },
  {
   "cell_type": "code",
   "execution_count": 94,
   "metadata": {},
   "outputs": [
    {
     "name": "stdout",
     "output_type": "stream",
     "text": [
      "False Negative Rate (FNR): 0.011848341232227487\n"
     ]
    }
   ],
   "source": [
    "# Calculate False Negative Rate (FNR)\n",
    "fnr = false_negatives / (false_negatives + true_positives)\n",
    "print(\"False Negative Rate (FNR):\", fnr)"
   ]
  },
  {
   "cell_type": "code",
   "execution_count": 95,
   "metadata": {},
   "outputs": [
    {
     "name": "stdout",
     "output_type": "stream",
     "text": [
      "Recall: 0.9881516587677726\n"
     ]
    }
   ],
   "source": [
    "# Calculate Recall (True Positive Rate)\n",
    "recall = true_positives / (true_positives + false_negatives)\n",
    "print(\"Recall:\", recall)"
   ]
  },
  {
   "cell_type": "code",
   "execution_count": 96,
   "metadata": {},
   "outputs": [
    {
     "name": "stdout",
     "output_type": "stream",
     "text": [
      "Precision: 0.996415770609319\n"
     ]
    }
   ],
   "source": [
    "# Calculate Precision\n",
    "precision = true_positives / (true_positives + false_positives)\n",
    "print(\"Precision:\", precision)"
   ]
  },
  {
   "cell_type": "code",
   "execution_count": 97,
   "metadata": {},
   "outputs": [
    {
     "name": "stdout",
     "output_type": "stream",
     "text": [
      "F-beta (beta=2, average='macro'): 0.9960517917173612\n"
     ]
    }
   ],
   "source": [
    "from sklearn.metrics import fbeta_score\n",
    "\n",
    "# Calculate the F-beta score with the 'macro' average option\n",
    "beta = 2  # You can adjust the value of beta as needed\n",
    "f_beta_macro = fbeta_score(y_test, y_pred, beta=beta, average='macro')\n",
    "print(f\"F-beta (beta={beta}, average='macro'):\", f_beta_macro)\n"
   ]
  },
  {
   "cell_type": "code",
   "execution_count": 98,
   "metadata": {},
   "outputs": [
    {
     "data": {
      "text/plain": [
       "0.9948269064509677"
      ]
     },
     "execution_count": 98,
     "metadata": {},
     "output_type": "execute_result"
    }
   ],
   "source": [
    "\n",
    "# Calculate Cohen's Kappa\n",
    "cohen_kappa_score(y_test, y_pred)"
   ]
  },
  {
   "cell_type": "code",
   "execution_count": 99,
   "metadata": {},
   "outputs": [
    {
     "name": "stdout",
     "output_type": "stream",
     "text": [
      "F1-score: 0.9922665080309341\n"
     ]
    }
   ],
   "source": [
    "# F1-score = 2 * (Precision * Recall) / (Precision + Recall)\n",
    "F1score = 2 * (precision * recall) / (precision + recall)\n",
    "print(\"F1-score:\", F1score)"
   ]
  },
  {
   "cell_type": "markdown",
   "metadata": {},
   "source": [
    "# 8:2"
   ]
  },
  {
   "cell_type": "code",
   "execution_count": 100,
   "metadata": {},
   "outputs": [],
   "source": [
    "X_train,X_test,y_train,y_test=train_test_split(X,Y,test_size=0.2,random_state=42,shuffle=True)"
   ]
  },
  {
   "cell_type": "markdown",
   "metadata": {},
   "source": [
    "# Linear Regression"
   ]
  },
  {
   "cell_type": "code",
   "execution_count": 101,
   "metadata": {},
   "outputs": [],
   "source": [
    "# Initialize the Linear Regression model\n",
    "model = LinearRegression()\n",
    "\n",
    "# Fit the model to the training data\n",
    "model.fit(X_train, y_train)\n",
    "\n",
    "# Make predictions on the testing data\n",
    "y_pred = model.predict(X_test)"
   ]
  },
  {
   "cell_type": "code",
   "execution_count": 102,
   "metadata": {},
   "outputs": [
    {
     "name": "stdout",
     "output_type": "stream",
     "text": [
      "Mean Squared Logarithmic Error: 0.012363527649049804\n",
      "Mean Squared Error: 1.5878353557061384\n",
      "Mean Squared Percentage Error: 1.788038275460192\n",
      "Mean Absolute Error: 0.9694387130208739\n",
      "Mean Absolute Percentage Error: 8.397854871375058\n",
      "Median Absolute Error: 0.7837045838314225\n",
      "R-squared: 0.9948215506334749\n",
      "Max Error: 7.5275175843054285\n",
      "Explained Variance Score: 0.9948215546888871\n"
     ]
    }
   ],
   "source": [
    "# Calculate Mean Squared Logarithmic Error (MSLE)\n",
    "msle = mean_squared_log_error(y_test, y_pred)\n",
    "print(\"Mean Squared Logarithmic Error:\", msle)\n",
    "\n",
    "# Calculate the Mean Squared Error\n",
    "mse = mean_squared_error(y_test, y_pred)\n",
    "print(\"Mean Squared Error:\", mse)\n",
    "\n",
    "# Calculate Mean Squared Percentage Error (MSPE)\n",
    "mspe = np.mean(np.square((y_test - y_pred) / y_test)) * 100\n",
    "print(\"Mean Squared Percentage Error:\", mspe)\n",
    "\n",
    "# Calculate Mean Absolute Error (MAE)\n",
    "mae = mean_absolute_error(y_test, y_pred)\n",
    "print(\"Mean Absolute Error:\", mae)\n",
    "\n",
    "# Calculate Mean Absolute Percentage Error (MAPE)\n",
    "mape = np.mean(np.abs((y_test - y_pred) / y_test)) * 100\n",
    "print(\"Mean Absolute Percentage Error:\", mape)\n",
    "\n",
    "# Calculate Median Absolute Error\n",
    "medae = median_absolute_error(y_test, y_pred)\n",
    "print(\"Median Absolute Error:\", medae)\n",
    "\n",
    "# Calculate R-squared (coefficient of determination)\n",
    "r2 = r2_score(y_test, y_pred)\n",
    "print(\"R-squared:\", r2)\n",
    "\n",
    "# Calculate Max Error\n",
    "max_err = max_error(y_test, y_pred)\n",
    "print(\"Max Error:\", max_err)\n",
    "\n",
    "# Calculate Explained Variance Score\n",
    "explained_variance = explained_variance_score(y_test, y_pred)\n",
    "print(\"Explained Variance Score:\", explained_variance)"
   ]
  },
  {
   "cell_type": "markdown",
   "metadata": {},
   "source": [
    "# Random Forest Regressor"
   ]
  },
  {
   "cell_type": "code",
   "execution_count": 103,
   "metadata": {},
   "outputs": [],
   "source": [
    "from sklearn.ensemble import RandomForestRegressor\n",
    "\n",
    "# Initialize the Random Forest Regressor\n",
    "rf_regressor = RandomForestRegressor(n_estimators=100, random_state=42)"
   ]
  },
  {
   "cell_type": "code",
   "execution_count": 104,
   "metadata": {},
   "outputs": [
    {
     "data": {
      "text/html": [
       "<style>#sk-container-id-9 {color: black;}#sk-container-id-9 pre{padding: 0;}#sk-container-id-9 div.sk-toggleable {background-color: white;}#sk-container-id-9 label.sk-toggleable__label {cursor: pointer;display: block;width: 100%;margin-bottom: 0;padding: 0.3em;box-sizing: border-box;text-align: center;}#sk-container-id-9 label.sk-toggleable__label-arrow:before {content: \"▸\";float: left;margin-right: 0.25em;color: #696969;}#sk-container-id-9 label.sk-toggleable__label-arrow:hover:before {color: black;}#sk-container-id-9 div.sk-estimator:hover label.sk-toggleable__label-arrow:before {color: black;}#sk-container-id-9 div.sk-toggleable__content {max-height: 0;max-width: 0;overflow: hidden;text-align: left;background-color: #f0f8ff;}#sk-container-id-9 div.sk-toggleable__content pre {margin: 0.2em;color: black;border-radius: 0.25em;background-color: #f0f8ff;}#sk-container-id-9 input.sk-toggleable__control:checked~div.sk-toggleable__content {max-height: 200px;max-width: 100%;overflow: auto;}#sk-container-id-9 input.sk-toggleable__control:checked~label.sk-toggleable__label-arrow:before {content: \"▾\";}#sk-container-id-9 div.sk-estimator input.sk-toggleable__control:checked~label.sk-toggleable__label {background-color: #d4ebff;}#sk-container-id-9 div.sk-label input.sk-toggleable__control:checked~label.sk-toggleable__label {background-color: #d4ebff;}#sk-container-id-9 input.sk-hidden--visually {border: 0;clip: rect(1px 1px 1px 1px);clip: rect(1px, 1px, 1px, 1px);height: 1px;margin: -1px;overflow: hidden;padding: 0;position: absolute;width: 1px;}#sk-container-id-9 div.sk-estimator {font-family: monospace;background-color: #f0f8ff;border: 1px dotted black;border-radius: 0.25em;box-sizing: border-box;margin-bottom: 0.5em;}#sk-container-id-9 div.sk-estimator:hover {background-color: #d4ebff;}#sk-container-id-9 div.sk-parallel-item::after {content: \"\";width: 100%;border-bottom: 1px solid gray;flex-grow: 1;}#sk-container-id-9 div.sk-label:hover label.sk-toggleable__label {background-color: #d4ebff;}#sk-container-id-9 div.sk-serial::before {content: \"\";position: absolute;border-left: 1px solid gray;box-sizing: border-box;top: 0;bottom: 0;left: 50%;z-index: 0;}#sk-container-id-9 div.sk-serial {display: flex;flex-direction: column;align-items: center;background-color: white;padding-right: 0.2em;padding-left: 0.2em;position: relative;}#sk-container-id-9 div.sk-item {position: relative;z-index: 1;}#sk-container-id-9 div.sk-parallel {display: flex;align-items: stretch;justify-content: center;background-color: white;position: relative;}#sk-container-id-9 div.sk-item::before, #sk-container-id-9 div.sk-parallel-item::before {content: \"\";position: absolute;border-left: 1px solid gray;box-sizing: border-box;top: 0;bottom: 0;left: 50%;z-index: -1;}#sk-container-id-9 div.sk-parallel-item {display: flex;flex-direction: column;z-index: 1;position: relative;background-color: white;}#sk-container-id-9 div.sk-parallel-item:first-child::after {align-self: flex-end;width: 50%;}#sk-container-id-9 div.sk-parallel-item:last-child::after {align-self: flex-start;width: 50%;}#sk-container-id-9 div.sk-parallel-item:only-child::after {width: 0;}#sk-container-id-9 div.sk-dashed-wrapped {border: 1px dashed gray;margin: 0 0.4em 0.5em 0.4em;box-sizing: border-box;padding-bottom: 0.4em;background-color: white;}#sk-container-id-9 div.sk-label label {font-family: monospace;font-weight: bold;display: inline-block;line-height: 1.2em;}#sk-container-id-9 div.sk-label-container {text-align: center;}#sk-container-id-9 div.sk-container {/* jupyter's `normalize.less` sets `[hidden] { display: none; }` but bootstrap.min.css set `[hidden] { display: none !important; }` so we also need the `!important` here to be able to override the default hidden behavior on the sphinx rendered scikit-learn.org. See: https://github.com/scikit-learn/scikit-learn/issues/21755 */display: inline-block !important;position: relative;}#sk-container-id-9 div.sk-text-repr-fallback {display: none;}</style><div id=\"sk-container-id-9\" class=\"sk-top-container\"><div class=\"sk-text-repr-fallback\"><pre>RandomForestRegressor(random_state=42)</pre><b>In a Jupyter environment, please rerun this cell to show the HTML representation or trust the notebook. <br />On GitHub, the HTML representation is unable to render, please try loading this page with nbviewer.org.</b></div><div class=\"sk-container\" hidden><div class=\"sk-item\"><div class=\"sk-estimator sk-toggleable\"><input class=\"sk-toggleable__control sk-hidden--visually\" id=\"sk-estimator-id-9\" type=\"checkbox\" checked><label for=\"sk-estimator-id-9\" class=\"sk-toggleable__label sk-toggleable__label-arrow\">RandomForestRegressor</label><div class=\"sk-toggleable__content\"><pre>RandomForestRegressor(random_state=42)</pre></div></div></div></div></div>"
      ],
      "text/plain": [
       "RandomForestRegressor(random_state=42)"
      ]
     },
     "execution_count": 104,
     "metadata": {},
     "output_type": "execute_result"
    }
   ],
   "source": [
    "# Fit the model to the training data\n",
    "rf_regressor.fit(X_train, y_train)"
   ]
  },
  {
   "cell_type": "code",
   "execution_count": 105,
   "metadata": {},
   "outputs": [],
   "source": [
    "# Predict the concentrations on the testing data\n",
    "y_pred = rf_regressor.predict(X_test)"
   ]
  },
  {
   "cell_type": "code",
   "execution_count": 106,
   "metadata": {},
   "outputs": [
    {
     "name": "stdout",
     "output_type": "stream",
     "text": [
      "Mean Squared Logarithmic Error: 0.001409818291147406\n",
      "Mean Squared Error: 0.2556479885057471\n",
      "Mean Squared Percentage Error: 0.2143607471264368\n",
      "Mean Absolute Error: 0.10170977011494252\n",
      "Mean Absolute Percentage Error: 1.1952298850574712\n",
      "Median Absolute Error: 0.0\n",
      "R-squared: 0.9991662484656401\n",
      "Max Error: 15.0\n",
      "Explained Variance Score: 0.9991662486837728\n"
     ]
    }
   ],
   "source": [
    "# Calculate Mean Squared Logarithmic Error (MSLE)\n",
    "msle = mean_squared_log_error(y_test, y_pred)\n",
    "print(\"Mean Squared Logarithmic Error:\", msle)\n",
    "\n",
    "# Calculate the Mean Squared Error\n",
    "mse = mean_squared_error(y_test, y_pred)\n",
    "print(\"Mean Squared Error:\", mse)\n",
    "\n",
    "# Calculate Mean Squared Percentage Error (MSPE)\n",
    "mspe = np.mean(np.square((y_test - y_pred) / y_test)) * 100\n",
    "print(\"Mean Squared Percentage Error:\", mspe)\n",
    "\n",
    "# Calculate Mean Absolute Error (MAE)\n",
    "mae = mean_absolute_error(y_test, y_pred)\n",
    "print(\"Mean Absolute Error:\", mae)\n",
    "\n",
    "# Calculate Mean Absolute Percentage Error (MAPE)\n",
    "mape = np.mean(np.abs((y_test - y_pred) / y_test)) * 100\n",
    "print(\"Mean Absolute Percentage Error:\", mape)\n",
    "\n",
    "# Calculate Median Absolute Error\n",
    "medae = median_absolute_error(y_test, y_pred)\n",
    "print(\"Median Absolute Error:\", medae)\n",
    "\n",
    "# Calculate R-squared (coefficient of determination)\n",
    "r2 = r2_score(y_test, y_pred)\n",
    "print(\"R-squared:\", r2)\n",
    "\n",
    "# Calculate Max Error\n",
    "max_err = max_error(y_test, y_pred)\n",
    "print(\"Max Error:\", max_err)\n",
    "\n",
    "# Calculate Explained Variance Score\n",
    "explained_variance = explained_variance_score(y_test, y_pred)\n",
    "print(\"Explained Variance Score:\", explained_variance)"
   ]
  },
  {
   "cell_type": "markdown",
   "metadata": {},
   "source": [
    "# MLP Regressor"
   ]
  },
  {
   "cell_type": "code",
   "execution_count": 107,
   "metadata": {},
   "outputs": [],
   "source": [
    "# Standardize features\n",
    "scaler = StandardScaler()\n",
    "X_train_scaled = scaler.fit_transform(X_train)\n",
    "X_test_scaled = scaler.transform(X_test)\n",
    "\n",
    "# Initialize the MLPRegressor (neural network) model\n",
    "mlp_regressor = MLPRegressor(hidden_layer_sizes=(100, 50), activation='relu', solver='adam', random_state=42)"
   ]
  },
  {
   "cell_type": "code",
   "execution_count": 108,
   "metadata": {},
   "outputs": [
    {
     "data": {
      "text/html": [
       "<style>#sk-container-id-10 {color: black;}#sk-container-id-10 pre{padding: 0;}#sk-container-id-10 div.sk-toggleable {background-color: white;}#sk-container-id-10 label.sk-toggleable__label {cursor: pointer;display: block;width: 100%;margin-bottom: 0;padding: 0.3em;box-sizing: border-box;text-align: center;}#sk-container-id-10 label.sk-toggleable__label-arrow:before {content: \"▸\";float: left;margin-right: 0.25em;color: #696969;}#sk-container-id-10 label.sk-toggleable__label-arrow:hover:before {color: black;}#sk-container-id-10 div.sk-estimator:hover label.sk-toggleable__label-arrow:before {color: black;}#sk-container-id-10 div.sk-toggleable__content {max-height: 0;max-width: 0;overflow: hidden;text-align: left;background-color: #f0f8ff;}#sk-container-id-10 div.sk-toggleable__content pre {margin: 0.2em;color: black;border-radius: 0.25em;background-color: #f0f8ff;}#sk-container-id-10 input.sk-toggleable__control:checked~div.sk-toggleable__content {max-height: 200px;max-width: 100%;overflow: auto;}#sk-container-id-10 input.sk-toggleable__control:checked~label.sk-toggleable__label-arrow:before {content: \"▾\";}#sk-container-id-10 div.sk-estimator input.sk-toggleable__control:checked~label.sk-toggleable__label {background-color: #d4ebff;}#sk-container-id-10 div.sk-label input.sk-toggleable__control:checked~label.sk-toggleable__label {background-color: #d4ebff;}#sk-container-id-10 input.sk-hidden--visually {border: 0;clip: rect(1px 1px 1px 1px);clip: rect(1px, 1px, 1px, 1px);height: 1px;margin: -1px;overflow: hidden;padding: 0;position: absolute;width: 1px;}#sk-container-id-10 div.sk-estimator {font-family: monospace;background-color: #f0f8ff;border: 1px dotted black;border-radius: 0.25em;box-sizing: border-box;margin-bottom: 0.5em;}#sk-container-id-10 div.sk-estimator:hover {background-color: #d4ebff;}#sk-container-id-10 div.sk-parallel-item::after {content: \"\";width: 100%;border-bottom: 1px solid gray;flex-grow: 1;}#sk-container-id-10 div.sk-label:hover label.sk-toggleable__label {background-color: #d4ebff;}#sk-container-id-10 div.sk-serial::before {content: \"\";position: absolute;border-left: 1px solid gray;box-sizing: border-box;top: 0;bottom: 0;left: 50%;z-index: 0;}#sk-container-id-10 div.sk-serial {display: flex;flex-direction: column;align-items: center;background-color: white;padding-right: 0.2em;padding-left: 0.2em;position: relative;}#sk-container-id-10 div.sk-item {position: relative;z-index: 1;}#sk-container-id-10 div.sk-parallel {display: flex;align-items: stretch;justify-content: center;background-color: white;position: relative;}#sk-container-id-10 div.sk-item::before, #sk-container-id-10 div.sk-parallel-item::before {content: \"\";position: absolute;border-left: 1px solid gray;box-sizing: border-box;top: 0;bottom: 0;left: 50%;z-index: -1;}#sk-container-id-10 div.sk-parallel-item {display: flex;flex-direction: column;z-index: 1;position: relative;background-color: white;}#sk-container-id-10 div.sk-parallel-item:first-child::after {align-self: flex-end;width: 50%;}#sk-container-id-10 div.sk-parallel-item:last-child::after {align-self: flex-start;width: 50%;}#sk-container-id-10 div.sk-parallel-item:only-child::after {width: 0;}#sk-container-id-10 div.sk-dashed-wrapped {border: 1px dashed gray;margin: 0 0.4em 0.5em 0.4em;box-sizing: border-box;padding-bottom: 0.4em;background-color: white;}#sk-container-id-10 div.sk-label label {font-family: monospace;font-weight: bold;display: inline-block;line-height: 1.2em;}#sk-container-id-10 div.sk-label-container {text-align: center;}#sk-container-id-10 div.sk-container {/* jupyter's `normalize.less` sets `[hidden] { display: none; }` but bootstrap.min.css set `[hidden] { display: none !important; }` so we also need the `!important` here to be able to override the default hidden behavior on the sphinx rendered scikit-learn.org. See: https://github.com/scikit-learn/scikit-learn/issues/21755 */display: inline-block !important;position: relative;}#sk-container-id-10 div.sk-text-repr-fallback {display: none;}</style><div id=\"sk-container-id-10\" class=\"sk-top-container\"><div class=\"sk-text-repr-fallback\"><pre>MLPRegressor(hidden_layer_sizes=(100, 50), random_state=42)</pre><b>In a Jupyter environment, please rerun this cell to show the HTML representation or trust the notebook. <br />On GitHub, the HTML representation is unable to render, please try loading this page with nbviewer.org.</b></div><div class=\"sk-container\" hidden><div class=\"sk-item\"><div class=\"sk-estimator sk-toggleable\"><input class=\"sk-toggleable__control sk-hidden--visually\" id=\"sk-estimator-id-10\" type=\"checkbox\" checked><label for=\"sk-estimator-id-10\" class=\"sk-toggleable__label sk-toggleable__label-arrow\">MLPRegressor</label><div class=\"sk-toggleable__content\"><pre>MLPRegressor(hidden_layer_sizes=(100, 50), random_state=42)</pre></div></div></div></div></div>"
      ],
      "text/plain": [
       "MLPRegressor(hidden_layer_sizes=(100, 50), random_state=42)"
      ]
     },
     "execution_count": 108,
     "metadata": {},
     "output_type": "execute_result"
    }
   ],
   "source": [
    "# Fit the model to the scaled training data\n",
    "mlp_regressor.fit(X_train_scaled, y_train)"
   ]
  },
  {
   "cell_type": "code",
   "execution_count": 109,
   "metadata": {},
   "outputs": [],
   "source": [
    "# Predict the concentrations on the scaled testing data\n",
    "y_pred = mlp_regressor.predict(X_test_scaled)"
   ]
  },
  {
   "cell_type": "code",
   "execution_count": 110,
   "metadata": {},
   "outputs": [
    {
     "name": "stdout",
     "output_type": "stream",
     "text": [
      "Mean Squared Logarithmic Error: 0.004598826721821659\n",
      "Mean Squared Error: 0.4050258140586802\n",
      "Mean Squared Percentage Error: 0.7166518140937043\n",
      "Mean Absolute Error: 0.47873226228985016\n",
      "Mean Absolute Percentage Error: 4.883403351044559\n",
      "Median Absolute Error: 0.37148811930699743\n",
      "R-squared: 0.9986790786193914\n",
      "Max Error: 3.384956092509917\n",
      "Explained Variance Score: 0.9986948293672542\n"
     ]
    }
   ],
   "source": [
    "# Calculate Mean Squared Logarithmic Error (MSLE)\n",
    "msle = mean_squared_log_error(y_test, y_pred)\n",
    "print(\"Mean Squared Logarithmic Error:\", msle)\n",
    "\n",
    "# Calculate the Mean Squared Error\n",
    "mse = mean_squared_error(y_test, y_pred)\n",
    "print(\"Mean Squared Error:\", mse)\n",
    "\n",
    "# Calculate Mean Squared Percentage Error (MSPE)\n",
    "mspe = np.mean(np.square((y_test - y_pred) / y_test)) * 100\n",
    "print(\"Mean Squared Percentage Error:\", mspe)\n",
    "\n",
    "# Calculate Mean Absolute Error (MAE)\n",
    "mae = mean_absolute_error(y_test, y_pred)\n",
    "print(\"Mean Absolute Error:\", mae)\n",
    "\n",
    "# Calculate Mean Absolute Percentage Error (MAPE)\n",
    "mape = np.mean(np.abs((y_test - y_pred) / y_test)) * 100\n",
    "print(\"Mean Absolute Percentage Error:\", mape)\n",
    "\n",
    "# Calculate Median Absolute Error\n",
    "medae = median_absolute_error(y_test, y_pred)\n",
    "print(\"Median Absolute Error:\", medae)\n",
    "\n",
    "# Calculate R-squared (coefficient of determination)\n",
    "r2 = r2_score(y_test, y_pred)\n",
    "print(\"R-squared:\", r2)\n",
    "\n",
    "# Calculate Max Error\n",
    "max_err = max_error(y_test, y_pred)\n",
    "print(\"Max Error:\", max_err)\n",
    "\n",
    "# Calculate Explained Variance Score\n",
    "explained_variance = explained_variance_score(y_test, y_pred)\n",
    "print(\"Explained Variance Score:\", explained_variance)"
   ]
  },
  {
   "cell_type": "markdown",
   "metadata": {},
   "source": [
    "# SVR regressor"
   ]
  },
  {
   "cell_type": "code",
   "execution_count": 111,
   "metadata": {},
   "outputs": [],
   "source": [
    "from sklearn.svm import SVR\n",
    "\n",
    "# Standardize features\n",
    "scaler = StandardScaler()\n",
    "X_train_scaled = scaler.fit_transform(X_train)\n",
    "X_test_scaled = scaler.transform(X_test)\n",
    "\n",
    "# Initialize the SVR model\n",
    "svr_regressor = SVR(kernel='rbf')"
   ]
  },
  {
   "cell_type": "code",
   "execution_count": 112,
   "metadata": {},
   "outputs": [
    {
     "data": {
      "text/html": [
       "<style>#sk-container-id-11 {color: black;}#sk-container-id-11 pre{padding: 0;}#sk-container-id-11 div.sk-toggleable {background-color: white;}#sk-container-id-11 label.sk-toggleable__label {cursor: pointer;display: block;width: 100%;margin-bottom: 0;padding: 0.3em;box-sizing: border-box;text-align: center;}#sk-container-id-11 label.sk-toggleable__label-arrow:before {content: \"▸\";float: left;margin-right: 0.25em;color: #696969;}#sk-container-id-11 label.sk-toggleable__label-arrow:hover:before {color: black;}#sk-container-id-11 div.sk-estimator:hover label.sk-toggleable__label-arrow:before {color: black;}#sk-container-id-11 div.sk-toggleable__content {max-height: 0;max-width: 0;overflow: hidden;text-align: left;background-color: #f0f8ff;}#sk-container-id-11 div.sk-toggleable__content pre {margin: 0.2em;color: black;border-radius: 0.25em;background-color: #f0f8ff;}#sk-container-id-11 input.sk-toggleable__control:checked~div.sk-toggleable__content {max-height: 200px;max-width: 100%;overflow: auto;}#sk-container-id-11 input.sk-toggleable__control:checked~label.sk-toggleable__label-arrow:before {content: \"▾\";}#sk-container-id-11 div.sk-estimator input.sk-toggleable__control:checked~label.sk-toggleable__label {background-color: #d4ebff;}#sk-container-id-11 div.sk-label input.sk-toggleable__control:checked~label.sk-toggleable__label {background-color: #d4ebff;}#sk-container-id-11 input.sk-hidden--visually {border: 0;clip: rect(1px 1px 1px 1px);clip: rect(1px, 1px, 1px, 1px);height: 1px;margin: -1px;overflow: hidden;padding: 0;position: absolute;width: 1px;}#sk-container-id-11 div.sk-estimator {font-family: monospace;background-color: #f0f8ff;border: 1px dotted black;border-radius: 0.25em;box-sizing: border-box;margin-bottom: 0.5em;}#sk-container-id-11 div.sk-estimator:hover {background-color: #d4ebff;}#sk-container-id-11 div.sk-parallel-item::after {content: \"\";width: 100%;border-bottom: 1px solid gray;flex-grow: 1;}#sk-container-id-11 div.sk-label:hover label.sk-toggleable__label {background-color: #d4ebff;}#sk-container-id-11 div.sk-serial::before {content: \"\";position: absolute;border-left: 1px solid gray;box-sizing: border-box;top: 0;bottom: 0;left: 50%;z-index: 0;}#sk-container-id-11 div.sk-serial {display: flex;flex-direction: column;align-items: center;background-color: white;padding-right: 0.2em;padding-left: 0.2em;position: relative;}#sk-container-id-11 div.sk-item {position: relative;z-index: 1;}#sk-container-id-11 div.sk-parallel {display: flex;align-items: stretch;justify-content: center;background-color: white;position: relative;}#sk-container-id-11 div.sk-item::before, #sk-container-id-11 div.sk-parallel-item::before {content: \"\";position: absolute;border-left: 1px solid gray;box-sizing: border-box;top: 0;bottom: 0;left: 50%;z-index: -1;}#sk-container-id-11 div.sk-parallel-item {display: flex;flex-direction: column;z-index: 1;position: relative;background-color: white;}#sk-container-id-11 div.sk-parallel-item:first-child::after {align-self: flex-end;width: 50%;}#sk-container-id-11 div.sk-parallel-item:last-child::after {align-self: flex-start;width: 50%;}#sk-container-id-11 div.sk-parallel-item:only-child::after {width: 0;}#sk-container-id-11 div.sk-dashed-wrapped {border: 1px dashed gray;margin: 0 0.4em 0.5em 0.4em;box-sizing: border-box;padding-bottom: 0.4em;background-color: white;}#sk-container-id-11 div.sk-label label {font-family: monospace;font-weight: bold;display: inline-block;line-height: 1.2em;}#sk-container-id-11 div.sk-label-container {text-align: center;}#sk-container-id-11 div.sk-container {/* jupyter's `normalize.less` sets `[hidden] { display: none; }` but bootstrap.min.css set `[hidden] { display: none !important; }` so we also need the `!important` here to be able to override the default hidden behavior on the sphinx rendered scikit-learn.org. See: https://github.com/scikit-learn/scikit-learn/issues/21755 */display: inline-block !important;position: relative;}#sk-container-id-11 div.sk-text-repr-fallback {display: none;}</style><div id=\"sk-container-id-11\" class=\"sk-top-container\"><div class=\"sk-text-repr-fallback\"><pre>SVR()</pre><b>In a Jupyter environment, please rerun this cell to show the HTML representation or trust the notebook. <br />On GitHub, the HTML representation is unable to render, please try loading this page with nbviewer.org.</b></div><div class=\"sk-container\" hidden><div class=\"sk-item\"><div class=\"sk-estimator sk-toggleable\"><input class=\"sk-toggleable__control sk-hidden--visually\" id=\"sk-estimator-id-11\" type=\"checkbox\" checked><label for=\"sk-estimator-id-11\" class=\"sk-toggleable__label sk-toggleable__label-arrow\">SVR</label><div class=\"sk-toggleable__content\"><pre>SVR()</pre></div></div></div></div></div>"
      ],
      "text/plain": [
       "SVR()"
      ]
     },
     "execution_count": 112,
     "metadata": {},
     "output_type": "execute_result"
    }
   ],
   "source": [
    "# Fit the model to the scaled training data\n",
    "svr_regressor.fit(X_train_scaled, y_train)"
   ]
  },
  {
   "cell_type": "code",
   "execution_count": 113,
   "metadata": {},
   "outputs": [],
   "source": [
    "# Predict the concentrations on the scaled testing data\n",
    "y_pred = svr_regressor.predict(X_test_scaled)"
   ]
  },
  {
   "cell_type": "code",
   "execution_count": 114,
   "metadata": {},
   "outputs": [
    {
     "name": "stdout",
     "output_type": "stream",
     "text": [
      "Mean Squared Error: 3.6219294809382854\n",
      "Mean Squared Percentage Error: 3.2068665183215925\n",
      "Mean Absolute Error: 1.43458358731237\n",
      "Mean Absolute Percentage Error: 11.68820259867852\n",
      "Median Absolute Error: 1.1030607014643685\n",
      "R-squared: 0.988187705760071\n",
      "Max Error: 9.5213502646955\n",
      "Explained Variance Score: 0.9881878105887176\n"
     ]
    }
   ],
   "source": [
    "# Calculate Mean Squared Logarithmic Error (MSLE)\n",
    "#msle = mean_squared_log_error(y_test, y_pred)\n",
    "#print(\"Mean Squared Logarithmic Error:\", msle)\n",
    "\n",
    "# Calculate the Mean Squared Error\n",
    "mse = mean_squared_error(y_test, y_pred)\n",
    "print(\"Mean Squared Error:\", mse)\n",
    "\n",
    "# Calculate Mean Squared Percentage Error (MSPE)\n",
    "mspe = np.mean(np.square((y_test - y_pred) / y_test)) * 100\n",
    "print(\"Mean Squared Percentage Error:\", mspe)\n",
    "\n",
    "# Calculate Mean Absolute Error (MAE)\n",
    "mae = mean_absolute_error(y_test, y_pred)\n",
    "print(\"Mean Absolute Error:\", mae)\n",
    "\n",
    "# Calculate Mean Absolute Percentage Error (MAPE)\n",
    "mape = np.mean(np.abs((y_test - y_pred) / y_test)) * 100\n",
    "print(\"Mean Absolute Percentage Error:\", mape)\n",
    "\n",
    "# Calculate Median Absolute Error\n",
    "medae = median_absolute_error(y_test, y_pred)\n",
    "print(\"Median Absolute Error:\", medae)\n",
    "\n",
    "# Calculate R-squared (coefficient of determination)\n",
    "r2 = r2_score(y_test, y_pred)\n",
    "print(\"R-squared:\", r2)\n",
    "\n",
    "# Calculate Max Error\n",
    "max_err = max_error(y_test, y_pred)\n",
    "print(\"Max Error:\", max_err)\n",
    "\n",
    "# Calculate Explained Variance Score\n",
    "explained_variance = explained_variance_score(y_test, y_pred)\n",
    "print(\"Explained Variance Score:\", explained_variance)"
   ]
  },
  {
   "cell_type": "markdown",
   "metadata": {},
   "source": [
    "# KNN"
   ]
  },
  {
   "cell_type": "code",
   "execution_count": 115,
   "metadata": {},
   "outputs": [
    {
     "data": {
      "text/plain": [
       "0.9992816091954023"
      ]
     },
     "execution_count": 115,
     "metadata": {},
     "output_type": "execute_result"
    }
   ],
   "source": [
    "from sklearn.neighbors import KNeighborsClassifier\n",
    "\n",
    "clf = KNeighborsClassifier(n_neighbors=3)\n",
    "clf.fit(X_train, y_train)\n",
    "\n",
    "X_test = X_test.values\n",
    "\n",
    "y_pred = clf.predict(X_test)\n",
    "accuracy_score(y_test, y_pred)"
   ]
  },
  {
   "cell_type": "code",
   "execution_count": 116,
   "metadata": {},
   "outputs": [
    {
     "data": {
      "image/png": "[encoded data removed]",
      "text/plain": [
       "<Figure size 640x480 with 1 Axes>"
      ]
     },
     "metadata": {},
     "output_type": "display_data"
    }
   ],
   "source": [
    "import warnings\n",
    "from sklearn.neighbors import KNeighborsClassifier\n",
    "import matplotlib.pyplot as plt\n",
    "\n",
    "# Suppress all warnings\n",
    "warnings.filterwarnings(\"ignore\")\n",
    "\n",
    "# Initialize lists to store results\n",
    "n_neighbors_values = []\n",
    "accuracy_values = []\n",
    "\n",
    "# Test different values of n_neighbors\n",
    "for n_neighbors in range(1, 21):\n",
    "    # Initialize the KNeighborsClassifier with the current n_neighbors value\n",
    "    clf = KNeighborsClassifier(n_neighbors=n_neighbors)\n",
    "    \n",
    "    # Fit the model to the training data\n",
    "    clf.fit(X_train, y_train)\n",
    "    \n",
    "    # Make predictions on the testing data\n",
    "    y_pred = clf.predict(X_test)\n",
    "    \n",
    "    # Calculate accuracy and store the values\n",
    "    accuracy = accuracy_score(y_test, y_pred)\n",
    "    n_neighbors_values.append(n_neighbors)\n",
    "    accuracy_values.append(accuracy)\n",
    "\n",
    "# Plot the accuracy values\n",
    "plt.plot(n_neighbors_values, accuracy_values, marker='o')\n",
    "plt.xlabel('n_neighbors')\n",
    "plt.ylabel('Accuracy')\n",
    "plt.title('Accuracy vs. n_neighbors for KNN')\n",
    "plt.xticks(n_neighbors_values)\n",
    "plt.grid()\n",
    "plt.show()\n"
   ]
  },
  {
   "cell_type": "code",
   "execution_count": 117,
   "metadata": {},
   "outputs": [
    {
     "name": "stdout",
     "output_type": "stream",
     "text": [
      "confusion matrix:\n",
      " [[1744    6    0    0]\n",
      " [  20 1668    0    0]\n",
      " [   0    0 1771    1]\n",
      " [   0    0    0 1750]]\n"
     ]
    }
   ],
   "source": [
    "\n",
    "# # Calculate the confusion matrix\n",
    "cm = confusion_matrix(y_test, y_pred)\n",
    "print(\"confusion matrix:\\n\",cm)\n"
   ]
  },
  {
   "cell_type": "code",
   "execution_count": 118,
   "metadata": {},
   "outputs": [],
   "source": [
    "# Extract values from the confusion matrix\n",
    "true_negatives = cm[0, 0]\n",
    "false_positives = cm[0, 1]\n",
    "false_negatives = cm[1, 0]\n",
    "true_positives = cm[1, 1]\n"
   ]
  },
  {
   "cell_type": "code",
   "execution_count": 119,
   "metadata": {},
   "outputs": [
    {
     "name": "stdout",
     "output_type": "stream",
     "text": [
      "False Positive Rate (FPR): 0.0034285714285714284\n"
     ]
    }
   ],
   "source": [
    "\n",
    "# Calculate False Positive Rate (FPR)\n",
    "fpr = false_positives / (false_positives + true_negatives)\n",
    "print(\"False Positive Rate (FPR):\", fpr)"
   ]
  },
  {
   "cell_type": "code",
   "execution_count": 120,
   "metadata": {},
   "outputs": [
    {
     "name": "stdout",
     "output_type": "stream",
     "text": [
      "False Negative Rate (FNR): 0.011848341232227487\n"
     ]
    }
   ],
   "source": [
    "# Calculate False Negative Rate (FNR)\n",
    "fnr = false_negatives / (false_negatives + true_positives)\n",
    "print(\"False Negative Rate (FNR):\", fnr)"
   ]
  },
  {
   "cell_type": "code",
   "execution_count": 121,
   "metadata": {},
   "outputs": [
    {
     "name": "stdout",
     "output_type": "stream",
     "text": [
      "Recall: 0.9881516587677726\n"
     ]
    }
   ],
   "source": [
    "# Calculate Recall (True Positive Rate)\n",
    "recall = true_positives / (true_positives + false_negatives)\n",
    "print(\"Recall:\", recall)"
   ]
  },
  {
   "cell_type": "code",
   "execution_count": 122,
   "metadata": {},
   "outputs": [
    {
     "name": "stdout",
     "output_type": "stream",
     "text": [
      "Precision: 0.996415770609319\n"
     ]
    }
   ],
   "source": [
    "# Calculate Precision\n",
    "precision = true_positives / (true_positives + false_positives)\n",
    "print(\"Precision:\", precision)"
   ]
  },
  {
   "cell_type": "code",
   "execution_count": 123,
   "metadata": {},
   "outputs": [
    {
     "name": "stdout",
     "output_type": "stream",
     "text": [
      "F-beta (beta=2, average='macro'): 0.9960517917173612\n"
     ]
    }
   ],
   "source": [
    "from sklearn.metrics import fbeta_score\n",
    "\n",
    "# Calculate the F-beta score with the 'macro' average option\n",
    "beta = 2  # You can adjust the value of beta as needed\n",
    "f_beta_macro = fbeta_score(y_test, y_pred, beta=beta, average='macro')\n",
    "print(f\"F-beta (beta={beta}, average='macro'):\", f_beta_macro)\n"
   ]
  },
  {
   "cell_type": "code",
   "execution_count": 124,
   "metadata": {},
   "outputs": [
    {
     "data": {
      "text/plain": [
       "0.9948269064509677"
      ]
     },
     "execution_count": 124,
     "metadata": {},
     "output_type": "execute_result"
    }
   ],
   "source": [
    "\n",
    "# Calculate Cohen's Kappa\n",
    "cohen_kappa_score(y_test, y_pred)"
   ]
  },
  {
   "cell_type": "code",
   "execution_count": 125,
   "metadata": {},
   "outputs": [
    {
     "name": "stdout",
     "output_type": "stream",
     "text": [
      "F1-score: 0.9922665080309341\n"
     ]
    }
   ],
   "source": [
    "# F1-score = 2 * (Precision * Recall) / (Precision + Recall)\n",
    "F1score = 2 * (precision * recall) / (precision + recall)\n",
    "print(\"F1-score:\", F1score)"
   ]
  },
  {
   "cell_type": "markdown",
   "metadata": {},
   "source": [
    "# 9:1"
   ]
  },
  {
   "cell_type": "code",
   "execution_count": 126,
   "metadata": {},
   "outputs": [],
   "source": [
    "X_train,X_test,y_train,y_test=train_test_split(X,Y,test_size=0.1,random_state=42,shuffle=True)"
   ]
  },
  {
   "cell_type": "markdown",
   "metadata": {},
   "source": [
    "# Linear Regression"
   ]
  },
  {
   "cell_type": "code",
   "execution_count": 127,
   "metadata": {},
   "outputs": [],
   "source": [
    "# Initialize the Linear Regression model\n",
    "model = LinearRegression()\n",
    "\n",
    "# Fit the model to the training data\n",
    "model.fit(X_train, y_train)\n",
    "\n",
    "# Make predictions on the testing data\n",
    "y_pred = model.predict(X_test)"
   ]
  },
  {
   "cell_type": "code",
   "execution_count": 128,
   "metadata": {},
   "outputs": [
    {
     "name": "stdout",
     "output_type": "stream",
     "text": [
      "Mean Squared Logarithmic Error: 0.013001598311287346\n",
      "Mean Squared Error: 1.5697508630307055\n",
      "Mean Squared Percentage Error: 1.8643869787958598\n",
      "Mean Absolute Error: 0.9582142463870076\n",
      "Mean Absolute Percentage Error: 8.440489701736682\n",
      "Median Absolute Error: 0.7698960197049018\n",
      "R-squared: 0.9948183534540256\n",
      "Max Error: 7.482015914374642\n",
      "Explained Variance Score: 0.9948195255852251\n"
     ]
    }
   ],
   "source": [
    "# Calculate Mean Squared Logarithmic Error (MSLE)\n",
    "msle = mean_squared_log_error(y_test, y_pred)\n",
    "print(\"Mean Squared Logarithmic Error:\", msle)\n",
    "\n",
    "# Calculate the Mean Squared Error\n",
    "mse = mean_squared_error(y_test, y_pred)\n",
    "print(\"Mean Squared Error:\", mse)\n",
    "\n",
    "# Calculate Mean Squared Percentage Error (MSPE)\n",
    "mspe = np.mean(np.square((y_test - y_pred) / y_test)) * 100\n",
    "print(\"Mean Squared Percentage Error:\", mspe)\n",
    "\n",
    "# Calculate Mean Absolute Error (MAE)\n",
    "mae = mean_absolute_error(y_test, y_pred)\n",
    "print(\"Mean Absolute Error:\", mae)\n",
    "\n",
    "# Calculate Mean Absolute Percentage Error (MAPE)\n",
    "mape = np.mean(np.abs((y_test - y_pred) / y_test)) * 100\n",
    "print(\"Mean Absolute Percentage Error:\", mape)\n",
    "\n",
    "# Calculate Median Absolute Error\n",
    "medae = median_absolute_error(y_test, y_pred)\n",
    "print(\"Median Absolute Error:\", medae)\n",
    "\n",
    "# Calculate R-squared (coefficient of determination)\n",
    "r2 = r2_score(y_test, y_pred)\n",
    "print(\"R-squared:\", r2)\n",
    "\n",
    "# Calculate Max Error\n",
    "max_err = max_error(y_test, y_pred)\n",
    "print(\"Max Error:\", max_err)\n",
    "\n",
    "# Calculate Explained Variance Score\n",
    "explained_variance = explained_variance_score(y_test, y_pred)\n",
    "print(\"Explained Variance Score:\", explained_variance)"
   ]
  },
  {
   "cell_type": "markdown",
   "metadata": {},
   "source": [
    "# Random Forest Regressor"
   ]
  },
  {
   "cell_type": "code",
   "execution_count": 129,
   "metadata": {},
   "outputs": [],
   "source": [
    "from sklearn.ensemble import RandomForestRegressor\n",
    "\n",
    "# Initialize the Random Forest Regressor\n",
    "rf_regressor = RandomForestRegressor(n_estimators=100, random_state=42)"
   ]
  },
  {
   "cell_type": "code",
   "execution_count": 130,
   "metadata": {},
   "outputs": [
    {
     "data": {
      "text/html": [
       "<style>#sk-container-id-12 {color: black;}#sk-container-id-12 pre{padding: 0;}#sk-container-id-12 div.sk-toggleable {background-color: white;}#sk-container-id-12 label.sk-toggleable__label {cursor: pointer;display: block;width: 100%;margin-bottom: 0;padding: 0.3em;box-sizing: border-box;text-align: center;}#sk-container-id-12 label.sk-toggleable__label-arrow:before {content: \"▸\";float: left;margin-right: 0.25em;color: #696969;}#sk-container-id-12 label.sk-toggleable__label-arrow:hover:before {color: black;}#sk-container-id-12 div.sk-estimator:hover label.sk-toggleable__label-arrow:before {color: black;}#sk-container-id-12 div.sk-toggleable__content {max-height: 0;max-width: 0;overflow: hidden;text-align: left;background-color: #f0f8ff;}#sk-container-id-12 div.sk-toggleable__content pre {margin: 0.2em;color: black;border-radius: 0.25em;background-color: #f0f8ff;}#sk-container-id-12 input.sk-toggleable__control:checked~div.sk-toggleable__content {max-height: 200px;max-width: 100%;overflow: auto;}#sk-container-id-12 input.sk-toggleable__control:checked~label.sk-toggleable__label-arrow:before {content: \"▾\";}#sk-container-id-12 div.sk-estimator input.sk-toggleable__control:checked~label.sk-toggleable__label {background-color: #d4ebff;}#sk-container-id-12 div.sk-label input.sk-toggleable__control:checked~label.sk-toggleable__label {background-color: #d4ebff;}#sk-container-id-12 input.sk-hidden--visually {border: 0;clip: rect(1px 1px 1px 1px);clip: rect(1px, 1px, 1px, 1px);height: 1px;margin: -1px;overflow: hidden;padding: 0;position: absolute;width: 1px;}#sk-container-id-12 div.sk-estimator {font-family: monospace;background-color: #f0f8ff;border: 1px dotted black;border-radius: 0.25em;box-sizing: border-box;margin-bottom: 0.5em;}#sk-container-id-12 div.sk-estimator:hover {background-color: #d4ebff;}#sk-container-id-12 div.sk-parallel-item::after {content: \"\";width: 100%;border-bottom: 1px solid gray;flex-grow: 1;}#sk-container-id-12 div.sk-label:hover label.sk-toggleable__label {background-color: #d4ebff;}#sk-container-id-12 div.sk-serial::before {content: \"\";position: absolute;border-left: 1px solid gray;box-sizing: border-box;top: 0;bottom: 0;left: 50%;z-index: 0;}#sk-container-id-12 div.sk-serial {display: flex;flex-direction: column;align-items: center;background-color: white;padding-right: 0.2em;padding-left: 0.2em;position: relative;}#sk-container-id-12 div.sk-item {position: relative;z-index: 1;}#sk-container-id-12 div.sk-parallel {display: flex;align-items: stretch;justify-content: center;background-color: white;position: relative;}#sk-container-id-12 div.sk-item::before, #sk-container-id-12 div.sk-parallel-item::before {content: \"\";position: absolute;border-left: 1px solid gray;box-sizing: border-box;top: 0;bottom: 0;left: 50%;z-index: -1;}#sk-container-id-12 div.sk-parallel-item {display: flex;flex-direction: column;z-index: 1;position: relative;background-color: white;}#sk-container-id-12 div.sk-parallel-item:first-child::after {align-self: flex-end;width: 50%;}#sk-container-id-12 div.sk-parallel-item:last-child::after {align-self: flex-start;width: 50%;}#sk-container-id-12 div.sk-parallel-item:only-child::after {width: 0;}#sk-container-id-12 div.sk-dashed-wrapped {border: 1px dashed gray;margin: 0 0.4em 0.5em 0.4em;box-sizing: border-box;padding-bottom: 0.4em;background-color: white;}#sk-container-id-12 div.sk-label label {font-family: monospace;font-weight: bold;display: inline-block;line-height: 1.2em;}#sk-container-id-12 div.sk-label-container {text-align: center;}#sk-container-id-12 div.sk-container {/* jupyter's `normalize.less` sets `[hidden] { display: none; }` but bootstrap.min.css set `[hidden] { display: none !important; }` so we also need the `!important` here to be able to override the default hidden behavior on the sphinx rendered scikit-learn.org. See: https://github.com/scikit-learn/scikit-learn/issues/21755 */display: inline-block !important;position: relative;}#sk-container-id-12 div.sk-text-repr-fallback {display: none;}</style><div id=\"sk-container-id-12\" class=\"sk-top-container\"><div class=\"sk-text-repr-fallback\"><pre>RandomForestRegressor(random_state=42)</pre><b>In a Jupyter environment, please rerun this cell to show the HTML representation or trust the notebook. <br />On GitHub, the HTML representation is unable to render, please try loading this page with nbviewer.org.</b></div><div class=\"sk-container\" hidden><div class=\"sk-item\"><div class=\"sk-estimator sk-toggleable\"><input class=\"sk-toggleable__control sk-hidden--visually\" id=\"sk-estimator-id-12\" type=\"checkbox\" checked><label for=\"sk-estimator-id-12\" class=\"sk-toggleable__label sk-toggleable__label-arrow\">RandomForestRegressor</label><div class=\"sk-toggleable__content\"><pre>RandomForestRegressor(random_state=42)</pre></div></div></div></div></div>"
      ],
      "text/plain": [
       "RandomForestRegressor(random_state=42)"
      ]
     },
     "execution_count": 130,
     "metadata": {},
     "output_type": "execute_result"
    }
   ],
   "source": [
    "# Fit the model to the training data\n",
    "rf_regressor.fit(X_train, y_train)"
   ]
  },
  {
   "cell_type": "code",
   "execution_count": 131,
   "metadata": {},
   "outputs": [],
   "source": [
    "# Predict the concentrations on the testing data\n",
    "y_pred = rf_regressor.predict(X_test)"
   ]
  },
  {
   "cell_type": "code",
   "execution_count": 132,
   "metadata": {},
   "outputs": [
    {
     "name": "stdout",
     "output_type": "stream",
     "text": [
      "Mean Squared Logarithmic Error: 0.0015442572026894428\n",
      "Mean Squared Error: 0.32059482758620694\n",
      "Mean Squared Percentage Error: 0.22423206896551728\n",
      "Mean Absolute Error: 0.10109195402298853\n",
      "Mean Absolute Percentage Error: 1.1574712643678162\n",
      "Median Absolute Error: 0.0\n",
      "R-squared: 0.9989417371124664\n",
      "Max Error: 19.5\n",
      "Explained Variance Score: 0.9989417875270731\n"
     ]
    }
   ],
   "source": [
    "# Calculate Mean Squared Logarithmic Error (MSLE)\n",
    "msle = mean_squared_log_error(y_test, y_pred)\n",
    "print(\"Mean Squared Logarithmic Error:\", msle)\n",
    "\n",
    "# Calculate the Mean Squared Error\n",
    "mse = mean_squared_error(y_test, y_pred)\n",
    "print(\"Mean Squared Error:\", mse)\n",
    "\n",
    "# Calculate Mean Squared Percentage Error (MSPE)\n",
    "mspe = np.mean(np.square((y_test - y_pred) / y_test)) * 100\n",
    "print(\"Mean Squared Percentage Error:\", mspe)\n",
    "\n",
    "# Calculate Mean Absolute Error (MAE)\n",
    "mae = mean_absolute_error(y_test, y_pred)\n",
    "print(\"Mean Absolute Error:\", mae)\n",
    "\n",
    "# Calculate Mean Absolute Percentage Error (MAPE)\n",
    "mape = np.mean(np.abs((y_test - y_pred) / y_test)) * 100\n",
    "print(\"Mean Absolute Percentage Error:\", mape)\n",
    "\n",
    "# Calculate Median Absolute Error\n",
    "medae = median_absolute_error(y_test, y_pred)\n",
    "print(\"Median Absolute Error:\", medae)\n",
    "\n",
    "# Calculate R-squared (coefficient of determination)\n",
    "r2 = r2_score(y_test, y_pred)\n",
    "print(\"R-squared:\", r2)\n",
    "\n",
    "# Calculate Max Error\n",
    "max_err = max_error(y_test, y_pred)\n",
    "print(\"Max Error:\", max_err)\n",
    "\n",
    "# Calculate Explained Variance Score\n",
    "explained_variance = explained_variance_score(y_test, y_pred)\n",
    "print(\"Explained Variance Score:\", explained_variance)"
   ]
  },
  {
   "cell_type": "markdown",
   "metadata": {},
   "source": [
    "# MLP Regressor"
   ]
  },
  {
   "cell_type": "code",
   "execution_count": 133,
   "metadata": {},
   "outputs": [],
   "source": [
    "# Standardize features\n",
    "scaler = StandardScaler()\n",
    "X_train_scaled = scaler.fit_transform(X_train)\n",
    "X_test_scaled = scaler.transform(X_test)\n",
    "\n",
    "# Initialize the MLPRegressor (neural network) model\n",
    "mlp_regressor = MLPRegressor(hidden_layer_sizes=(100, 50), activation='relu', solver='adam', random_state=42)"
   ]
  },
  {
   "cell_type": "code",
   "execution_count": 134,
   "metadata": {},
   "outputs": [
    {
     "data": {
      "text/html": [
       "<style>#sk-container-id-13 {color: black;}#sk-container-id-13 pre{padding: 0;}#sk-container-id-13 div.sk-toggleable {background-color: white;}#sk-container-id-13 label.sk-toggleable__label {cursor: pointer;display: block;width: 100%;margin-bottom: 0;padding: 0.3em;box-sizing: border-box;text-align: center;}#sk-container-id-13 label.sk-toggleable__label-arrow:before {content: \"▸\";float: left;margin-right: 0.25em;color: #696969;}#sk-container-id-13 label.sk-toggleable__label-arrow:hover:before {color: black;}#sk-container-id-13 div.sk-estimator:hover label.sk-toggleable__label-arrow:before {color: black;}#sk-container-id-13 div.sk-toggleable__content {max-height: 0;max-width: 0;overflow: hidden;text-align: left;background-color: #f0f8ff;}#sk-container-id-13 div.sk-toggleable__content pre {margin: 0.2em;color: black;border-radius: 0.25em;background-color: #f0f8ff;}#sk-container-id-13 input.sk-toggleable__control:checked~div.sk-toggleable__content {max-height: 200px;max-width: 100%;overflow: auto;}#sk-container-id-13 input.sk-toggleable__control:checked~label.sk-toggleable__label-arrow:before {content: \"▾\";}#sk-container-id-13 div.sk-estimator input.sk-toggleable__control:checked~label.sk-toggleable__label {background-color: #d4ebff;}#sk-container-id-13 div.sk-label input.sk-toggleable__control:checked~label.sk-toggleable__label {background-color: #d4ebff;}#sk-container-id-13 input.sk-hidden--visually {border: 0;clip: rect(1px 1px 1px 1px);clip: rect(1px, 1px, 1px, 1px);height: 1px;margin: -1px;overflow: hidden;padding: 0;position: absolute;width: 1px;}#sk-container-id-13 div.sk-estimator {font-family: monospace;background-color: #f0f8ff;border: 1px dotted black;border-radius: 0.25em;box-sizing: border-box;margin-bottom: 0.5em;}#sk-container-id-13 div.sk-estimator:hover {background-color: #d4ebff;}#sk-container-id-13 div.sk-parallel-item::after {content: \"\";width: 100%;border-bottom: 1px solid gray;flex-grow: 1;}#sk-container-id-13 div.sk-label:hover label.sk-toggleable__label {background-color: #d4ebff;}#sk-container-id-13 div.sk-serial::before {content: \"\";position: absolute;border-left: 1px solid gray;box-sizing: border-box;top: 0;bottom: 0;left: 50%;z-index: 0;}#sk-container-id-13 div.sk-serial {display: flex;flex-direction: column;align-items: center;background-color: white;padding-right: 0.2em;padding-left: 0.2em;position: relative;}#sk-container-id-13 div.sk-item {position: relative;z-index: 1;}#sk-container-id-13 div.sk-parallel {display: flex;align-items: stretch;justify-content: center;background-color: white;position: relative;}#sk-container-id-13 div.sk-item::before, #sk-container-id-13 div.sk-parallel-item::before {content: \"\";position: absolute;border-left: 1px solid gray;box-sizing: border-box;top: 0;bottom: 0;left: 50%;z-index: -1;}#sk-container-id-13 div.sk-parallel-item {display: flex;flex-direction: column;z-index: 1;position: relative;background-color: white;}#sk-container-id-13 div.sk-parallel-item:first-child::after {align-self: flex-end;width: 50%;}#sk-container-id-13 div.sk-parallel-item:last-child::after {align-self: flex-start;width: 50%;}#sk-container-id-13 div.sk-parallel-item:only-child::after {width: 0;}#sk-container-id-13 div.sk-dashed-wrapped {border: 1px dashed gray;margin: 0 0.4em 0.5em 0.4em;box-sizing: border-box;padding-bottom: 0.4em;background-color: white;}#sk-container-id-13 div.sk-label label {font-family: monospace;font-weight: bold;display: inline-block;line-height: 1.2em;}#sk-container-id-13 div.sk-label-container {text-align: center;}#sk-container-id-13 div.sk-container {/* jupyter's `normalize.less` sets `[hidden] { display: none; }` but bootstrap.min.css set `[hidden] { display: none !important; }` so we also need the `!important` here to be able to override the default hidden behavior on the sphinx rendered scikit-learn.org. See: https://github.com/scikit-learn/scikit-learn/issues/21755 */display: inline-block !important;position: relative;}#sk-container-id-13 div.sk-text-repr-fallback {display: none;}</style><div id=\"sk-container-id-13\" class=\"sk-top-container\"><div class=\"sk-text-repr-fallback\"><pre>MLPRegressor(hidden_layer_sizes=(100, 50), random_state=42)</pre><b>In a Jupyter environment, please rerun this cell to show the HTML representation or trust the notebook. <br />On GitHub, the HTML representation is unable to render, please try loading this page with nbviewer.org.</b></div><div class=\"sk-container\" hidden><div class=\"sk-item\"><div class=\"sk-estimator sk-toggleable\"><input class=\"sk-toggleable__control sk-hidden--visually\" id=\"sk-estimator-id-13\" type=\"checkbox\" checked><label for=\"sk-estimator-id-13\" class=\"sk-toggleable__label sk-toggleable__label-arrow\">MLPRegressor</label><div class=\"sk-toggleable__content\"><pre>MLPRegressor(hidden_layer_sizes=(100, 50), random_state=42)</pre></div></div></div></div></div>"
      ],
      "text/plain": [
       "MLPRegressor(hidden_layer_sizes=(100, 50), random_state=42)"
      ]
     },
     "execution_count": 134,
     "metadata": {},
     "output_type": "execute_result"
    }
   ],
   "source": [
    "# Fit the model to the scaled training data\n",
    "mlp_regressor.fit(X_train_scaled, y_train)"
   ]
  },
  {
   "cell_type": "code",
   "execution_count": 135,
   "metadata": {},
   "outputs": [],
   "source": [
    "# Predict the concentrations on the scaled testing data\n",
    "y_pred = mlp_regressor.predict(X_test_scaled)"
   ]
  },
  {
   "cell_type": "code",
   "execution_count": 136,
   "metadata": {},
   "outputs": [
    {
     "name": "stdout",
     "output_type": "stream",
     "text": [
      "Mean Squared Logarithmic Error: 0.004523824001427342\n",
      "Mean Squared Error: 0.4025904866613677\n",
      "Mean Squared Percentage Error: 0.7027767454658084\n",
      "Mean Absolute Error: 0.4753475640478225\n",
      "Mean Absolute Percentage Error: 4.866640126416611\n",
      "Median Absolute Error: 0.3686990408183828\n",
      "R-squared: 0.9986710747203391\n",
      "Max Error: 3.070510697143801\n",
      "Explained Variance Score: 0.998706789173927\n"
     ]
    }
   ],
   "source": [
    "# Calculate Mean Squared Logarithmic Error (MSLE)\n",
    "msle = mean_squared_log_error(y_test, y_pred)\n",
    "print(\"Mean Squared Logarithmic Error:\", msle)\n",
    "\n",
    "# Calculate the Mean Squared Error\n",
    "mse = mean_squared_error(y_test, y_pred)\n",
    "print(\"Mean Squared Error:\", mse)\n",
    "\n",
    "# Calculate Mean Squared Percentage Error (MSPE)\n",
    "mspe = np.mean(np.square((y_test - y_pred) / y_test)) * 100\n",
    "print(\"Mean Squared Percentage Error:\", mspe)\n",
    "\n",
    "# Calculate Mean Absolute Error (MAE)\n",
    "mae = mean_absolute_error(y_test, y_pred)\n",
    "print(\"Mean Absolute Error:\", mae)\n",
    "\n",
    "# Calculate Mean Absolute Percentage Error (MAPE)\n",
    "mape = np.mean(np.abs((y_test - y_pred) / y_test)) * 100\n",
    "print(\"Mean Absolute Percentage Error:\", mape)\n",
    "\n",
    "# Calculate Median Absolute Error\n",
    "medae = median_absolute_error(y_test, y_pred)\n",
    "print(\"Median Absolute Error:\", medae)\n",
    "\n",
    "# Calculate R-squared (coefficient of determination)\n",
    "r2 = r2_score(y_test, y_pred)\n",
    "print(\"R-squared:\", r2)\n",
    "\n",
    "# Calculate Max Error\n",
    "max_err = max_error(y_test, y_pred)\n",
    "print(\"Max Error:\", max_err)\n",
    "\n",
    "# Calculate Explained Variance Score\n",
    "explained_variance = explained_variance_score(y_test, y_pred)\n",
    "print(\"Explained Variance Score:\", explained_variance)"
   ]
  },
  {
   "cell_type": "markdown",
   "metadata": {},
   "source": [
    "# SVR regressor"
   ]
  },
  {
   "cell_type": "code",
   "execution_count": 137,
   "metadata": {},
   "outputs": [],
   "source": [
    "from sklearn.svm import SVR\n",
    "\n",
    "# Standardize features\n",
    "scaler = StandardScaler()\n",
    "X_train_scaled = scaler.fit_transform(X_train)\n",
    "X_test_scaled = scaler.transform(X_test)\n",
    "\n",
    "# Initialize the SVR model\n",
    "svr_regressor = SVR(kernel='rbf')"
   ]
  },
  {
   "cell_type": "code",
   "execution_count": 138,
   "metadata": {},
   "outputs": [
    {
     "data": {
      "text/html": [
       "<style>#sk-container-id-14 {color: black;}#sk-container-id-14 pre{padding: 0;}#sk-container-id-14 div.sk-toggleable {background-color: white;}#sk-container-id-14 label.sk-toggleable__label {cursor: pointer;display: block;width: 100%;margin-bottom: 0;padding: 0.3em;box-sizing: border-box;text-align: center;}#sk-container-id-14 label.sk-toggleable__label-arrow:before {content: \"▸\";float: left;margin-right: 0.25em;color: #696969;}#sk-container-id-14 label.sk-toggleable__label-arrow:hover:before {color: black;}#sk-container-id-14 div.sk-estimator:hover label.sk-toggleable__label-arrow:before {color: black;}#sk-container-id-14 div.sk-toggleable__content {max-height: 0;max-width: 0;overflow: hidden;text-align: left;background-color: #f0f8ff;}#sk-container-id-14 div.sk-toggleable__content pre {margin: 0.2em;color: black;border-radius: 0.25em;background-color: #f0f8ff;}#sk-container-id-14 input.sk-toggleable__control:checked~div.sk-toggleable__content {max-height: 200px;max-width: 100%;overflow: auto;}#sk-container-id-14 input.sk-toggleable__control:checked~label.sk-toggleable__label-arrow:before {content: \"▾\";}#sk-container-id-14 div.sk-estimator input.sk-toggleable__control:checked~label.sk-toggleable__label {background-color: #d4ebff;}#sk-container-id-14 div.sk-label input.sk-toggleable__control:checked~label.sk-toggleable__label {background-color: #d4ebff;}#sk-container-id-14 input.sk-hidden--visually {border: 0;clip: rect(1px 1px 1px 1px);clip: rect(1px, 1px, 1px, 1px);height: 1px;margin: -1px;overflow: hidden;padding: 0;position: absolute;width: 1px;}#sk-container-id-14 div.sk-estimator {font-family: monospace;background-color: #f0f8ff;border: 1px dotted black;border-radius: 0.25em;box-sizing: border-box;margin-bottom: 0.5em;}#sk-container-id-14 div.sk-estimator:hover {background-color: #d4ebff;}#sk-container-id-14 div.sk-parallel-item::after {content: \"\";width: 100%;border-bottom: 1px solid gray;flex-grow: 1;}#sk-container-id-14 div.sk-label:hover label.sk-toggleable__label {background-color: #d4ebff;}#sk-container-id-14 div.sk-serial::before {content: \"\";position: absolute;border-left: 1px solid gray;box-sizing: border-box;top: 0;bottom: 0;left: 50%;z-index: 0;}#sk-container-id-14 div.sk-serial {display: flex;flex-direction: column;align-items: center;background-color: white;padding-right: 0.2em;padding-left: 0.2em;position: relative;}#sk-container-id-14 div.sk-item {position: relative;z-index: 1;}#sk-container-id-14 div.sk-parallel {display: flex;align-items: stretch;justify-content: center;background-color: white;position: relative;}#sk-container-id-14 div.sk-item::before, #sk-container-id-14 div.sk-parallel-item::before {content: \"\";position: absolute;border-left: 1px solid gray;box-sizing: border-box;top: 0;bottom: 0;left: 50%;z-index: -1;}#sk-container-id-14 div.sk-parallel-item {display: flex;flex-direction: column;z-index: 1;position: relative;background-color: white;}#sk-container-id-14 div.sk-parallel-item:first-child::after {align-self: flex-end;width: 50%;}#sk-container-id-14 div.sk-parallel-item:last-child::after {align-self: flex-start;width: 50%;}#sk-container-id-14 div.sk-parallel-item:only-child::after {width: 0;}#sk-container-id-14 div.sk-dashed-wrapped {border: 1px dashed gray;margin: 0 0.4em 0.5em 0.4em;box-sizing: border-box;padding-bottom: 0.4em;background-color: white;}#sk-container-id-14 div.sk-label label {font-family: monospace;font-weight: bold;display: inline-block;line-height: 1.2em;}#sk-container-id-14 div.sk-label-container {text-align: center;}#sk-container-id-14 div.sk-container {/* jupyter's `normalize.less` sets `[hidden] { display: none; }` but bootstrap.min.css set `[hidden] { display: none !important; }` so we also need the `!important` here to be able to override the default hidden behavior on the sphinx rendered scikit-learn.org. See: https://github.com/scikit-learn/scikit-learn/issues/21755 */display: inline-block !important;position: relative;}#sk-container-id-14 div.sk-text-repr-fallback {display: none;}</style><div id=\"sk-container-id-14\" class=\"sk-top-container\"><div class=\"sk-text-repr-fallback\"><pre>SVR()</pre><b>In a Jupyter environment, please rerun this cell to show the HTML representation or trust the notebook. <br />On GitHub, the HTML representation is unable to render, please try loading this page with nbviewer.org.</b></div><div class=\"sk-container\" hidden><div class=\"sk-item\"><div class=\"sk-estimator sk-toggleable\"><input class=\"sk-toggleable__control sk-hidden--visually\" id=\"sk-estimator-id-14\" type=\"checkbox\" checked><label for=\"sk-estimator-id-14\" class=\"sk-toggleable__label sk-toggleable__label-arrow\">SVR</label><div class=\"sk-toggleable__content\"><pre>SVR()</pre></div></div></div></div></div>"
      ],
      "text/plain": [
       "SVR()"
      ]
     },
     "execution_count": 138,
     "metadata": {},
     "output_type": "execute_result"
    }
   ],
   "source": [
    "# Fit the model to the scaled training data\n",
    "svr_regressor.fit(X_train_scaled, y_train)\n"
   ]
  },
  {
   "cell_type": "code",
   "execution_count": 139,
   "metadata": {},
   "outputs": [],
   "source": [
    "# Predict the concentrations on the scaled testing data\n",
    "y_pred = svr_regressor.predict(X_test_scaled)"
   ]
  },
  {
   "cell_type": "code",
   "execution_count": 140,
   "metadata": {},
   "outputs": [
    {
     "name": "stdout",
     "output_type": "stream",
     "text": [
      "Mean Squared Error: 3.26108639257158\n",
      "Mean Squared Percentage Error: 3.065872752613224\n",
      "Mean Absolute Error: 1.3601649784358054\n",
      "Mean Absolute Percentage Error: 11.28433687075024\n",
      "Median Absolute Error: 1.0404467064231007\n",
      "R-squared: 0.9892353637509277\n",
      "Max Error: 9.369661739991209\n",
      "Explained Variance Score: 0.9892355679267941\n"
     ]
    }
   ],
   "source": [
    "# Calculate Mean Squared Logarithmic Error (MSLE)\n",
    "#msle = mean_squared_log_error(y_test, y_pred)\n",
    "#print(\"Mean Squared Logarithmic Error:\", msle)\n",
    "\n",
    "# Calculate the Mean Squared Error\n",
    "mse = mean_squared_error(y_test, y_pred)\n",
    "print(\"Mean Squared Error:\", mse)\n",
    "\n",
    "# Calculate Mean Squared Percentage Error (MSPE)\n",
    "mspe = np.mean(np.square((y_test - y_pred) / y_test)) * 100\n",
    "print(\"Mean Squared Percentage Error:\", mspe)\n",
    "\n",
    "# Calculate Mean Absolute Error (MAE)\n",
    "mae = mean_absolute_error(y_test, y_pred)\n",
    "print(\"Mean Absolute Error:\", mae)\n",
    "\n",
    "# Calculate Mean Absolute Percentage Error (MAPE)\n",
    "mape = np.mean(np.abs((y_test - y_pred) / y_test)) * 100\n",
    "print(\"Mean Absolute Percentage Error:\", mape)\n",
    "\n",
    "# Calculate Median Absolute Error\n",
    "medae = median_absolute_error(y_test, y_pred)\n",
    "print(\"Median Absolute Error:\", medae)\n",
    "\n",
    "# Calculate R-squared (coefficient of determination)\n",
    "r2 = r2_score(y_test, y_pred)\n",
    "print(\"R-squared:\", r2)\n",
    "\n",
    "# Calculate Max Error\n",
    "max_err = max_error(y_test, y_pred)\n",
    "print(\"Max Error:\", max_err)\n",
    "\n",
    "# Calculate Explained Variance Score\n",
    "explained_variance = explained_variance_score(y_test, y_pred)\n",
    "print(\"Explained Variance Score:\", explained_variance)"
   ]
  },
  {
   "cell_type": "markdown",
   "metadata": {},
   "source": [
    "# KNN"
   ]
  },
  {
   "cell_type": "code",
   "execution_count": 141,
   "metadata": {},
   "outputs": [
    {
     "data": {
      "text/plain": [
       "0.9994252873563219"
      ]
     },
     "execution_count": 141,
     "metadata": {},
     "output_type": "execute_result"
    }
   ],
   "source": [
    "from sklearn.neighbors import KNeighborsClassifier\n",
    "\n",
    "clf = KNeighborsClassifier(n_neighbors=3)\n",
    "clf.fit(X_train, y_train)\n",
    "\n",
    "X_test = X_test.values\n",
    "\n",
    "y_pred = clf.predict(X_test)\n",
    "accuracy_score(y_test, y_pred)"
   ]
  },
  {
   "cell_type": "code",
   "execution_count": 142,
   "metadata": {},
   "outputs": [
    {
     "data": {
      "image/png": "[encoded data removed]",
      "text/plain": [
       "<Figure size 640x480 with 1 Axes>"
      ]
     },
     "metadata": {},
     "output_type": "display_data"
    }
   ],
   "source": [
    "import warnings\n",
    "from sklearn.neighbors import KNeighborsClassifier\n",
    "import matplotlib.pyplot as plt\n",
    "\n",
    "# Suppress all warnings\n",
    "warnings.filterwarnings(\"ignore\")\n",
    "\n",
    "# Initialize lists to store results\n",
    "n_neighbors_values = []\n",
    "accuracy_values = []\n",
    "\n",
    "# Test different values of n_neighbors\n",
    "for n_neighbors in range(1, 21):\n",
    "    # Initialize the KNeighborsClassifier with the current n_neighbors value\n",
    "    clf = KNeighborsClassifier(n_neighbors=n_neighbors)\n",
    "    \n",
    "    # Fit the model to the training data\n",
    "    clf.fit(X_train, y_train)\n",
    "    \n",
    "    # Make predictions on the testing data\n",
    "    y_pred = clf.predict(X_test)\n",
    "    \n",
    "    # Calculate accuracy and store the values\n",
    "    accuracy = accuracy_score(y_test, y_pred)\n",
    "    n_neighbors_values.append(n_neighbors)\n",
    "    accuracy_values.append(accuracy)\n",
    "\n",
    "# Plot the accuracy values\n",
    "plt.plot(n_neighbors_values, accuracy_values, marker='o')\n",
    "plt.xlabel('n_neighbors')\n",
    "plt.ylabel('Accuracy')\n",
    "plt.title('Accuracy vs. n_neighbors for KNN')\n",
    "plt.xticks(n_neighbors_values)\n",
    "plt.grid()\n",
    "plt.show()\n"
   ]
  },
  {
   "cell_type": "code",
   "execution_count": 143,
   "metadata": {},
   "outputs": [
    {
     "name": "stdout",
     "output_type": "stream",
     "text": [
      "confusion matrix:\n",
      " [[881   5   0   0]\n",
      " [ 11 846   0   0]\n",
      " [  0   0 885   1]\n",
      " [  0   0   0 851]]\n"
     ]
    }
   ],
   "source": [
    "\n",
    "# # Calculate the confusion matrix\n",
    "cm = confusion_matrix(y_test, y_pred)\n",
    "print(\"confusion matrix:\\n\",cm)\n"
   ]
  },
  {
   "cell_type": "code",
   "execution_count": 144,
   "metadata": {},
   "outputs": [],
   "source": [
    "# Extract values from the confusion matrix\n",
    "true_negatives = cm[0, 0]\n",
    "false_positives = cm[0, 1]\n",
    "false_negatives = cm[1, 0]\n",
    "true_positives = cm[1, 1]\n"
   ]
  },
  {
   "cell_type": "code",
   "execution_count": 145,
   "metadata": {},
   "outputs": [
    {
     "name": "stdout",
     "output_type": "stream",
     "text": [
      "False Positive Rate (FPR): 0.0056433408577878106\n"
     ]
    }
   ],
   "source": [
    "\n",
    "# Calculate False Positive Rate (FPR)\n",
    "fpr = false_positives / (false_positives + true_negatives)\n",
    "print(\"False Positive Rate (FPR):\", fpr)"
   ]
  },
  {
   "cell_type": "code",
   "execution_count": 146,
   "metadata": {},
   "outputs": [
    {
     "name": "stdout",
     "output_type": "stream",
     "text": [
      "False Negative Rate (FNR): 0.012835472578763127\n"
     ]
    }
   ],
   "source": [
    "# Calculate False Negative Rate (FNR)\n",
    "fnr = false_negatives / (false_negatives + true_positives)\n",
    "print(\"False Negative Rate (FNR):\", fnr)"
   ]
  },
  {
   "cell_type": "code",
   "execution_count": 147,
   "metadata": {},
   "outputs": [
    {
     "name": "stdout",
     "output_type": "stream",
     "text": [
      "Recall: 0.9871645274212368\n"
     ]
    }
   ],
   "source": [
    "# Calculate Recall (True Positive Rate)\n",
    "recall = true_positives / (true_positives + false_negatives)\n",
    "print(\"Recall:\", recall)"
   ]
  },
  {
   "cell_type": "code",
   "execution_count": 148,
   "metadata": {},
   "outputs": [
    {
     "name": "stdout",
     "output_type": "stream",
     "text": [
      "Precision: 0.9941245593419507\n"
     ]
    }
   ],
   "source": [
    "# Calculate Precision\n",
    "precision = true_positives / (true_positives + false_positives)\n",
    "print(\"Precision:\", precision)"
   ]
  },
  {
   "cell_type": "code",
   "execution_count": 149,
   "metadata": {},
   "outputs": [
    {
     "name": "stdout",
     "output_type": "stream",
     "text": [
      "F-beta (beta=2, average='macro'): 0.9951055869495677\n"
     ]
    }
   ],
   "source": [
    "from sklearn.metrics import fbeta_score\n",
    "\n",
    "# Calculate the F-beta score with the 'macro' average option\n",
    "beta = 2  # You can adjust the value of beta as needed\n",
    "f_beta_macro = fbeta_score(y_test, y_pred, beta=beta, average='macro')\n",
    "print(f\"F-beta (beta={beta}, average='macro'):\", f_beta_macro)\n"
   ]
  },
  {
   "cell_type": "code",
   "execution_count": 150,
   "metadata": {},
   "outputs": [
    {
     "data": {
      "text/plain": [
       "0.9934857430156451"
      ]
     },
     "execution_count": 150,
     "metadata": {},
     "output_type": "execute_result"
    }
   ],
   "source": [
    "\n",
    "# Calculate Cohen's Kappa\n",
    "cohen_kappa_score(y_test, y_pred)"
   ]
  },
  {
   "cell_type": "code",
   "execution_count": 151,
   "metadata": {},
   "outputs": [
    {
     "name": "stdout",
     "output_type": "stream",
     "text": [
      "F1-score: 0.990632318501171\n"
     ]
    }
   ],
   "source": [
    "# F1-score = 2 * (Precision * Recall) / (Precision + Recall)\n",
    "F1score = 2 * (precision * recall) / (precision + recall)\n",
    "print(\"F1-score:\", F1score)"
   ]
  }
 ],
 "metadata": {
  "kernelspec": {
   "display_name": "Python 3",
   "language": "python",
   "name": "python3"
  },
  "language_info": {
   "codemirror_mode": {
    "name": "ipython",
    "version": 3
   },
   "file_extension": ".py",
   "mimetype": "text/x-python",
   "name": "python",
   "nbconvert_exporter": "python",
   "pygments_lexer": "ipython3",
   "version": "3.11.4"
  },
  "orig_nbformat": 4
 },
 "nbformat": 4,
 "nbformat_minor": 2
}
