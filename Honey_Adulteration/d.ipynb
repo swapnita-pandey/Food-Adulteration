{
 "cells": [
  {
   "cell_type": "markdown",
   "metadata": {},
   "source": [
    "# Is your Honey Adulterated?"
   ]
  },
  {
   "cell_type": "markdown",
   "metadata": {},
   "source": [
    "# Data Cleaning and Visualization"
   ]
  },
  {
   "cell_type": "code",
   "execution_count": 498,
   "metadata": {},
   "outputs": [],
   "source": [
    "import os # for file access\n",
    "import pandas as pd # for data processing\n",
    "import numpy as np # for math processing\n",
    "\n",
    "# for plotting\n",
    "import plotly.express as px\n",
    "\n",
    "import pandas as pd\n",
    "from sklearn.preprocessing import LabelEncoder\n",
    "from sklearn.metrics import accuracy_score\n",
    "\n",
    "from sklearn.metrics import precision_score, recall_score, f1_score, cohen_kappa_score,confusion_matrix\n",
    "from sklearn.metrics import roc_curve, roc_auc_score, precision_recall_curve, auc\n",
    "import matplotlib.pyplot as plt\n",
    "\n",
    "np.random.seed(33)"
   ]
  },
  {
   "cell_type": "code",
   "execution_count": 499,
   "metadata": {},
   "outputs": [],
   "source": [
    "import numpy as np\n",
    "import pandas as pd\n",
    "from sklearn.model_selection import train_test_split\n",
    "from sklearn.neural_network import MLPClassifier\n",
    "from sklearn.preprocessing import StandardScaler\n",
    "from sklearn.metrics import accuracy_score, precision_score, recall_score, f1_score, confusion_matrix\n",
    "\n",
    "from sklearn.cluster import KMeans\n",
    "import matplotlib.pyplot as plt\n",
    "\n",
    "from sklearn.cluster import DBSCAN\n"
   ]
  },
  {
   "cell_type": "code",
   "execution_count": 500,
   "metadata": {},
   "outputs": [
    {
     "data": {
      "text/html": [
       "<div>\n",
       "<style scoped>\n",
       "    .dataframe tbody tr th:only-of-type {\n",
       "        vertical-align: middle;\n",
       "    }\n",
       "\n",
       "    .dataframe tbody tr th {\n",
       "        vertical-align: top;\n",
       "    }\n",
       "\n",
       "    .dataframe thead th {\n",
       "        text-align: right;\n",
       "    }\n",
       "</style>\n",
       "<table border=\"1\" class=\"dataframe\">\n",
       "  <thead>\n",
       "    <tr style=\"text-align: right;\">\n",
       "      <th></th>\n",
       "      <th>Brand</th>\n",
       "      <th>Acquisition</th>\n",
       "      <th>Concentration_Class</th>\n",
       "      <th>Concentration</th>\n",
       "      <th>399.40nm</th>\n",
       "      <th>404.39nm</th>\n",
       "      <th>409.38nm</th>\n",
       "      <th>414.37nm</th>\n",
       "      <th>419.37nm</th>\n",
       "      <th>424.38nm</th>\n",
       "      <th>...</th>\n",
       "      <th>1020.10nm</th>\n",
       "      <th>1025.55nm</th>\n",
       "      <th>1031.00nm</th>\n",
       "      <th>1036.46nm</th>\n",
       "      <th>1041.92nm</th>\n",
       "      <th>1047.38nm</th>\n",
       "      <th>1052.85nm</th>\n",
       "      <th>1058.32nm</th>\n",
       "      <th>1063.79nm</th>\n",
       "      <th>Class</th>\n",
       "    </tr>\n",
       "  </thead>\n",
       "  <tbody>\n",
       "    <tr>\n",
       "      <th>0</th>\n",
       "      <td>C11</td>\n",
       "      <td>2</td>\n",
       "      <td>5</td>\n",
       "      <td>5</td>\n",
       "      <td>0.999980</td>\n",
       "      <td>0.999967</td>\n",
       "      <td>0.999203</td>\n",
       "      <td>0.992107</td>\n",
       "      <td>0.953222</td>\n",
       "      <td>0.872113</td>\n",
       "      <td>...</td>\n",
       "      <td>0.477751</td>\n",
       "      <td>0.481703</td>\n",
       "      <td>0.487756</td>\n",
       "      <td>0.497647</td>\n",
       "      <td>0.513220</td>\n",
       "      <td>0.528185</td>\n",
       "      <td>0.544014</td>\n",
       "      <td>0.562675</td>\n",
       "      <td>0.583122</td>\n",
       "      <td>Rewarewa</td>\n",
       "    </tr>\n",
       "    <tr>\n",
       "      <th>1</th>\n",
       "      <td>C11</td>\n",
       "      <td>2</td>\n",
       "      <td>5</td>\n",
       "      <td>5</td>\n",
       "      <td>0.999980</td>\n",
       "      <td>0.999968</td>\n",
       "      <td>0.999208</td>\n",
       "      <td>0.992223</td>\n",
       "      <td>0.953823</td>\n",
       "      <td>0.873235</td>\n",
       "      <td>...</td>\n",
       "      <td>0.478158</td>\n",
       "      <td>0.482184</td>\n",
       "      <td>0.488387</td>\n",
       "      <td>0.498356</td>\n",
       "      <td>0.514065</td>\n",
       "      <td>0.529189</td>\n",
       "      <td>0.545075</td>\n",
       "      <td>0.563809</td>\n",
       "      <td>0.584472</td>\n",
       "      <td>Rewarewa</td>\n",
       "    </tr>\n",
       "    <tr>\n",
       "      <th>2</th>\n",
       "      <td>C11</td>\n",
       "      <td>2</td>\n",
       "      <td>5</td>\n",
       "      <td>5</td>\n",
       "      <td>0.999979</td>\n",
       "      <td>0.999968</td>\n",
       "      <td>0.999220</td>\n",
       "      <td>0.992204</td>\n",
       "      <td>0.953378</td>\n",
       "      <td>0.872248</td>\n",
       "      <td>...</td>\n",
       "      <td>0.477288</td>\n",
       "      <td>0.481155</td>\n",
       "      <td>0.487180</td>\n",
       "      <td>0.497018</td>\n",
       "      <td>0.512569</td>\n",
       "      <td>0.527521</td>\n",
       "      <td>0.543329</td>\n",
       "      <td>0.561971</td>\n",
       "      <td>0.582424</td>\n",
       "      <td>Rewarewa</td>\n",
       "    </tr>\n",
       "    <tr>\n",
       "      <th>3</th>\n",
       "      <td>C11</td>\n",
       "      <td>2</td>\n",
       "      <td>5</td>\n",
       "      <td>5</td>\n",
       "      <td>0.999979</td>\n",
       "      <td>0.999966</td>\n",
       "      <td>0.999189</td>\n",
       "      <td>0.992018</td>\n",
       "      <td>0.952935</td>\n",
       "      <td>0.871801</td>\n",
       "      <td>...</td>\n",
       "      <td>0.477015</td>\n",
       "      <td>0.480936</td>\n",
       "      <td>0.486965</td>\n",
       "      <td>0.496816</td>\n",
       "      <td>0.512370</td>\n",
       "      <td>0.527352</td>\n",
       "      <td>0.543177</td>\n",
       "      <td>0.561848</td>\n",
       "      <td>0.582337</td>\n",
       "      <td>Rewarewa</td>\n",
       "    </tr>\n",
       "    <tr>\n",
       "      <th>4</th>\n",
       "      <td>C11</td>\n",
       "      <td>2</td>\n",
       "      <td>5</td>\n",
       "      <td>5</td>\n",
       "      <td>0.999977</td>\n",
       "      <td>0.999965</td>\n",
       "      <td>0.999151</td>\n",
       "      <td>0.991986</td>\n",
       "      <td>0.953458</td>\n",
       "      <td>0.873161</td>\n",
       "      <td>...</td>\n",
       "      <td>0.477190</td>\n",
       "      <td>0.481269</td>\n",
       "      <td>0.487589</td>\n",
       "      <td>0.497584</td>\n",
       "      <td>0.513355</td>\n",
       "      <td>0.528691</td>\n",
       "      <td>0.544639</td>\n",
       "      <td>0.563497</td>\n",
       "      <td>0.584432</td>\n",
       "      <td>Rewarewa</td>\n",
       "    </tr>\n",
       "  </tbody>\n",
       "</table>\n",
       "<p>5 rows × 133 columns</p>\n",
       "</div>"
      ],
      "text/plain": [
       "  Brand  Acquisition  Concentration_Class  Concentration  399.40nm  404.39nm  \\\n",
       "0   C11            2                    5              5  0.999980  0.999967   \n",
       "1   C11            2                    5              5  0.999980  0.999968   \n",
       "2   C11            2                    5              5  0.999979  0.999968   \n",
       "3   C11            2                    5              5  0.999979  0.999966   \n",
       "4   C11            2                    5              5  0.999977  0.999965   \n",
       "\n",
       "   409.38nm  414.37nm  419.37nm  424.38nm  ...  1020.10nm  1025.55nm  \\\n",
       "0  0.999203  0.992107  0.953222  0.872113  ...   0.477751   0.481703   \n",
       "1  0.999208  0.992223  0.953823  0.873235  ...   0.478158   0.482184   \n",
       "2  0.999220  0.992204  0.953378  0.872248  ...   0.477288   0.481155   \n",
       "3  0.999189  0.992018  0.952935  0.871801  ...   0.477015   0.480936   \n",
       "4  0.999151  0.991986  0.953458  0.873161  ...   0.477190   0.481269   \n",
       "\n",
       "   1031.00nm  1036.46nm  1041.92nm  1047.38nm  1052.85nm  1058.32nm  \\\n",
       "0   0.487756   0.497647   0.513220   0.528185   0.544014   0.562675   \n",
       "1   0.488387   0.498356   0.514065   0.529189   0.545075   0.563809   \n",
       "2   0.487180   0.497018   0.512569   0.527521   0.543329   0.561971   \n",
       "3   0.486965   0.496816   0.512370   0.527352   0.543177   0.561848   \n",
       "4   0.487589   0.497584   0.513355   0.528691   0.544639   0.563497   \n",
       "\n",
       "   1063.79nm     Class  \n",
       "0   0.583122  Rewarewa  \n",
       "1   0.584472  Rewarewa  \n",
       "2   0.582424  Rewarewa  \n",
       "3   0.582337  Rewarewa  \n",
       "4   0.584432  Rewarewa  \n",
       "\n",
       "[5 rows x 133 columns]"
      ]
     },
     "execution_count": 500,
     "metadata": {},
     "output_type": "execute_result"
    }
   ],
   "source": [
    "\n",
    "# Load the dataset\n",
    "#file = ('D:\\Research\\Honey Adulteration\\new\\generated_data.xlsx')\n",
    "file = ('D:\\\\Research\\\\Honey Adulteration\\\\new\\\\generated_data.xlsx')\n",
    "df = pd.read_excel(file)\n",
    "df.head()"
   ]
  },
  {
   "cell_type": "code",
   "execution_count": 501,
   "metadata": {},
   "outputs": [
    {
     "data": {
      "text/plain": [
       "Brand\n",
       "C11    7800\n",
       "C3     6000\n",
       "C10    4800\n",
       "C9     3600\n",
       "C7     3600\n",
       "C6     3000\n",
       "C2     1800\n",
       "C4     1800\n",
       "C1     1200\n",
       "C5      600\n",
       "C8      600\n",
       "Name: count, dtype: int64"
      ]
     },
     "execution_count": 501,
     "metadata": {},
     "output_type": "execute_result"
    }
   ],
   "source": [
    "df['Brand'].value_counts()"
   ]
  },
  {
   "cell_type": "code",
   "execution_count": 502,
   "metadata": {},
   "outputs": [
    {
     "data": {
      "text/plain": [
       "Acquisition\n",
       "2    5800\n",
       "3    5800\n",
       "1    5800\n",
       "4    5800\n",
       "5    5800\n",
       "6    5800\n",
       "Name: count, dtype: int64"
      ]
     },
     "execution_count": 502,
     "metadata": {},
     "output_type": "execute_result"
    }
   ],
   "source": [
    "df['Acquisition'].value_counts()"
   ]
  },
  {
   "cell_type": "code",
   "execution_count": 503,
   "metadata": {},
   "outputs": [
    {
     "data": {
      "text/plain": [
       "Concentration_Class\n",
       "5     8700\n",
       "10    8700\n",
       "25    8700\n",
       "50    8700\n",
       "Name: count, dtype: int64"
      ]
     },
     "execution_count": 503,
     "metadata": {},
     "output_type": "execute_result"
    }
   ],
   "source": [
    "df['Concentration_Class'].value_counts()"
   ]
  },
  {
   "cell_type": "code",
   "execution_count": 504,
   "metadata": {},
   "outputs": [
    {
     "data": {
      "text/plain": [
       "Concentration\n",
       "5     8700\n",
       "10    8700\n",
       "25    8700\n",
       "50    8700\n",
       "Name: count, dtype: int64"
      ]
     },
     "execution_count": 504,
     "metadata": {},
     "output_type": "execute_result"
    }
   ],
   "source": [
    "df['Concentration'].value_counts()"
   ]
  },
  {
   "cell_type": "code",
   "execution_count": 505,
   "metadata": {},
   "outputs": [
    {
     "data": {
      "text/plain": [
       "Class\n",
       "Rewarewa        3600\n",
       "ManukaUMF10     3600\n",
       "Clover          3600\n",
       "ManukaUMF5      3600\n",
       "Multifloral     2400\n",
       "ManukaUMF15     2400\n",
       "Manuka          1800\n",
       "Tawari          1800\n",
       "ManukaBlend     1800\n",
       "Rata            1200\n",
       "Kamahi          1200\n",
       "Pohu            1200\n",
       "BB              1200\n",
       "ManukaUMF20     1200\n",
       "ManukaUMF13      600\n",
       "BorageField      600\n",
       "ManukaUMF12      600\n",
       "ManukaUMF18      600\n",
       "ManukaUMF22      600\n",
       "Honeydew         600\n",
       "Field+Tawari     600\n",
       "Name: count, dtype: int64"
      ]
     },
     "execution_count": 505,
     "metadata": {},
     "output_type": "execute_result"
    }
   ],
   "source": [
    "df['Class'].value_counts()"
   ]
  },
  {
   "cell_type": "code",
   "execution_count": 506,
   "metadata": {},
   "outputs": [
    {
     "data": {
      "text/plain": [
       "(34800, 133)"
      ]
     },
     "execution_count": 506,
     "metadata": {},
     "output_type": "execute_result"
    }
   ],
   "source": [
    "df.shape"
   ]
  },
  {
   "cell_type": "code",
   "execution_count": 507,
   "metadata": {},
   "outputs": [
    {
     "data": {
      "text/plain": [
       "float64    128\n",
       "int64        3\n",
       "object       2\n",
       "Name: count, dtype: int64"
      ]
     },
     "execution_count": 507,
     "metadata": {},
     "output_type": "execute_result"
    }
   ],
   "source": [
    "df.dtypes.value_counts()"
   ]
  },
  {
   "cell_type": "code",
   "execution_count": 508,
   "metadata": {},
   "outputs": [
    {
     "data": {
      "text/html": [
       "<div>\n",
       "<style scoped>\n",
       "    .dataframe tbody tr th:only-of-type {\n",
       "        vertical-align: middle;\n",
       "    }\n",
       "\n",
       "    .dataframe tbody tr th {\n",
       "        vertical-align: top;\n",
       "    }\n",
       "\n",
       "    .dataframe thead th {\n",
       "        text-align: right;\n",
       "    }\n",
       "</style>\n",
       "<table border=\"1\" class=\"dataframe\">\n",
       "  <thead>\n",
       "    <tr style=\"text-align: right;\">\n",
       "      <th></th>\n",
       "      <th>Brand</th>\n",
       "      <th>Acquisition</th>\n",
       "      <th>Concentration_Class</th>\n",
       "      <th>Concentration</th>\n",
       "      <th>399.40nm</th>\n",
       "      <th>404.39nm</th>\n",
       "      <th>409.38nm</th>\n",
       "      <th>414.37nm</th>\n",
       "      <th>419.37nm</th>\n",
       "      <th>424.38nm</th>\n",
       "      <th>...</th>\n",
       "      <th>1020.10nm</th>\n",
       "      <th>1025.55nm</th>\n",
       "      <th>1031.00nm</th>\n",
       "      <th>1036.46nm</th>\n",
       "      <th>1041.92nm</th>\n",
       "      <th>1047.38nm</th>\n",
       "      <th>1052.85nm</th>\n",
       "      <th>1058.32nm</th>\n",
       "      <th>1063.79nm</th>\n",
       "      <th>Class</th>\n",
       "    </tr>\n",
       "  </thead>\n",
       "  <tbody>\n",
       "    <tr>\n",
       "      <th>0</th>\n",
       "      <td>C11</td>\n",
       "      <td>2</td>\n",
       "      <td>5</td>\n",
       "      <td>5</td>\n",
       "      <td>0.999980</td>\n",
       "      <td>0.999967</td>\n",
       "      <td>0.999203</td>\n",
       "      <td>0.992107</td>\n",
       "      <td>0.953222</td>\n",
       "      <td>0.872113</td>\n",
       "      <td>...</td>\n",
       "      <td>0.477751</td>\n",
       "      <td>0.481703</td>\n",
       "      <td>0.487756</td>\n",
       "      <td>0.497647</td>\n",
       "      <td>0.513220</td>\n",
       "      <td>0.528185</td>\n",
       "      <td>0.544014</td>\n",
       "      <td>0.562675</td>\n",
       "      <td>0.583122</td>\n",
       "      <td>Rewarewa</td>\n",
       "    </tr>\n",
       "    <tr>\n",
       "      <th>1</th>\n",
       "      <td>C11</td>\n",
       "      <td>2</td>\n",
       "      <td>5</td>\n",
       "      <td>5</td>\n",
       "      <td>0.999980</td>\n",
       "      <td>0.999968</td>\n",
       "      <td>0.999208</td>\n",
       "      <td>0.992223</td>\n",
       "      <td>0.953823</td>\n",
       "      <td>0.873235</td>\n",
       "      <td>...</td>\n",
       "      <td>0.478158</td>\n",
       "      <td>0.482184</td>\n",
       "      <td>0.488387</td>\n",
       "      <td>0.498356</td>\n",
       "      <td>0.514065</td>\n",
       "      <td>0.529189</td>\n",
       "      <td>0.545075</td>\n",
       "      <td>0.563809</td>\n",
       "      <td>0.584472</td>\n",
       "      <td>Rewarewa</td>\n",
       "    </tr>\n",
       "    <tr>\n",
       "      <th>2</th>\n",
       "      <td>C11</td>\n",
       "      <td>2</td>\n",
       "      <td>5</td>\n",
       "      <td>5</td>\n",
       "      <td>0.999979</td>\n",
       "      <td>0.999968</td>\n",
       "      <td>0.999220</td>\n",
       "      <td>0.992204</td>\n",
       "      <td>0.953378</td>\n",
       "      <td>0.872248</td>\n",
       "      <td>...</td>\n",
       "      <td>0.477288</td>\n",
       "      <td>0.481155</td>\n",
       "      <td>0.487180</td>\n",
       "      <td>0.497018</td>\n",
       "      <td>0.512569</td>\n",
       "      <td>0.527521</td>\n",
       "      <td>0.543329</td>\n",
       "      <td>0.561971</td>\n",
       "      <td>0.582424</td>\n",
       "      <td>Rewarewa</td>\n",
       "    </tr>\n",
       "    <tr>\n",
       "      <th>3</th>\n",
       "      <td>C11</td>\n",
       "      <td>2</td>\n",
       "      <td>5</td>\n",
       "      <td>5</td>\n",
       "      <td>0.999979</td>\n",
       "      <td>0.999966</td>\n",
       "      <td>0.999189</td>\n",
       "      <td>0.992018</td>\n",
       "      <td>0.952935</td>\n",
       "      <td>0.871801</td>\n",
       "      <td>...</td>\n",
       "      <td>0.477015</td>\n",
       "      <td>0.480936</td>\n",
       "      <td>0.486965</td>\n",
       "      <td>0.496816</td>\n",
       "      <td>0.512370</td>\n",
       "      <td>0.527352</td>\n",
       "      <td>0.543177</td>\n",
       "      <td>0.561848</td>\n",
       "      <td>0.582337</td>\n",
       "      <td>Rewarewa</td>\n",
       "    </tr>\n",
       "    <tr>\n",
       "      <th>4</th>\n",
       "      <td>C11</td>\n",
       "      <td>2</td>\n",
       "      <td>5</td>\n",
       "      <td>5</td>\n",
       "      <td>0.999977</td>\n",
       "      <td>0.999965</td>\n",
       "      <td>0.999151</td>\n",
       "      <td>0.991986</td>\n",
       "      <td>0.953458</td>\n",
       "      <td>0.873161</td>\n",
       "      <td>...</td>\n",
       "      <td>0.477190</td>\n",
       "      <td>0.481269</td>\n",
       "      <td>0.487589</td>\n",
       "      <td>0.497584</td>\n",
       "      <td>0.513355</td>\n",
       "      <td>0.528691</td>\n",
       "      <td>0.544639</td>\n",
       "      <td>0.563497</td>\n",
       "      <td>0.584432</td>\n",
       "      <td>Rewarewa</td>\n",
       "    </tr>\n",
       "  </tbody>\n",
       "</table>\n",
       "<p>5 rows × 133 columns</p>\n",
       "</div>"
      ],
      "text/plain": [
       "  Brand  Acquisition  Concentration_Class  Concentration  399.40nm  404.39nm  \\\n",
       "0   C11            2                    5              5  0.999980  0.999967   \n",
       "1   C11            2                    5              5  0.999980  0.999968   \n",
       "2   C11            2                    5              5  0.999979  0.999968   \n",
       "3   C11            2                    5              5  0.999979  0.999966   \n",
       "4   C11            2                    5              5  0.999977  0.999965   \n",
       "\n",
       "   409.38nm  414.37nm  419.37nm  424.38nm  ...  1020.10nm  1025.55nm  \\\n",
       "0  0.999203  0.992107  0.953222  0.872113  ...   0.477751   0.481703   \n",
       "1  0.999208  0.992223  0.953823  0.873235  ...   0.478158   0.482184   \n",
       "2  0.999220  0.992204  0.953378  0.872248  ...   0.477288   0.481155   \n",
       "3  0.999189  0.992018  0.952935  0.871801  ...   0.477015   0.480936   \n",
       "4  0.999151  0.991986  0.953458  0.873161  ...   0.477190   0.481269   \n",
       "\n",
       "   1031.00nm  1036.46nm  1041.92nm  1047.38nm  1052.85nm  1058.32nm  \\\n",
       "0   0.487756   0.497647   0.513220   0.528185   0.544014   0.562675   \n",
       "1   0.488387   0.498356   0.514065   0.529189   0.545075   0.563809   \n",
       "2   0.487180   0.497018   0.512569   0.527521   0.543329   0.561971   \n",
       "3   0.486965   0.496816   0.512370   0.527352   0.543177   0.561848   \n",
       "4   0.487589   0.497584   0.513355   0.528691   0.544639   0.563497   \n",
       "\n",
       "   1063.79nm     Class  \n",
       "0   0.583122  Rewarewa  \n",
       "1   0.584472  Rewarewa  \n",
       "2   0.582424  Rewarewa  \n",
       "3   0.582337  Rewarewa  \n",
       "4   0.584432  Rewarewa  \n",
       "\n",
       "[5 rows x 133 columns]"
      ]
     },
     "execution_count": 508,
     "metadata": {},
     "output_type": "execute_result"
    }
   ],
   "source": [
    "df.head()"
   ]
  },
  {
   "cell_type": "code",
   "execution_count": 509,
   "metadata": {},
   "outputs": [],
   "source": [
    "Y=df['Concentration']"
   ]
  },
  {
   "cell_type": "code",
   "execution_count": 510,
   "metadata": {},
   "outputs": [
    {
     "data": {
      "text/plain": [
       "0    5\n",
       "1    5\n",
       "2    5\n",
       "3    5\n",
       "4    5\n",
       "Name: Concentration, dtype: int64"
      ]
     },
     "execution_count": 510,
     "metadata": {},
     "output_type": "execute_result"
    }
   ],
   "source": [
    "Y.head()"
   ]
  },
  {
   "cell_type": "code",
   "execution_count": 511,
   "metadata": {},
   "outputs": [],
   "source": [
    "df.drop('Concentration_Class',axis=1,inplace=True)"
   ]
  },
  {
   "cell_type": "code",
   "execution_count": 512,
   "metadata": {},
   "outputs": [
    {
     "data": {
      "text/html": [
       "<div>\n",
       "<style scoped>\n",
       "    .dataframe tbody tr th:only-of-type {\n",
       "        vertical-align: middle;\n",
       "    }\n",
       "\n",
       "    .dataframe tbody tr th {\n",
       "        vertical-align: top;\n",
       "    }\n",
       "\n",
       "    .dataframe thead th {\n",
       "        text-align: right;\n",
       "    }\n",
       "</style>\n",
       "<table border=\"1\" class=\"dataframe\">\n",
       "  <thead>\n",
       "    <tr style=\"text-align: right;\">\n",
       "      <th></th>\n",
       "      <th>Brand</th>\n",
       "      <th>Acquisition</th>\n",
       "      <th>Concentration</th>\n",
       "      <th>399.40nm</th>\n",
       "      <th>404.39nm</th>\n",
       "      <th>409.38nm</th>\n",
       "      <th>414.37nm</th>\n",
       "      <th>419.37nm</th>\n",
       "      <th>424.38nm</th>\n",
       "      <th>429.38nm</th>\n",
       "      <th>...</th>\n",
       "      <th>1020.10nm</th>\n",
       "      <th>1025.55nm</th>\n",
       "      <th>1031.00nm</th>\n",
       "      <th>1036.46nm</th>\n",
       "      <th>1041.92nm</th>\n",
       "      <th>1047.38nm</th>\n",
       "      <th>1052.85nm</th>\n",
       "      <th>1058.32nm</th>\n",
       "      <th>1063.79nm</th>\n",
       "      <th>Class</th>\n",
       "    </tr>\n",
       "  </thead>\n",
       "  <tbody>\n",
       "    <tr>\n",
       "      <th>0</th>\n",
       "      <td>C11</td>\n",
       "      <td>2</td>\n",
       "      <td>5</td>\n",
       "      <td>0.999980</td>\n",
       "      <td>0.999967</td>\n",
       "      <td>0.999203</td>\n",
       "      <td>0.992107</td>\n",
       "      <td>0.953222</td>\n",
       "      <td>0.872113</td>\n",
       "      <td>0.728557</td>\n",
       "      <td>...</td>\n",
       "      <td>0.477751</td>\n",
       "      <td>0.481703</td>\n",
       "      <td>0.487756</td>\n",
       "      <td>0.497647</td>\n",
       "      <td>0.513220</td>\n",
       "      <td>0.528185</td>\n",
       "      <td>0.544014</td>\n",
       "      <td>0.562675</td>\n",
       "      <td>0.583122</td>\n",
       "      <td>Rewarewa</td>\n",
       "    </tr>\n",
       "    <tr>\n",
       "      <th>1</th>\n",
       "      <td>C11</td>\n",
       "      <td>2</td>\n",
       "      <td>5</td>\n",
       "      <td>0.999980</td>\n",
       "      <td>0.999968</td>\n",
       "      <td>0.999208</td>\n",
       "      <td>0.992223</td>\n",
       "      <td>0.953823</td>\n",
       "      <td>0.873235</td>\n",
       "      <td>0.731307</td>\n",
       "      <td>...</td>\n",
       "      <td>0.478158</td>\n",
       "      <td>0.482184</td>\n",
       "      <td>0.488387</td>\n",
       "      <td>0.498356</td>\n",
       "      <td>0.514065</td>\n",
       "      <td>0.529189</td>\n",
       "      <td>0.545075</td>\n",
       "      <td>0.563809</td>\n",
       "      <td>0.584472</td>\n",
       "      <td>Rewarewa</td>\n",
       "    </tr>\n",
       "    <tr>\n",
       "      <th>2</th>\n",
       "      <td>C11</td>\n",
       "      <td>2</td>\n",
       "      <td>5</td>\n",
       "      <td>0.999979</td>\n",
       "      <td>0.999968</td>\n",
       "      <td>0.999220</td>\n",
       "      <td>0.992204</td>\n",
       "      <td>0.953378</td>\n",
       "      <td>0.872248</td>\n",
       "      <td>0.728564</td>\n",
       "      <td>...</td>\n",
       "      <td>0.477288</td>\n",
       "      <td>0.481155</td>\n",
       "      <td>0.487180</td>\n",
       "      <td>0.497018</td>\n",
       "      <td>0.512569</td>\n",
       "      <td>0.527521</td>\n",
       "      <td>0.543329</td>\n",
       "      <td>0.561971</td>\n",
       "      <td>0.582424</td>\n",
       "      <td>Rewarewa</td>\n",
       "    </tr>\n",
       "    <tr>\n",
       "      <th>3</th>\n",
       "      <td>C11</td>\n",
       "      <td>2</td>\n",
       "      <td>5</td>\n",
       "      <td>0.999979</td>\n",
       "      <td>0.999966</td>\n",
       "      <td>0.999189</td>\n",
       "      <td>0.992018</td>\n",
       "      <td>0.952935</td>\n",
       "      <td>0.871801</td>\n",
       "      <td>0.728091</td>\n",
       "      <td>...</td>\n",
       "      <td>0.477015</td>\n",
       "      <td>0.480936</td>\n",
       "      <td>0.486965</td>\n",
       "      <td>0.496816</td>\n",
       "      <td>0.512370</td>\n",
       "      <td>0.527352</td>\n",
       "      <td>0.543177</td>\n",
       "      <td>0.561848</td>\n",
       "      <td>0.582337</td>\n",
       "      <td>Rewarewa</td>\n",
       "    </tr>\n",
       "    <tr>\n",
       "      <th>4</th>\n",
       "      <td>C11</td>\n",
       "      <td>2</td>\n",
       "      <td>5</td>\n",
       "      <td>0.999977</td>\n",
       "      <td>0.999965</td>\n",
       "      <td>0.999151</td>\n",
       "      <td>0.991986</td>\n",
       "      <td>0.953458</td>\n",
       "      <td>0.873161</td>\n",
       "      <td>0.732385</td>\n",
       "      <td>...</td>\n",
       "      <td>0.477190</td>\n",
       "      <td>0.481269</td>\n",
       "      <td>0.487589</td>\n",
       "      <td>0.497584</td>\n",
       "      <td>0.513355</td>\n",
       "      <td>0.528691</td>\n",
       "      <td>0.544639</td>\n",
       "      <td>0.563497</td>\n",
       "      <td>0.584432</td>\n",
       "      <td>Rewarewa</td>\n",
       "    </tr>\n",
       "  </tbody>\n",
       "</table>\n",
       "<p>5 rows × 132 columns</p>\n",
       "</div>"
      ],
      "text/plain": [
       "  Brand  Acquisition  Concentration  399.40nm  404.39nm  409.38nm  414.37nm  \\\n",
       "0   C11            2              5  0.999980  0.999967  0.999203  0.992107   \n",
       "1   C11            2              5  0.999980  0.999968  0.999208  0.992223   \n",
       "2   C11            2              5  0.999979  0.999968  0.999220  0.992204   \n",
       "3   C11            2              5  0.999979  0.999966  0.999189  0.992018   \n",
       "4   C11            2              5  0.999977  0.999965  0.999151  0.991986   \n",
       "\n",
       "   419.37nm  424.38nm  429.38nm  ...  1020.10nm  1025.55nm  1031.00nm  \\\n",
       "0  0.953222  0.872113  0.728557  ...   0.477751   0.481703   0.487756   \n",
       "1  0.953823  0.873235  0.731307  ...   0.478158   0.482184   0.488387   \n",
       "2  0.953378  0.872248  0.728564  ...   0.477288   0.481155   0.487180   \n",
       "3  0.952935  0.871801  0.728091  ...   0.477015   0.480936   0.486965   \n",
       "4  0.953458  0.873161  0.732385  ...   0.477190   0.481269   0.487589   \n",
       "\n",
       "   1036.46nm  1041.92nm  1047.38nm  1052.85nm  1058.32nm  1063.79nm     Class  \n",
       "0   0.497647   0.513220   0.528185   0.544014   0.562675   0.583122  Rewarewa  \n",
       "1   0.498356   0.514065   0.529189   0.545075   0.563809   0.584472  Rewarewa  \n",
       "2   0.497018   0.512569   0.527521   0.543329   0.561971   0.582424  Rewarewa  \n",
       "3   0.496816   0.512370   0.527352   0.543177   0.561848   0.582337  Rewarewa  \n",
       "4   0.497584   0.513355   0.528691   0.544639   0.563497   0.584432  Rewarewa  \n",
       "\n",
       "[5 rows x 132 columns]"
      ]
     },
     "execution_count": 512,
     "metadata": {},
     "output_type": "execute_result"
    }
   ],
   "source": [
    "df.head()"
   ]
  },
  {
   "cell_type": "code",
   "execution_count": 513,
   "metadata": {},
   "outputs": [],
   "source": [
    "# Define the mapping dictionary\n",
    "brand_mapping = {\n",
    "    'C1': 1,\n",
    "    'C2': 2,\n",
    "    'C3': 3,\n",
    "    'C4': 4,\n",
    "    'C5': 5,\n",
    "    'C6': 6,\n",
    "    'C7': 7,\n",
    "    'C8': 8,\n",
    "    'C9': 9,\n",
    "    'C10': 10,\n",
    "    'C11': 11,\n",
    "}\n",
    "\n",
    "# Map the values in the 'Brand' column using the mapping dictionary\n",
    "df['Brand'] = df['Brand'].map(brand_mapping)"
   ]
  },
  {
   "cell_type": "code",
   "execution_count": 514,
   "metadata": {},
   "outputs": [
    {
     "data": {
      "text/html": [
       "<div>\n",
       "<style scoped>\n",
       "    .dataframe tbody tr th:only-of-type {\n",
       "        vertical-align: middle;\n",
       "    }\n",
       "\n",
       "    .dataframe tbody tr th {\n",
       "        vertical-align: top;\n",
       "    }\n",
       "\n",
       "    .dataframe thead th {\n",
       "        text-align: right;\n",
       "    }\n",
       "</style>\n",
       "<table border=\"1\" class=\"dataframe\">\n",
       "  <thead>\n",
       "    <tr style=\"text-align: right;\">\n",
       "      <th></th>\n",
       "      <th>Brand</th>\n",
       "      <th>Acquisition</th>\n",
       "      <th>Concentration</th>\n",
       "      <th>399.40nm</th>\n",
       "      <th>404.39nm</th>\n",
       "      <th>409.38nm</th>\n",
       "      <th>414.37nm</th>\n",
       "      <th>419.37nm</th>\n",
       "      <th>424.38nm</th>\n",
       "      <th>429.38nm</th>\n",
       "      <th>...</th>\n",
       "      <th>1020.10nm</th>\n",
       "      <th>1025.55nm</th>\n",
       "      <th>1031.00nm</th>\n",
       "      <th>1036.46nm</th>\n",
       "      <th>1041.92nm</th>\n",
       "      <th>1047.38nm</th>\n",
       "      <th>1052.85nm</th>\n",
       "      <th>1058.32nm</th>\n",
       "      <th>1063.79nm</th>\n",
       "      <th>Class</th>\n",
       "    </tr>\n",
       "  </thead>\n",
       "  <tbody>\n",
       "    <tr>\n",
       "      <th>0</th>\n",
       "      <td>11</td>\n",
       "      <td>2</td>\n",
       "      <td>5</td>\n",
       "      <td>0.999980</td>\n",
       "      <td>0.999967</td>\n",
       "      <td>0.999203</td>\n",
       "      <td>0.992107</td>\n",
       "      <td>0.953222</td>\n",
       "      <td>0.872113</td>\n",
       "      <td>0.728557</td>\n",
       "      <td>...</td>\n",
       "      <td>0.477751</td>\n",
       "      <td>0.481703</td>\n",
       "      <td>0.487756</td>\n",
       "      <td>0.497647</td>\n",
       "      <td>0.513220</td>\n",
       "      <td>0.528185</td>\n",
       "      <td>0.544014</td>\n",
       "      <td>0.562675</td>\n",
       "      <td>0.583122</td>\n",
       "      <td>Rewarewa</td>\n",
       "    </tr>\n",
       "    <tr>\n",
       "      <th>1</th>\n",
       "      <td>11</td>\n",
       "      <td>2</td>\n",
       "      <td>5</td>\n",
       "      <td>0.999980</td>\n",
       "      <td>0.999968</td>\n",
       "      <td>0.999208</td>\n",
       "      <td>0.992223</td>\n",
       "      <td>0.953823</td>\n",
       "      <td>0.873235</td>\n",
       "      <td>0.731307</td>\n",
       "      <td>...</td>\n",
       "      <td>0.478158</td>\n",
       "      <td>0.482184</td>\n",
       "      <td>0.488387</td>\n",
       "      <td>0.498356</td>\n",
       "      <td>0.514065</td>\n",
       "      <td>0.529189</td>\n",
       "      <td>0.545075</td>\n",
       "      <td>0.563809</td>\n",
       "      <td>0.584472</td>\n",
       "      <td>Rewarewa</td>\n",
       "    </tr>\n",
       "    <tr>\n",
       "      <th>2</th>\n",
       "      <td>11</td>\n",
       "      <td>2</td>\n",
       "      <td>5</td>\n",
       "      <td>0.999979</td>\n",
       "      <td>0.999968</td>\n",
       "      <td>0.999220</td>\n",
       "      <td>0.992204</td>\n",
       "      <td>0.953378</td>\n",
       "      <td>0.872248</td>\n",
       "      <td>0.728564</td>\n",
       "      <td>...</td>\n",
       "      <td>0.477288</td>\n",
       "      <td>0.481155</td>\n",
       "      <td>0.487180</td>\n",
       "      <td>0.497018</td>\n",
       "      <td>0.512569</td>\n",
       "      <td>0.527521</td>\n",
       "      <td>0.543329</td>\n",
       "      <td>0.561971</td>\n",
       "      <td>0.582424</td>\n",
       "      <td>Rewarewa</td>\n",
       "    </tr>\n",
       "    <tr>\n",
       "      <th>3</th>\n",
       "      <td>11</td>\n",
       "      <td>2</td>\n",
       "      <td>5</td>\n",
       "      <td>0.999979</td>\n",
       "      <td>0.999966</td>\n",
       "      <td>0.999189</td>\n",
       "      <td>0.992018</td>\n",
       "      <td>0.952935</td>\n",
       "      <td>0.871801</td>\n",
       "      <td>0.728091</td>\n",
       "      <td>...</td>\n",
       "      <td>0.477015</td>\n",
       "      <td>0.480936</td>\n",
       "      <td>0.486965</td>\n",
       "      <td>0.496816</td>\n",
       "      <td>0.512370</td>\n",
       "      <td>0.527352</td>\n",
       "      <td>0.543177</td>\n",
       "      <td>0.561848</td>\n",
       "      <td>0.582337</td>\n",
       "      <td>Rewarewa</td>\n",
       "    </tr>\n",
       "    <tr>\n",
       "      <th>4</th>\n",
       "      <td>11</td>\n",
       "      <td>2</td>\n",
       "      <td>5</td>\n",
       "      <td>0.999977</td>\n",
       "      <td>0.999965</td>\n",
       "      <td>0.999151</td>\n",
       "      <td>0.991986</td>\n",
       "      <td>0.953458</td>\n",
       "      <td>0.873161</td>\n",
       "      <td>0.732385</td>\n",
       "      <td>...</td>\n",
       "      <td>0.477190</td>\n",
       "      <td>0.481269</td>\n",
       "      <td>0.487589</td>\n",
       "      <td>0.497584</td>\n",
       "      <td>0.513355</td>\n",
       "      <td>0.528691</td>\n",
       "      <td>0.544639</td>\n",
       "      <td>0.563497</td>\n",
       "      <td>0.584432</td>\n",
       "      <td>Rewarewa</td>\n",
       "    </tr>\n",
       "  </tbody>\n",
       "</table>\n",
       "<p>5 rows × 132 columns</p>\n",
       "</div>"
      ],
      "text/plain": [
       "   Brand  Acquisition  Concentration  399.40nm  404.39nm  409.38nm  414.37nm  \\\n",
       "0     11            2              5  0.999980  0.999967  0.999203  0.992107   \n",
       "1     11            2              5  0.999980  0.999968  0.999208  0.992223   \n",
       "2     11            2              5  0.999979  0.999968  0.999220  0.992204   \n",
       "3     11            2              5  0.999979  0.999966  0.999189  0.992018   \n",
       "4     11            2              5  0.999977  0.999965  0.999151  0.991986   \n",
       "\n",
       "   419.37nm  424.38nm  429.38nm  ...  1020.10nm  1025.55nm  1031.00nm  \\\n",
       "0  0.953222  0.872113  0.728557  ...   0.477751   0.481703   0.487756   \n",
       "1  0.953823  0.873235  0.731307  ...   0.478158   0.482184   0.488387   \n",
       "2  0.953378  0.872248  0.728564  ...   0.477288   0.481155   0.487180   \n",
       "3  0.952935  0.871801  0.728091  ...   0.477015   0.480936   0.486965   \n",
       "4  0.953458  0.873161  0.732385  ...   0.477190   0.481269   0.487589   \n",
       "\n",
       "   1036.46nm  1041.92nm  1047.38nm  1052.85nm  1058.32nm  1063.79nm     Class  \n",
       "0   0.497647   0.513220   0.528185   0.544014   0.562675   0.583122  Rewarewa  \n",
       "1   0.498356   0.514065   0.529189   0.545075   0.563809   0.584472  Rewarewa  \n",
       "2   0.497018   0.512569   0.527521   0.543329   0.561971   0.582424  Rewarewa  \n",
       "3   0.496816   0.512370   0.527352   0.543177   0.561848   0.582337  Rewarewa  \n",
       "4   0.497584   0.513355   0.528691   0.544639   0.563497   0.584432  Rewarewa  \n",
       "\n",
       "[5 rows x 132 columns]"
      ]
     },
     "execution_count": 514,
     "metadata": {},
     "output_type": "execute_result"
    }
   ],
   "source": [
    "df.head()"
   ]
  },
  {
   "cell_type": "code",
   "execution_count": 515,
   "metadata": {},
   "outputs": [],
   "source": [
    "# Initialize the LabelEncoder\n",
    "label_encoder = LabelEncoder()"
   ]
  },
  {
   "cell_type": "code",
   "execution_count": 516,
   "metadata": {},
   "outputs": [],
   "source": [
    "# Fit and transform the selected column\n",
    "df['Class'] = label_encoder.fit_transform(df['Class'])"
   ]
  },
  {
   "cell_type": "code",
   "execution_count": 517,
   "metadata": {},
   "outputs": [
    {
     "data": {
      "text/html": [
       "<div>\n",
       "<style scoped>\n",
       "    .dataframe tbody tr th:only-of-type {\n",
       "        vertical-align: middle;\n",
       "    }\n",
       "\n",
       "    .dataframe tbody tr th {\n",
       "        vertical-align: top;\n",
       "    }\n",
       "\n",
       "    .dataframe thead th {\n",
       "        text-align: right;\n",
       "    }\n",
       "</style>\n",
       "<table border=\"1\" class=\"dataframe\">\n",
       "  <thead>\n",
       "    <tr style=\"text-align: right;\">\n",
       "      <th></th>\n",
       "      <th>Brand</th>\n",
       "      <th>Acquisition</th>\n",
       "      <th>Concentration</th>\n",
       "      <th>399.40nm</th>\n",
       "      <th>404.39nm</th>\n",
       "      <th>409.38nm</th>\n",
       "      <th>414.37nm</th>\n",
       "      <th>419.37nm</th>\n",
       "      <th>424.38nm</th>\n",
       "      <th>429.38nm</th>\n",
       "      <th>...</th>\n",
       "      <th>1020.10nm</th>\n",
       "      <th>1025.55nm</th>\n",
       "      <th>1031.00nm</th>\n",
       "      <th>1036.46nm</th>\n",
       "      <th>1041.92nm</th>\n",
       "      <th>1047.38nm</th>\n",
       "      <th>1052.85nm</th>\n",
       "      <th>1058.32nm</th>\n",
       "      <th>1063.79nm</th>\n",
       "      <th>Class</th>\n",
       "    </tr>\n",
       "  </thead>\n",
       "  <tbody>\n",
       "    <tr>\n",
       "      <th>0</th>\n",
       "      <td>11</td>\n",
       "      <td>2</td>\n",
       "      <td>5</td>\n",
       "      <td>0.999980</td>\n",
       "      <td>0.999967</td>\n",
       "      <td>0.999203</td>\n",
       "      <td>0.992107</td>\n",
       "      <td>0.953222</td>\n",
       "      <td>0.872113</td>\n",
       "      <td>0.728557</td>\n",
       "      <td>...</td>\n",
       "      <td>0.477751</td>\n",
       "      <td>0.481703</td>\n",
       "      <td>0.487756</td>\n",
       "      <td>0.497647</td>\n",
       "      <td>0.513220</td>\n",
       "      <td>0.528185</td>\n",
       "      <td>0.544014</td>\n",
       "      <td>0.562675</td>\n",
       "      <td>0.583122</td>\n",
       "      <td>19</td>\n",
       "    </tr>\n",
       "    <tr>\n",
       "      <th>1</th>\n",
       "      <td>11</td>\n",
       "      <td>2</td>\n",
       "      <td>5</td>\n",
       "      <td>0.999980</td>\n",
       "      <td>0.999968</td>\n",
       "      <td>0.999208</td>\n",
       "      <td>0.992223</td>\n",
       "      <td>0.953823</td>\n",
       "      <td>0.873235</td>\n",
       "      <td>0.731307</td>\n",
       "      <td>...</td>\n",
       "      <td>0.478158</td>\n",
       "      <td>0.482184</td>\n",
       "      <td>0.488387</td>\n",
       "      <td>0.498356</td>\n",
       "      <td>0.514065</td>\n",
       "      <td>0.529189</td>\n",
       "      <td>0.545075</td>\n",
       "      <td>0.563809</td>\n",
       "      <td>0.584472</td>\n",
       "      <td>19</td>\n",
       "    </tr>\n",
       "    <tr>\n",
       "      <th>2</th>\n",
       "      <td>11</td>\n",
       "      <td>2</td>\n",
       "      <td>5</td>\n",
       "      <td>0.999979</td>\n",
       "      <td>0.999968</td>\n",
       "      <td>0.999220</td>\n",
       "      <td>0.992204</td>\n",
       "      <td>0.953378</td>\n",
       "      <td>0.872248</td>\n",
       "      <td>0.728564</td>\n",
       "      <td>...</td>\n",
       "      <td>0.477288</td>\n",
       "      <td>0.481155</td>\n",
       "      <td>0.487180</td>\n",
       "      <td>0.497018</td>\n",
       "      <td>0.512569</td>\n",
       "      <td>0.527521</td>\n",
       "      <td>0.543329</td>\n",
       "      <td>0.561971</td>\n",
       "      <td>0.582424</td>\n",
       "      <td>19</td>\n",
       "    </tr>\n",
       "    <tr>\n",
       "      <th>3</th>\n",
       "      <td>11</td>\n",
       "      <td>2</td>\n",
       "      <td>5</td>\n",
       "      <td>0.999979</td>\n",
       "      <td>0.999966</td>\n",
       "      <td>0.999189</td>\n",
       "      <td>0.992018</td>\n",
       "      <td>0.952935</td>\n",
       "      <td>0.871801</td>\n",
       "      <td>0.728091</td>\n",
       "      <td>...</td>\n",
       "      <td>0.477015</td>\n",
       "      <td>0.480936</td>\n",
       "      <td>0.486965</td>\n",
       "      <td>0.496816</td>\n",
       "      <td>0.512370</td>\n",
       "      <td>0.527352</td>\n",
       "      <td>0.543177</td>\n",
       "      <td>0.561848</td>\n",
       "      <td>0.582337</td>\n",
       "      <td>19</td>\n",
       "    </tr>\n",
       "    <tr>\n",
       "      <th>4</th>\n",
       "      <td>11</td>\n",
       "      <td>2</td>\n",
       "      <td>5</td>\n",
       "      <td>0.999977</td>\n",
       "      <td>0.999965</td>\n",
       "      <td>0.999151</td>\n",
       "      <td>0.991986</td>\n",
       "      <td>0.953458</td>\n",
       "      <td>0.873161</td>\n",
       "      <td>0.732385</td>\n",
       "      <td>...</td>\n",
       "      <td>0.477190</td>\n",
       "      <td>0.481269</td>\n",
       "      <td>0.487589</td>\n",
       "      <td>0.497584</td>\n",
       "      <td>0.513355</td>\n",
       "      <td>0.528691</td>\n",
       "      <td>0.544639</td>\n",
       "      <td>0.563497</td>\n",
       "      <td>0.584432</td>\n",
       "      <td>19</td>\n",
       "    </tr>\n",
       "  </tbody>\n",
       "</table>\n",
       "<p>5 rows × 132 columns</p>\n",
       "</div>"
      ],
      "text/plain": [
       "   Brand  Acquisition  Concentration  399.40nm  404.39nm  409.38nm  414.37nm  \\\n",
       "0     11            2              5  0.999980  0.999967  0.999203  0.992107   \n",
       "1     11            2              5  0.999980  0.999968  0.999208  0.992223   \n",
       "2     11            2              5  0.999979  0.999968  0.999220  0.992204   \n",
       "3     11            2              5  0.999979  0.999966  0.999189  0.992018   \n",
       "4     11            2              5  0.999977  0.999965  0.999151  0.991986   \n",
       "\n",
       "   419.37nm  424.38nm  429.38nm  ...  1020.10nm  1025.55nm  1031.00nm  \\\n",
       "0  0.953222  0.872113  0.728557  ...   0.477751   0.481703   0.487756   \n",
       "1  0.953823  0.873235  0.731307  ...   0.478158   0.482184   0.488387   \n",
       "2  0.953378  0.872248  0.728564  ...   0.477288   0.481155   0.487180   \n",
       "3  0.952935  0.871801  0.728091  ...   0.477015   0.480936   0.486965   \n",
       "4  0.953458  0.873161  0.732385  ...   0.477190   0.481269   0.487589   \n",
       "\n",
       "   1036.46nm  1041.92nm  1047.38nm  1052.85nm  1058.32nm  1063.79nm  Class  \n",
       "0   0.497647   0.513220   0.528185   0.544014   0.562675   0.583122     19  \n",
       "1   0.498356   0.514065   0.529189   0.545075   0.563809   0.584472     19  \n",
       "2   0.497018   0.512569   0.527521   0.543329   0.561971   0.582424     19  \n",
       "3   0.496816   0.512370   0.527352   0.543177   0.561848   0.582337     19  \n",
       "4   0.497584   0.513355   0.528691   0.544639   0.563497   0.584432     19  \n",
       "\n",
       "[5 rows x 132 columns]"
      ]
     },
     "execution_count": 517,
     "metadata": {},
     "output_type": "execute_result"
    }
   ],
   "source": [
    "df.head()"
   ]
  },
  {
   "cell_type": "code",
   "execution_count": 518,
   "metadata": {},
   "outputs": [
    {
     "data": {
      "text/plain": [
       "Class\n",
       "19    3600\n",
       "8     3600\n",
       "2     3600\n",
       "15    3600\n",
       "16    2400\n",
       "11    2400\n",
       "6     1800\n",
       "20    1800\n",
       "7     1800\n",
       "18    1200\n",
       "5     1200\n",
       "17    1200\n",
       "0     1200\n",
       "13    1200\n",
       "10     600\n",
       "1      600\n",
       "9      600\n",
       "12     600\n",
       "14     600\n",
       "4      600\n",
       "3      600\n",
       "Name: count, dtype: int64"
      ]
     },
     "execution_count": 518,
     "metadata": {},
     "output_type": "execute_result"
    }
   ],
   "source": [
    "df['Class'].value_counts()"
   ]
  },
  {
   "cell_type": "code",
   "execution_count": 519,
   "metadata": {},
   "outputs": [
    {
     "data": {
      "text/html": [
       "<div>\n",
       "<style scoped>\n",
       "    .dataframe tbody tr th:only-of-type {\n",
       "        vertical-align: middle;\n",
       "    }\n",
       "\n",
       "    .dataframe tbody tr th {\n",
       "        vertical-align: top;\n",
       "    }\n",
       "\n",
       "    .dataframe thead th {\n",
       "        text-align: right;\n",
       "    }\n",
       "</style>\n",
       "<table border=\"1\" class=\"dataframe\">\n",
       "  <thead>\n",
       "    <tr style=\"text-align: right;\">\n",
       "      <th></th>\n",
       "      <th>Brand</th>\n",
       "      <th>Acquisition</th>\n",
       "      <th>Concentration</th>\n",
       "      <th>399.40nm</th>\n",
       "      <th>404.39nm</th>\n",
       "      <th>409.38nm</th>\n",
       "      <th>414.37nm</th>\n",
       "      <th>419.37nm</th>\n",
       "      <th>424.38nm</th>\n",
       "      <th>429.38nm</th>\n",
       "      <th>...</th>\n",
       "      <th>1020.10nm</th>\n",
       "      <th>1025.55nm</th>\n",
       "      <th>1031.00nm</th>\n",
       "      <th>1036.46nm</th>\n",
       "      <th>1041.92nm</th>\n",
       "      <th>1047.38nm</th>\n",
       "      <th>1052.85nm</th>\n",
       "      <th>1058.32nm</th>\n",
       "      <th>1063.79nm</th>\n",
       "      <th>Class</th>\n",
       "    </tr>\n",
       "  </thead>\n",
       "  <tbody>\n",
       "    <tr>\n",
       "      <th>0</th>\n",
       "      <td>11</td>\n",
       "      <td>2</td>\n",
       "      <td>5</td>\n",
       "      <td>0.999980</td>\n",
       "      <td>0.999967</td>\n",
       "      <td>0.999203</td>\n",
       "      <td>0.992107</td>\n",
       "      <td>0.953222</td>\n",
       "      <td>0.872113</td>\n",
       "      <td>0.728557</td>\n",
       "      <td>...</td>\n",
       "      <td>0.477751</td>\n",
       "      <td>0.481703</td>\n",
       "      <td>0.487756</td>\n",
       "      <td>0.497647</td>\n",
       "      <td>0.513220</td>\n",
       "      <td>0.528185</td>\n",
       "      <td>0.544014</td>\n",
       "      <td>0.562675</td>\n",
       "      <td>0.583122</td>\n",
       "      <td>19</td>\n",
       "    </tr>\n",
       "    <tr>\n",
       "      <th>1</th>\n",
       "      <td>11</td>\n",
       "      <td>2</td>\n",
       "      <td>5</td>\n",
       "      <td>0.999980</td>\n",
       "      <td>0.999968</td>\n",
       "      <td>0.999208</td>\n",
       "      <td>0.992223</td>\n",
       "      <td>0.953823</td>\n",
       "      <td>0.873235</td>\n",
       "      <td>0.731307</td>\n",
       "      <td>...</td>\n",
       "      <td>0.478158</td>\n",
       "      <td>0.482184</td>\n",
       "      <td>0.488387</td>\n",
       "      <td>0.498356</td>\n",
       "      <td>0.514065</td>\n",
       "      <td>0.529189</td>\n",
       "      <td>0.545075</td>\n",
       "      <td>0.563809</td>\n",
       "      <td>0.584472</td>\n",
       "      <td>19</td>\n",
       "    </tr>\n",
       "    <tr>\n",
       "      <th>2</th>\n",
       "      <td>11</td>\n",
       "      <td>2</td>\n",
       "      <td>5</td>\n",
       "      <td>0.999979</td>\n",
       "      <td>0.999968</td>\n",
       "      <td>0.999220</td>\n",
       "      <td>0.992204</td>\n",
       "      <td>0.953378</td>\n",
       "      <td>0.872248</td>\n",
       "      <td>0.728564</td>\n",
       "      <td>...</td>\n",
       "      <td>0.477288</td>\n",
       "      <td>0.481155</td>\n",
       "      <td>0.487180</td>\n",
       "      <td>0.497018</td>\n",
       "      <td>0.512569</td>\n",
       "      <td>0.527521</td>\n",
       "      <td>0.543329</td>\n",
       "      <td>0.561971</td>\n",
       "      <td>0.582424</td>\n",
       "      <td>19</td>\n",
       "    </tr>\n",
       "    <tr>\n",
       "      <th>3</th>\n",
       "      <td>11</td>\n",
       "      <td>2</td>\n",
       "      <td>5</td>\n",
       "      <td>0.999979</td>\n",
       "      <td>0.999966</td>\n",
       "      <td>0.999189</td>\n",
       "      <td>0.992018</td>\n",
       "      <td>0.952935</td>\n",
       "      <td>0.871801</td>\n",
       "      <td>0.728091</td>\n",
       "      <td>...</td>\n",
       "      <td>0.477015</td>\n",
       "      <td>0.480936</td>\n",
       "      <td>0.486965</td>\n",
       "      <td>0.496816</td>\n",
       "      <td>0.512370</td>\n",
       "      <td>0.527352</td>\n",
       "      <td>0.543177</td>\n",
       "      <td>0.561848</td>\n",
       "      <td>0.582337</td>\n",
       "      <td>19</td>\n",
       "    </tr>\n",
       "    <tr>\n",
       "      <th>4</th>\n",
       "      <td>11</td>\n",
       "      <td>2</td>\n",
       "      <td>5</td>\n",
       "      <td>0.999977</td>\n",
       "      <td>0.999965</td>\n",
       "      <td>0.999151</td>\n",
       "      <td>0.991986</td>\n",
       "      <td>0.953458</td>\n",
       "      <td>0.873161</td>\n",
       "      <td>0.732385</td>\n",
       "      <td>...</td>\n",
       "      <td>0.477190</td>\n",
       "      <td>0.481269</td>\n",
       "      <td>0.487589</td>\n",
       "      <td>0.497584</td>\n",
       "      <td>0.513355</td>\n",
       "      <td>0.528691</td>\n",
       "      <td>0.544639</td>\n",
       "      <td>0.563497</td>\n",
       "      <td>0.584432</td>\n",
       "      <td>19</td>\n",
       "    </tr>\n",
       "  </tbody>\n",
       "</table>\n",
       "<p>5 rows × 132 columns</p>\n",
       "</div>"
      ],
      "text/plain": [
       "   Brand  Acquisition  Concentration  399.40nm  404.39nm  409.38nm  414.37nm  \\\n",
       "0     11            2              5  0.999980  0.999967  0.999203  0.992107   \n",
       "1     11            2              5  0.999980  0.999968  0.999208  0.992223   \n",
       "2     11            2              5  0.999979  0.999968  0.999220  0.992204   \n",
       "3     11            2              5  0.999979  0.999966  0.999189  0.992018   \n",
       "4     11            2              5  0.999977  0.999965  0.999151  0.991986   \n",
       "\n",
       "   419.37nm  424.38nm  429.38nm  ...  1020.10nm  1025.55nm  1031.00nm  \\\n",
       "0  0.953222  0.872113  0.728557  ...   0.477751   0.481703   0.487756   \n",
       "1  0.953823  0.873235  0.731307  ...   0.478158   0.482184   0.488387   \n",
       "2  0.953378  0.872248  0.728564  ...   0.477288   0.481155   0.487180   \n",
       "3  0.952935  0.871801  0.728091  ...   0.477015   0.480936   0.486965   \n",
       "4  0.953458  0.873161  0.732385  ...   0.477190   0.481269   0.487589   \n",
       "\n",
       "   1036.46nm  1041.92nm  1047.38nm  1052.85nm  1058.32nm  1063.79nm  Class  \n",
       "0   0.497647   0.513220   0.528185   0.544014   0.562675   0.583122     19  \n",
       "1   0.498356   0.514065   0.529189   0.545075   0.563809   0.584472     19  \n",
       "2   0.497018   0.512569   0.527521   0.543329   0.561971   0.582424     19  \n",
       "3   0.496816   0.512370   0.527352   0.543177   0.561848   0.582337     19  \n",
       "4   0.497584   0.513355   0.528691   0.544639   0.563497   0.584432     19  \n",
       "\n",
       "[5 rows x 132 columns]"
      ]
     },
     "execution_count": 519,
     "metadata": {},
     "output_type": "execute_result"
    }
   ],
   "source": [
    "df.head()"
   ]
  },
  {
   "cell_type": "code",
   "execution_count": 520,
   "metadata": {},
   "outputs": [],
   "source": [
    "df.drop('Concentration',axis=1,inplace=True)"
   ]
  },
  {
   "cell_type": "code",
   "execution_count": 521,
   "metadata": {},
   "outputs": [],
   "source": [
    "X=df"
   ]
  },
  {
   "cell_type": "markdown",
   "metadata": {},
   "source": [
    "# Splitting the dataset"
   ]
  },
  {
   "cell_type": "code",
   "execution_count": 522,
   "metadata": {},
   "outputs": [],
   "source": [
    "from sklearn.model_selection import train_test_split"
   ]
  },
  {
   "cell_type": "markdown",
   "metadata": {},
   "source": [
    "# 7:3"
   ]
  },
  {
   "cell_type": "code",
   "execution_count": 523,
   "metadata": {},
   "outputs": [],
   "source": [
    "X_train,X_test,y_train,y_test=train_test_split(X,Y,test_size=0.3,random_state=42,shuffle=True)"
   ]
  },
  {
   "cell_type": "markdown",
   "metadata": {},
   "source": [
    "# LinearRegression"
   ]
  },
  {
   "cell_type": "code",
   "execution_count": 524,
   "metadata": {},
   "outputs": [],
   "source": [
    "# Initialize the Linear Regression model\n",
    "model = LinearRegression()\n"
   ]
  },
  {
   "cell_type": "code",
   "execution_count": 525,
   "metadata": {},
   "outputs": [
    {
     "data": {
      "text/html": [
       "<style>#sk-container-id-9 {color: black;}#sk-container-id-9 pre{padding: 0;}#sk-container-id-9 div.sk-toggleable {background-color: white;}#sk-container-id-9 label.sk-toggleable__label {cursor: pointer;display: block;width: 100%;margin-bottom: 0;padding: 0.3em;box-sizing: border-box;text-align: center;}#sk-container-id-9 label.sk-toggleable__label-arrow:before {content: \"▸\";float: left;margin-right: 0.25em;color: #696969;}#sk-container-id-9 label.sk-toggleable__label-arrow:hover:before {color: black;}#sk-container-id-9 div.sk-estimator:hover label.sk-toggleable__label-arrow:before {color: black;}#sk-container-id-9 div.sk-toggleable__content {max-height: 0;max-width: 0;overflow: hidden;text-align: left;background-color: #f0f8ff;}#sk-container-id-9 div.sk-toggleable__content pre {margin: 0.2em;color: black;border-radius: 0.25em;background-color: #f0f8ff;}#sk-container-id-9 input.sk-toggleable__control:checked~div.sk-toggleable__content {max-height: 200px;max-width: 100%;overflow: auto;}#sk-container-id-9 input.sk-toggleable__control:checked~label.sk-toggleable__label-arrow:before {content: \"▾\";}#sk-container-id-9 div.sk-estimator input.sk-toggleable__control:checked~label.sk-toggleable__label {background-color: #d4ebff;}#sk-container-id-9 div.sk-label input.sk-toggleable__control:checked~label.sk-toggleable__label {background-color: #d4ebff;}#sk-container-id-9 input.sk-hidden--visually {border: 0;clip: rect(1px 1px 1px 1px);clip: rect(1px, 1px, 1px, 1px);height: 1px;margin: -1px;overflow: hidden;padding: 0;position: absolute;width: 1px;}#sk-container-id-9 div.sk-estimator {font-family: monospace;background-color: #f0f8ff;border: 1px dotted black;border-radius: 0.25em;box-sizing: border-box;margin-bottom: 0.5em;}#sk-container-id-9 div.sk-estimator:hover {background-color: #d4ebff;}#sk-container-id-9 div.sk-parallel-item::after {content: \"\";width: 100%;border-bottom: 1px solid gray;flex-grow: 1;}#sk-container-id-9 div.sk-label:hover label.sk-toggleable__label {background-color: #d4ebff;}#sk-container-id-9 div.sk-serial::before {content: \"\";position: absolute;border-left: 1px solid gray;box-sizing: border-box;top: 0;bottom: 0;left: 50%;z-index: 0;}#sk-container-id-9 div.sk-serial {display: flex;flex-direction: column;align-items: center;background-color: white;padding-right: 0.2em;padding-left: 0.2em;position: relative;}#sk-container-id-9 div.sk-item {position: relative;z-index: 1;}#sk-container-id-9 div.sk-parallel {display: flex;align-items: stretch;justify-content: center;background-color: white;position: relative;}#sk-container-id-9 div.sk-item::before, #sk-container-id-9 div.sk-parallel-item::before {content: \"\";position: absolute;border-left: 1px solid gray;box-sizing: border-box;top: 0;bottom: 0;left: 50%;z-index: -1;}#sk-container-id-9 div.sk-parallel-item {display: flex;flex-direction: column;z-index: 1;position: relative;background-color: white;}#sk-container-id-9 div.sk-parallel-item:first-child::after {align-self: flex-end;width: 50%;}#sk-container-id-9 div.sk-parallel-item:last-child::after {align-self: flex-start;width: 50%;}#sk-container-id-9 div.sk-parallel-item:only-child::after {width: 0;}#sk-container-id-9 div.sk-dashed-wrapped {border: 1px dashed gray;margin: 0 0.4em 0.5em 0.4em;box-sizing: border-box;padding-bottom: 0.4em;background-color: white;}#sk-container-id-9 div.sk-label label {font-family: monospace;font-weight: bold;display: inline-block;line-height: 1.2em;}#sk-container-id-9 div.sk-label-container {text-align: center;}#sk-container-id-9 div.sk-container {/* jupyter's `normalize.less` sets `[hidden] { display: none; }` but bootstrap.min.css set `[hidden] { display: none !important; }` so we also need the `!important` here to be able to override the default hidden behavior on the sphinx rendered scikit-learn.org. See: https://github.com/scikit-learn/scikit-learn/issues/21755 */display: inline-block !important;position: relative;}#sk-container-id-9 div.sk-text-repr-fallback {display: none;}</style><div id=\"sk-container-id-9\" class=\"sk-top-container\"><div class=\"sk-text-repr-fallback\"><pre>LinearRegression()</pre><b>In a Jupyter environment, please rerun this cell to show the HTML representation or trust the notebook. <br />On GitHub, the HTML representation is unable to render, please try loading this page with nbviewer.org.</b></div><div class=\"sk-container\" hidden><div class=\"sk-item\"><div class=\"sk-estimator sk-toggleable\"><input class=\"sk-toggleable__control sk-hidden--visually\" id=\"sk-estimator-id-9\" type=\"checkbox\" checked><label for=\"sk-estimator-id-9\" class=\"sk-toggleable__label sk-toggleable__label-arrow\">LinearRegression</label><div class=\"sk-toggleable__content\"><pre>LinearRegression()</pre></div></div></div></div></div>"
      ],
      "text/plain": [
       "LinearRegression()"
      ]
     },
     "execution_count": 525,
     "metadata": {},
     "output_type": "execute_result"
    }
   ],
   "source": [
    "\n",
    "# Fit the model to the training data\n",
    "model.fit(X_train, y_train)"
   ]
  },
  {
   "cell_type": "code",
   "execution_count": 526,
   "metadata": {},
   "outputs": [],
   "source": [
    "\n",
    "# Make predictions on the testing data\n",
    "y_pred = model.predict(X_test)"
   ]
  },
  {
   "cell_type": "code",
   "execution_count": 527,
   "metadata": {},
   "outputs": [
    {
     "name": "stdout",
     "output_type": "stream",
     "text": [
      "Mean Squared Error: 1.6076478733345836\n"
     ]
    }
   ],
   "source": [
    "\n",
    "# Calculate Mean Squared Error (MSE) as a measure of model performance\n",
    "mse = mean_squared_error(y_test, y_pred)\n",
    "print(f\"Mean Squared Error: {mse}\")"
   ]
  },
  {
   "cell_type": "markdown",
   "metadata": {},
   "source": [
    "# Random Forest Regressor"
   ]
  },
  {
   "cell_type": "code",
   "execution_count": 528,
   "metadata": {},
   "outputs": [],
   "source": [
    "from sklearn.ensemble import RandomForestRegressor"
   ]
  },
  {
   "cell_type": "code",
   "execution_count": 529,
   "metadata": {},
   "outputs": [],
   "source": [
    "# Initialize the Random Forest Regressor\n",
    "rf_regressor = RandomForestRegressor(n_estimators=100, random_state=42)\n"
   ]
  },
  {
   "cell_type": "code",
   "execution_count": 530,
   "metadata": {},
   "outputs": [
    {
     "data": {
      "text/html": [
       "<style>#sk-container-id-10 {color: black;}#sk-container-id-10 pre{padding: 0;}#sk-container-id-10 div.sk-toggleable {background-color: white;}#sk-container-id-10 label.sk-toggleable__label {cursor: pointer;display: block;width: 100%;margin-bottom: 0;padding: 0.3em;box-sizing: border-box;text-align: center;}#sk-container-id-10 label.sk-toggleable__label-arrow:before {content: \"▸\";float: left;margin-right: 0.25em;color: #696969;}#sk-container-id-10 label.sk-toggleable__label-arrow:hover:before {color: black;}#sk-container-id-10 div.sk-estimator:hover label.sk-toggleable__label-arrow:before {color: black;}#sk-container-id-10 div.sk-toggleable__content {max-height: 0;max-width: 0;overflow: hidden;text-align: left;background-color: #f0f8ff;}#sk-container-id-10 div.sk-toggleable__content pre {margin: 0.2em;color: black;border-radius: 0.25em;background-color: #f0f8ff;}#sk-container-id-10 input.sk-toggleable__control:checked~div.sk-toggleable__content {max-height: 200px;max-width: 100%;overflow: auto;}#sk-container-id-10 input.sk-toggleable__control:checked~label.sk-toggleable__label-arrow:before {content: \"▾\";}#sk-container-id-10 div.sk-estimator input.sk-toggleable__control:checked~label.sk-toggleable__label {background-color: #d4ebff;}#sk-container-id-10 div.sk-label input.sk-toggleable__control:checked~label.sk-toggleable__label {background-color: #d4ebff;}#sk-container-id-10 input.sk-hidden--visually {border: 0;clip: rect(1px 1px 1px 1px);clip: rect(1px, 1px, 1px, 1px);height: 1px;margin: -1px;overflow: hidden;padding: 0;position: absolute;width: 1px;}#sk-container-id-10 div.sk-estimator {font-family: monospace;background-color: #f0f8ff;border: 1px dotted black;border-radius: 0.25em;box-sizing: border-box;margin-bottom: 0.5em;}#sk-container-id-10 div.sk-estimator:hover {background-color: #d4ebff;}#sk-container-id-10 div.sk-parallel-item::after {content: \"\";width: 100%;border-bottom: 1px solid gray;flex-grow: 1;}#sk-container-id-10 div.sk-label:hover label.sk-toggleable__label {background-color: #d4ebff;}#sk-container-id-10 div.sk-serial::before {content: \"\";position: absolute;border-left: 1px solid gray;box-sizing: border-box;top: 0;bottom: 0;left: 50%;z-index: 0;}#sk-container-id-10 div.sk-serial {display: flex;flex-direction: column;align-items: center;background-color: white;padding-right: 0.2em;padding-left: 0.2em;position: relative;}#sk-container-id-10 div.sk-item {position: relative;z-index: 1;}#sk-container-id-10 div.sk-parallel {display: flex;align-items: stretch;justify-content: center;background-color: white;position: relative;}#sk-container-id-10 div.sk-item::before, #sk-container-id-10 div.sk-parallel-item::before {content: \"\";position: absolute;border-left: 1px solid gray;box-sizing: border-box;top: 0;bottom: 0;left: 50%;z-index: -1;}#sk-container-id-10 div.sk-parallel-item {display: flex;flex-direction: column;z-index: 1;position: relative;background-color: white;}#sk-container-id-10 div.sk-parallel-item:first-child::after {align-self: flex-end;width: 50%;}#sk-container-id-10 div.sk-parallel-item:last-child::after {align-self: flex-start;width: 50%;}#sk-container-id-10 div.sk-parallel-item:only-child::after {width: 0;}#sk-container-id-10 div.sk-dashed-wrapped {border: 1px dashed gray;margin: 0 0.4em 0.5em 0.4em;box-sizing: border-box;padding-bottom: 0.4em;background-color: white;}#sk-container-id-10 div.sk-label label {font-family: monospace;font-weight: bold;display: inline-block;line-height: 1.2em;}#sk-container-id-10 div.sk-label-container {text-align: center;}#sk-container-id-10 div.sk-container {/* jupyter's `normalize.less` sets `[hidden] { display: none; }` but bootstrap.min.css set `[hidden] { display: none !important; }` so we also need the `!important` here to be able to override the default hidden behavior on the sphinx rendered scikit-learn.org. See: https://github.com/scikit-learn/scikit-learn/issues/21755 */display: inline-block !important;position: relative;}#sk-container-id-10 div.sk-text-repr-fallback {display: none;}</style><div id=\"sk-container-id-10\" class=\"sk-top-container\"><div class=\"sk-text-repr-fallback\"><pre>RandomForestRegressor(random_state=42)</pre><b>In a Jupyter environment, please rerun this cell to show the HTML representation or trust the notebook. <br />On GitHub, the HTML representation is unable to render, please try loading this page with nbviewer.org.</b></div><div class=\"sk-container\" hidden><div class=\"sk-item\"><div class=\"sk-estimator sk-toggleable\"><input class=\"sk-toggleable__control sk-hidden--visually\" id=\"sk-estimator-id-10\" type=\"checkbox\" checked><label for=\"sk-estimator-id-10\" class=\"sk-toggleable__label sk-toggleable__label-arrow\">RandomForestRegressor</label><div class=\"sk-toggleable__content\"><pre>RandomForestRegressor(random_state=42)</pre></div></div></div></div></div>"
      ],
      "text/plain": [
       "RandomForestRegressor(random_state=42)"
      ]
     },
     "execution_count": 530,
     "metadata": {},
     "output_type": "execute_result"
    }
   ],
   "source": [
    "\n",
    "# Fit the model to the training data\n",
    "rf_regressor.fit(X_train, y_train)"
   ]
  },
  {
   "cell_type": "code",
   "execution_count": 531,
   "metadata": {},
   "outputs": [],
   "source": [
    "\n",
    "# Predict the concentrations on the testing data\n",
    "y_pred = rf_regressor.predict(X_test)"
   ]
  },
  {
   "cell_type": "code",
   "execution_count": 532,
   "metadata": {},
   "outputs": [
    {
     "name": "stdout",
     "output_type": "stream",
     "text": [
      "Mean Squared Error: 0.24939415708812257\n"
     ]
    }
   ],
   "source": [
    "\n",
    "# Calculate the Mean Squared Error\n",
    "mse = mean_squared_error(y_test, y_pred)\n",
    "print(\"Mean Squared Error:\", mse)"
   ]
  },
  {
   "cell_type": "markdown",
   "metadata": {},
   "source": [
    "# MLP Regressor"
   ]
  },
  {
   "cell_type": "code",
   "execution_count": 533,
   "metadata": {},
   "outputs": [],
   "source": [
    "from sklearn.neural_network import MLPRegressor"
   ]
  },
  {
   "cell_type": "code",
   "execution_count": 534,
   "metadata": {},
   "outputs": [],
   "source": [
    "# Standardize features\n",
    "scaler = StandardScaler()\n",
    "X_train_scaled = scaler.fit_transform(X_train)\n",
    "X_test_scaled = scaler.transform(X_test)\n"
   ]
  },
  {
   "cell_type": "code",
   "execution_count": 535,
   "metadata": {},
   "outputs": [],
   "source": [
    "# Initialize the MLPRegressor (neural network) model\n",
    "mlp_regressor = MLPRegressor(hidden_layer_sizes=(100, 50), activation='relu', solver='adam', random_state=42)\n"
   ]
  },
  {
   "cell_type": "code",
   "execution_count": 536,
   "metadata": {},
   "outputs": [
    {
     "data": {
      "text/html": [
       "<style>#sk-container-id-11 {color: black;}#sk-container-id-11 pre{padding: 0;}#sk-container-id-11 div.sk-toggleable {background-color: white;}#sk-container-id-11 label.sk-toggleable__label {cursor: pointer;display: block;width: 100%;margin-bottom: 0;padding: 0.3em;box-sizing: border-box;text-align: center;}#sk-container-id-11 label.sk-toggleable__label-arrow:before {content: \"▸\";float: left;margin-right: 0.25em;color: #696969;}#sk-container-id-11 label.sk-toggleable__label-arrow:hover:before {color: black;}#sk-container-id-11 div.sk-estimator:hover label.sk-toggleable__label-arrow:before {color: black;}#sk-container-id-11 div.sk-toggleable__content {max-height: 0;max-width: 0;overflow: hidden;text-align: left;background-color: #f0f8ff;}#sk-container-id-11 div.sk-toggleable__content pre {margin: 0.2em;color: black;border-radius: 0.25em;background-color: #f0f8ff;}#sk-container-id-11 input.sk-toggleable__control:checked~div.sk-toggleable__content {max-height: 200px;max-width: 100%;overflow: auto;}#sk-container-id-11 input.sk-toggleable__control:checked~label.sk-toggleable__label-arrow:before {content: \"▾\";}#sk-container-id-11 div.sk-estimator input.sk-toggleable__control:checked~label.sk-toggleable__label {background-color: #d4ebff;}#sk-container-id-11 div.sk-label input.sk-toggleable__control:checked~label.sk-toggleable__label {background-color: #d4ebff;}#sk-container-id-11 input.sk-hidden--visually {border: 0;clip: rect(1px 1px 1px 1px);clip: rect(1px, 1px, 1px, 1px);height: 1px;margin: -1px;overflow: hidden;padding: 0;position: absolute;width: 1px;}#sk-container-id-11 div.sk-estimator {font-family: monospace;background-color: #f0f8ff;border: 1px dotted black;border-radius: 0.25em;box-sizing: border-box;margin-bottom: 0.5em;}#sk-container-id-11 div.sk-estimator:hover {background-color: #d4ebff;}#sk-container-id-11 div.sk-parallel-item::after {content: \"\";width: 100%;border-bottom: 1px solid gray;flex-grow: 1;}#sk-container-id-11 div.sk-label:hover label.sk-toggleable__label {background-color: #d4ebff;}#sk-container-id-11 div.sk-serial::before {content: \"\";position: absolute;border-left: 1px solid gray;box-sizing: border-box;top: 0;bottom: 0;left: 50%;z-index: 0;}#sk-container-id-11 div.sk-serial {display: flex;flex-direction: column;align-items: center;background-color: white;padding-right: 0.2em;padding-left: 0.2em;position: relative;}#sk-container-id-11 div.sk-item {position: relative;z-index: 1;}#sk-container-id-11 div.sk-parallel {display: flex;align-items: stretch;justify-content: center;background-color: white;position: relative;}#sk-container-id-11 div.sk-item::before, #sk-container-id-11 div.sk-parallel-item::before {content: \"\";position: absolute;border-left: 1px solid gray;box-sizing: border-box;top: 0;bottom: 0;left: 50%;z-index: -1;}#sk-container-id-11 div.sk-parallel-item {display: flex;flex-direction: column;z-index: 1;position: relative;background-color: white;}#sk-container-id-11 div.sk-parallel-item:first-child::after {align-self: flex-end;width: 50%;}#sk-container-id-11 div.sk-parallel-item:last-child::after {align-self: flex-start;width: 50%;}#sk-container-id-11 div.sk-parallel-item:only-child::after {width: 0;}#sk-container-id-11 div.sk-dashed-wrapped {border: 1px dashed gray;margin: 0 0.4em 0.5em 0.4em;box-sizing: border-box;padding-bottom: 0.4em;background-color: white;}#sk-container-id-11 div.sk-label label {font-family: monospace;font-weight: bold;display: inline-block;line-height: 1.2em;}#sk-container-id-11 div.sk-label-container {text-align: center;}#sk-container-id-11 div.sk-container {/* jupyter's `normalize.less` sets `[hidden] { display: none; }` but bootstrap.min.css set `[hidden] { display: none !important; }` so we also need the `!important` here to be able to override the default hidden behavior on the sphinx rendered scikit-learn.org. See: https://github.com/scikit-learn/scikit-learn/issues/21755 */display: inline-block !important;position: relative;}#sk-container-id-11 div.sk-text-repr-fallback {display: none;}</style><div id=\"sk-container-id-11\" class=\"sk-top-container\"><div class=\"sk-text-repr-fallback\"><pre>MLPRegressor(hidden_layer_sizes=(100, 50), random_state=42)</pre><b>In a Jupyter environment, please rerun this cell to show the HTML representation or trust the notebook. <br />On GitHub, the HTML representation is unable to render, please try loading this page with nbviewer.org.</b></div><div class=\"sk-container\" hidden><div class=\"sk-item\"><div class=\"sk-estimator sk-toggleable\"><input class=\"sk-toggleable__control sk-hidden--visually\" id=\"sk-estimator-id-11\" type=\"checkbox\" checked><label for=\"sk-estimator-id-11\" class=\"sk-toggleable__label sk-toggleable__label-arrow\">MLPRegressor</label><div class=\"sk-toggleable__content\"><pre>MLPRegressor(hidden_layer_sizes=(100, 50), random_state=42)</pre></div></div></div></div></div>"
      ],
      "text/plain": [
       "MLPRegressor(hidden_layer_sizes=(100, 50), random_state=42)"
      ]
     },
     "execution_count": 536,
     "metadata": {},
     "output_type": "execute_result"
    }
   ],
   "source": [
    "# Fit the model to the scaled training data\n",
    "mlp_regressor.fit(X_train_scaled, y_train)\n"
   ]
  },
  {
   "cell_type": "code",
   "execution_count": 537,
   "metadata": {},
   "outputs": [],
   "source": [
    "# Predict the concentrations on the scaled testing data\n",
    "y_pred = mlp_regressor.predict(X_test_scaled)"
   ]
  },
  {
   "cell_type": "code",
   "execution_count": 538,
   "metadata": {},
   "outputs": [
    {
     "name": "stdout",
     "output_type": "stream",
     "text": [
      "Mean Squared Error: 0.4050728824483903\n"
     ]
    }
   ],
   "source": [
    "# Calculate the Mean Squared Error\n",
    "mse = mean_squared_error(y_test, y_pred)\n",
    "print(\"Mean Squared Error:\", mse)"
   ]
  },
  {
   "cell_type": "markdown",
   "metadata": {},
   "source": [
    "# SVR regressor"
   ]
  },
  {
   "cell_type": "code",
   "execution_count": 539,
   "metadata": {},
   "outputs": [],
   "source": [
    "from sklearn.svm import SVR"
   ]
  },
  {
   "cell_type": "code",
   "execution_count": 540,
   "metadata": {},
   "outputs": [],
   "source": [
    "# Standardize features\n",
    "scaler = StandardScaler()\n",
    "X_train_scaled = scaler.fit_transform(X_train)\n",
    "X_test_scaled = scaler.transform(X_test)\n"
   ]
  },
  {
   "cell_type": "code",
   "execution_count": 541,
   "metadata": {},
   "outputs": [],
   "source": [
    "# Initialize the SVR model\n",
    "svr_regressor = SVR(kernel='rbf')\n",
    "\n"
   ]
  },
  {
   "cell_type": "code",
   "execution_count": 542,
   "metadata": {},
   "outputs": [
    {
     "data": {
      "text/html": [
       "<style>#sk-container-id-12 {color: black;}#sk-container-id-12 pre{padding: 0;}#sk-container-id-12 div.sk-toggleable {background-color: white;}#sk-container-id-12 label.sk-toggleable__label {cursor: pointer;display: block;width: 100%;margin-bottom: 0;padding: 0.3em;box-sizing: border-box;text-align: center;}#sk-container-id-12 label.sk-toggleable__label-arrow:before {content: \"▸\";float: left;margin-right: 0.25em;color: #696969;}#sk-container-id-12 label.sk-toggleable__label-arrow:hover:before {color: black;}#sk-container-id-12 div.sk-estimator:hover label.sk-toggleable__label-arrow:before {color: black;}#sk-container-id-12 div.sk-toggleable__content {max-height: 0;max-width: 0;overflow: hidden;text-align: left;background-color: #f0f8ff;}#sk-container-id-12 div.sk-toggleable__content pre {margin: 0.2em;color: black;border-radius: 0.25em;background-color: #f0f8ff;}#sk-container-id-12 input.sk-toggleable__control:checked~div.sk-toggleable__content {max-height: 200px;max-width: 100%;overflow: auto;}#sk-container-id-12 input.sk-toggleable__control:checked~label.sk-toggleable__label-arrow:before {content: \"▾\";}#sk-container-id-12 div.sk-estimator input.sk-toggleable__control:checked~label.sk-toggleable__label {background-color: #d4ebff;}#sk-container-id-12 div.sk-label input.sk-toggleable__control:checked~label.sk-toggleable__label {background-color: #d4ebff;}#sk-container-id-12 input.sk-hidden--visually {border: 0;clip: rect(1px 1px 1px 1px);clip: rect(1px, 1px, 1px, 1px);height: 1px;margin: -1px;overflow: hidden;padding: 0;position: absolute;width: 1px;}#sk-container-id-12 div.sk-estimator {font-family: monospace;background-color: #f0f8ff;border: 1px dotted black;border-radius: 0.25em;box-sizing: border-box;margin-bottom: 0.5em;}#sk-container-id-12 div.sk-estimator:hover {background-color: #d4ebff;}#sk-container-id-12 div.sk-parallel-item::after {content: \"\";width: 100%;border-bottom: 1px solid gray;flex-grow: 1;}#sk-container-id-12 div.sk-label:hover label.sk-toggleable__label {background-color: #d4ebff;}#sk-container-id-12 div.sk-serial::before {content: \"\";position: absolute;border-left: 1px solid gray;box-sizing: border-box;top: 0;bottom: 0;left: 50%;z-index: 0;}#sk-container-id-12 div.sk-serial {display: flex;flex-direction: column;align-items: center;background-color: white;padding-right: 0.2em;padding-left: 0.2em;position: relative;}#sk-container-id-12 div.sk-item {position: relative;z-index: 1;}#sk-container-id-12 div.sk-parallel {display: flex;align-items: stretch;justify-content: center;background-color: white;position: relative;}#sk-container-id-12 div.sk-item::before, #sk-container-id-12 div.sk-parallel-item::before {content: \"\";position: absolute;border-left: 1px solid gray;box-sizing: border-box;top: 0;bottom: 0;left: 50%;z-index: -1;}#sk-container-id-12 div.sk-parallel-item {display: flex;flex-direction: column;z-index: 1;position: relative;background-color: white;}#sk-container-id-12 div.sk-parallel-item:first-child::after {align-self: flex-end;width: 50%;}#sk-container-id-12 div.sk-parallel-item:last-child::after {align-self: flex-start;width: 50%;}#sk-container-id-12 div.sk-parallel-item:only-child::after {width: 0;}#sk-container-id-12 div.sk-dashed-wrapped {border: 1px dashed gray;margin: 0 0.4em 0.5em 0.4em;box-sizing: border-box;padding-bottom: 0.4em;background-color: white;}#sk-container-id-12 div.sk-label label {font-family: monospace;font-weight: bold;display: inline-block;line-height: 1.2em;}#sk-container-id-12 div.sk-label-container {text-align: center;}#sk-container-id-12 div.sk-container {/* jupyter's `normalize.less` sets `[hidden] { display: none; }` but bootstrap.min.css set `[hidden] { display: none !important; }` so we also need the `!important` here to be able to override the default hidden behavior on the sphinx rendered scikit-learn.org. See: https://github.com/scikit-learn/scikit-learn/issues/21755 */display: inline-block !important;position: relative;}#sk-container-id-12 div.sk-text-repr-fallback {display: none;}</style><div id=\"sk-container-id-12\" class=\"sk-top-container\"><div class=\"sk-text-repr-fallback\"><pre>SVR()</pre><b>In a Jupyter environment, please rerun this cell to show the HTML representation or trust the notebook. <br />On GitHub, the HTML representation is unable to render, please try loading this page with nbviewer.org.</b></div><div class=\"sk-container\" hidden><div class=\"sk-item\"><div class=\"sk-estimator sk-toggleable\"><input class=\"sk-toggleable__control sk-hidden--visually\" id=\"sk-estimator-id-12\" type=\"checkbox\" checked><label for=\"sk-estimator-id-12\" class=\"sk-toggleable__label sk-toggleable__label-arrow\">SVR</label><div class=\"sk-toggleable__content\"><pre>SVR()</pre></div></div></div></div></div>"
      ],
      "text/plain": [
       "SVR()"
      ]
     },
     "execution_count": 542,
     "metadata": {},
     "output_type": "execute_result"
    }
   ],
   "source": [
    "\n",
    "# Fit the model to the scaled training data\n",
    "svr_regressor.fit(X_train_scaled, y_train)"
   ]
  },
  {
   "cell_type": "code",
   "execution_count": 543,
   "metadata": {},
   "outputs": [],
   "source": [
    "\n",
    "# Predict the concentrations on the scaled testing data\n",
    "y_pred = svr_regressor.predict(X_test_scaled)"
   ]
  },
  {
   "cell_type": "code",
   "execution_count": 544,
   "metadata": {},
   "outputs": [
    {
     "name": "stdout",
     "output_type": "stream",
     "text": [
      "Mean Squared Error: 3.777011202384562\n"
     ]
    }
   ],
   "source": [
    "\n",
    "# Calculate the Mean Squared Error\n",
    "mse = mean_squared_error(y_test, y_pred)\n",
    "print(\"Mean Squared Error:\", mse)"
   ]
  },
  {
   "cell_type": "markdown",
   "metadata": {},
   "source": [
    "# KNN"
   ]
  },
  {
   "cell_type": "code",
   "execution_count": 545,
   "metadata": {},
   "outputs": [
    {
     "name": "stderr",
     "output_type": "stream",
     "text": [
      "c:\\Users\\swapn\\AppData\\Local\\Programs\\Python\\Python311\\Lib\\site-packages\\sklearn\\base.py:464: UserWarning:\n",
      "\n",
      "X does not have valid feature names, but KNeighborsClassifier was fitted with feature names\n",
      "\n"
     ]
    },
    {
     "data": {
      "text/plain": [
       "0.9987547892720307"
      ]
     },
     "execution_count": 545,
     "metadata": {},
     "output_type": "execute_result"
    }
   ],
   "source": [
    "from sklearn.neighbors import KNeighborsClassifier\n",
    "\n",
    "clf = KNeighborsClassifier(n_neighbors=3)\n",
    "clf.fit(X_train, y_train)\n",
    "\n",
    "X_test = X_test.values\n",
    "\n",
    "y_pred = clf.predict(X_test)\n",
    "accuracy_score(y_test, y_pred)"
   ]
  },
  {
   "cell_type": "code",
   "execution_count": 546,
   "metadata": {},
   "outputs": [
    {
     "name": "stdout",
     "output_type": "stream",
     "text": [
      "confusion matrix:\n",
      " [[2628    2    0    0]\n",
      " [  11 2550    0    0]\n",
      " [   0    0 2604    0]\n",
      " [   0    0    0 2645]]\n"
     ]
    }
   ],
   "source": [
    "\n",
    "# # Calculate the confusion matrix\n",
    "cm = confusion_matrix(y_test, y_pred)\n",
    "print(\"confusion matrix:\\n\",cm)\n"
   ]
  },
  {
   "cell_type": "code",
   "execution_count": 547,
   "metadata": {},
   "outputs": [],
   "source": [
    "# Extract values from the confusion matrix\n",
    "true_negatives = cm[0, 0]\n",
    "false_positives = cm[0, 1]\n",
    "false_negatives = cm[1, 0]\n",
    "true_positives = cm[1, 1]\n"
   ]
  },
  {
   "cell_type": "code",
   "execution_count": 548,
   "metadata": {},
   "outputs": [
    {
     "name": "stdout",
     "output_type": "stream",
     "text": [
      "False Positive Rate (FPR): 0.0007604562737642585\n"
     ]
    }
   ],
   "source": [
    "\n",
    "# Calculate False Positive Rate (FPR)\n",
    "fpr = false_positives / (false_positives + true_negatives)\n",
    "print(\"False Positive Rate (FPR):\", fpr)"
   ]
  },
  {
   "cell_type": "code",
   "execution_count": 549,
   "metadata": {},
   "outputs": [
    {
     "name": "stdout",
     "output_type": "stream",
     "text": [
      "False Negative Rate (FNR): 0.004295197188598204\n"
     ]
    }
   ],
   "source": [
    "# Calculate False Negative Rate (FNR)\n",
    "fnr = false_negatives / (false_negatives + true_positives)\n",
    "print(\"False Negative Rate (FNR):\", fnr)"
   ]
  },
  {
   "cell_type": "code",
   "execution_count": 550,
   "metadata": {},
   "outputs": [
    {
     "name": "stdout",
     "output_type": "stream",
     "text": [
      "Recall: 0.9957048028114018\n"
     ]
    }
   ],
   "source": [
    "# Calculate Recall (True Positive Rate)\n",
    "recall = true_positives / (true_positives + false_negatives)\n",
    "print(\"Recall:\", recall)"
   ]
  },
  {
   "cell_type": "code",
   "execution_count": 551,
   "metadata": {},
   "outputs": [
    {
     "name": "stdout",
     "output_type": "stream",
     "text": [
      "Precision: 0.9992163009404389\n"
     ]
    }
   ],
   "source": [
    "# Calculate Precision\n",
    "precision = true_positives / (true_positives + false_positives)\n",
    "print(\"Precision:\", precision)"
   ]
  },
  {
   "cell_type": "code",
   "execution_count": 552,
   "metadata": {},
   "outputs": [
    {
     "name": "stdout",
     "output_type": "stream",
     "text": [
      "F-beta (beta=2, average='macro'): 0.9987403119719688\n"
     ]
    }
   ],
   "source": [
    "from sklearn.metrics import fbeta_score\n",
    "\n",
    "# Calculate the F-beta score with the 'macro' average option\n",
    "beta = 2  # You can adjust the value of beta as needed\n",
    "f_beta_macro = fbeta_score(y_test, y_pred, beta=beta, average='macro')\n",
    "print(f\"F-beta (beta={beta}, average='macro'):\", f_beta_macro)\n"
   ]
  },
  {
   "cell_type": "code",
   "execution_count": 553,
   "metadata": {},
   "outputs": [
    {
     "data": {
      "text/plain": [
       "0.9983396239101351"
      ]
     },
     "execution_count": 553,
     "metadata": {},
     "output_type": "execute_result"
    }
   ],
   "source": [
    "\n",
    "# Calculate Cohen's Kappa\n",
    "cohen_kappa_score(y_test, y_pred)"
   ]
  },
  {
   "cell_type": "code",
   "execution_count": 554,
   "metadata": {},
   "outputs": [
    {
     "name": "stdout",
     "output_type": "stream",
     "text": [
      "F1-score: 0.997457461372971\n"
     ]
    }
   ],
   "source": [
    "# F1-score = 2 * (Precision * Recall) / (Precision + Recall)\n",
    "F1score = 2 * (precision * recall) / (precision + recall)\n",
    "print(\"F1-score:\", F1score)"
   ]
  },
  {
   "cell_type": "markdown",
   "metadata": {},
   "source": [
    "# 8:2"
   ]
  },
  {
   "cell_type": "code",
   "execution_count": 555,
   "metadata": {},
   "outputs": [],
   "source": [
    "X_train,X_test,y_train,y_test=train_test_split(X,Y,test_size=0.2,random_state=42,shuffle=True)"
   ]
  },
  {
   "cell_type": "markdown",
   "metadata": {},
   "source": [
    "# KNN"
   ]
  },
  {
   "cell_type": "code",
   "execution_count": 556,
   "metadata": {},
   "outputs": [
    {
     "name": "stderr",
     "output_type": "stream",
     "text": [
      "c:\\Users\\swapn\\AppData\\Local\\Programs\\Python\\Python311\\Lib\\site-packages\\sklearn\\base.py:464: UserWarning:\n",
      "\n",
      "X does not have valid feature names, but KNeighborsClassifier was fitted with feature names\n",
      "\n"
     ]
    },
    {
     "data": {
      "text/plain": [
       "0.9992816091954023"
      ]
     },
     "execution_count": 556,
     "metadata": {},
     "output_type": "execute_result"
    }
   ],
   "source": [
    "from sklearn.neighbors import KNeighborsClassifier\n",
    "\n",
    "clf = KNeighborsClassifier(n_neighbors=3)\n",
    "clf.fit(X_train, y_train)\n",
    "\n",
    "X_test = X_test.values\n",
    "\n",
    "y_pred = clf.predict(X_test)\n",
    "accuracy_score(y_test, y_pred)"
   ]
  },
  {
   "cell_type": "code",
   "execution_count": 557,
   "metadata": {},
   "outputs": [
    {
     "name": "stdout",
     "output_type": "stream",
     "text": [
      "confusion matrix:\n",
      " [[1748    2    0    0]\n",
      " [   3 1685    0    0]\n",
      " [   0    0 1772    0]\n",
      " [   0    0    0 1750]]\n"
     ]
    }
   ],
   "source": [
    "\n",
    "# # Calculate the confusion matrix\n",
    "cm = confusion_matrix(y_test, y_pred)\n",
    "print(\"confusion matrix:\\n\",cm)\n"
   ]
  },
  {
   "cell_type": "code",
   "execution_count": 558,
   "metadata": {},
   "outputs": [],
   "source": [
    "# Extract values from the confusion matrix\n",
    "true_negatives = cm[0, 0]\n",
    "false_positives = cm[0, 1]\n",
    "false_negatives = cm[1, 0]\n",
    "true_positives = cm[1, 1]\n"
   ]
  },
  {
   "cell_type": "code",
   "execution_count": 559,
   "metadata": {},
   "outputs": [
    {
     "name": "stdout",
     "output_type": "stream",
     "text": [
      "False Positive Rate (FPR): 0.001142857142857143\n"
     ]
    }
   ],
   "source": [
    "\n",
    "# Calculate False Positive Rate (FPR)\n",
    "fpr = false_positives / (false_positives + true_negatives)\n",
    "print(\"False Positive Rate (FPR):\", fpr)"
   ]
  },
  {
   "cell_type": "code",
   "execution_count": 560,
   "metadata": {},
   "outputs": [
    {
     "name": "stdout",
     "output_type": "stream",
     "text": [
      "False Negative Rate (FNR): 0.0017772511848341231\n"
     ]
    }
   ],
   "source": [
    "# Calculate False Negative Rate (FNR)\n",
    "fnr = false_negatives / (false_negatives + true_positives)\n",
    "print(\"False Negative Rate (FNR):\", fnr)"
   ]
  },
  {
   "cell_type": "code",
   "execution_count": 561,
   "metadata": {},
   "outputs": [
    {
     "name": "stdout",
     "output_type": "stream",
     "text": [
      "Recall: 0.9982227488151659\n"
     ]
    }
   ],
   "source": [
    "# Calculate Recall (True Positive Rate)\n",
    "recall = true_positives / (true_positives + false_negatives)\n",
    "print(\"Recall:\", recall)"
   ]
  },
  {
   "cell_type": "code",
   "execution_count": 562,
   "metadata": {},
   "outputs": [
    {
     "name": "stdout",
     "output_type": "stream",
     "text": [
      "Precision: 0.998814463544754\n"
     ]
    }
   ],
   "source": [
    "# Calculate Precision\n",
    "precision = true_positives / (true_positives + false_positives)\n",
    "print(\"Precision:\", precision)"
   ]
  },
  {
   "cell_type": "code",
   "execution_count": 563,
   "metadata": {},
   "outputs": [
    {
     "name": "stdout",
     "output_type": "stream",
     "text": [
      "F-beta (beta=2, average='macro'): 0.9992710091169105\n"
     ]
    }
   ],
   "source": [
    "from sklearn.metrics import fbeta_score\n",
    "\n",
    "# Calculate the F-beta score with the 'macro' average option\n",
    "beta = 2  # You can adjust the value of beta as needed\n",
    "f_beta_macro = fbeta_score(y_test, y_pred, beta=beta, average='macro')\n",
    "print(f\"F-beta (beta={beta}, average='macro'):\", f_beta_macro)\n"
   ]
  },
  {
   "cell_type": "code",
   "execution_count": 564,
   "metadata": {},
   "outputs": [
    {
     "data": {
      "text/plain": [
       "0.9990420403879076"
      ]
     },
     "execution_count": 564,
     "metadata": {},
     "output_type": "execute_result"
    }
   ],
   "source": [
    "\n",
    "# Calculate Cohen's Kappa\n",
    "cohen_kappa_score(y_test, y_pred)"
   ]
  },
  {
   "cell_type": "code",
   "execution_count": 565,
   "metadata": {},
   "outputs": [
    {
     "name": "stdout",
     "output_type": "stream",
     "text": [
      "F1-score: 0.9985185185185185\n"
     ]
    }
   ],
   "source": [
    "# F1-score = 2 * (Precision * Recall) / (Precision + Recall)\n",
    "F1score = 2 * (precision * recall) / (precision + recall)\n",
    "print(\"F1-score:\", F1score)"
   ]
  },
  {
   "cell_type": "markdown",
   "metadata": {},
   "source": [
    "# 9:1"
   ]
  },
  {
   "cell_type": "code",
   "execution_count": 566,
   "metadata": {},
   "outputs": [],
   "source": [
    "X_train,X_test,y_train,y_test=train_test_split(X,Y,test_size=0.1,random_state=42,shuffle=True)"
   ]
  },
  {
   "cell_type": "markdown",
   "metadata": {},
   "source": [
    "# KNN"
   ]
  },
  {
   "cell_type": "code",
   "execution_count": 567,
   "metadata": {},
   "outputs": [
    {
     "name": "stderr",
     "output_type": "stream",
     "text": [
      "c:\\Users\\swapn\\AppData\\Local\\Programs\\Python\\Python311\\Lib\\site-packages\\sklearn\\base.py:464: UserWarning:\n",
      "\n",
      "X does not have valid feature names, but KNeighborsClassifier was fitted with feature names\n",
      "\n"
     ]
    },
    {
     "data": {
      "text/plain": [
       "0.9994252873563219"
      ]
     },
     "execution_count": 567,
     "metadata": {},
     "output_type": "execute_result"
    }
   ],
   "source": [
    "from sklearn.neighbors import KNeighborsClassifier\n",
    "\n",
    "clf = KNeighborsClassifier(n_neighbors=3)\n",
    "clf.fit(X_train, y_train)\n",
    "\n",
    "X_test = X_test.values\n",
    "\n",
    "y_pred = clf.predict(X_test)\n",
    "accuracy_score(y_test, y_pred)"
   ]
  },
  {
   "cell_type": "code",
   "execution_count": 568,
   "metadata": {},
   "outputs": [
    {
     "name": "stdout",
     "output_type": "stream",
     "text": [
      "confusion matrix:\n",
      " [[886   0   0   0]\n",
      " [  2 855   0   0]\n",
      " [  0   0 886   0]\n",
      " [  0   0   0 851]]\n"
     ]
    }
   ],
   "source": [
    "\n",
    "# # Calculate the confusion matrix\n",
    "cm = confusion_matrix(y_test, y_pred)\n",
    "print(\"confusion matrix:\\n\",cm)\n"
   ]
  },
  {
   "cell_type": "code",
   "execution_count": 569,
   "metadata": {},
   "outputs": [],
   "source": [
    "# Extract values from the confusion matrix\n",
    "true_negatives = cm[0, 0]\n",
    "false_positives = cm[0, 1]\n",
    "false_negatives = cm[1, 0]\n",
    "true_positives = cm[1, 1]\n"
   ]
  },
  {
   "cell_type": "code",
   "execution_count": 570,
   "metadata": {},
   "outputs": [
    {
     "name": "stdout",
     "output_type": "stream",
     "text": [
      "False Positive Rate (FPR): 0.0\n"
     ]
    }
   ],
   "source": [
    "\n",
    "# Calculate False Positive Rate (FPR)\n",
    "fpr = false_positives / (false_positives + true_negatives)\n",
    "print(\"False Positive Rate (FPR):\", fpr)"
   ]
  },
  {
   "cell_type": "code",
   "execution_count": 571,
   "metadata": {},
   "outputs": [
    {
     "name": "stdout",
     "output_type": "stream",
     "text": [
      "False Negative Rate (FNR): 0.002333722287047841\n"
     ]
    }
   ],
   "source": [
    "# Calculate False Negative Rate (FNR)\n",
    "fnr = false_negatives / (false_negatives + true_positives)\n",
    "print(\"False Negative Rate (FNR):\", fnr)"
   ]
  },
  {
   "cell_type": "code",
   "execution_count": 572,
   "metadata": {},
   "outputs": [
    {
     "name": "stdout",
     "output_type": "stream",
     "text": [
      "Recall: 0.9976662777129521\n"
     ]
    }
   ],
   "source": [
    "# Calculate Recall (True Positive Rate)\n",
    "recall = true_positives / (true_positives + false_negatives)\n",
    "print(\"Recall:\", recall)"
   ]
  },
  {
   "cell_type": "code",
   "execution_count": 573,
   "metadata": {},
   "outputs": [
    {
     "name": "stdout",
     "output_type": "stream",
     "text": [
      "Precision: 1.0\n"
     ]
    }
   ],
   "source": [
    "# Calculate Precision\n",
    "precision = true_positives / (true_positives + false_positives)\n",
    "print(\"Precision:\", precision)"
   ]
  },
  {
   "cell_type": "code",
   "execution_count": 574,
   "metadata": {},
   "outputs": [
    {
     "name": "stdout",
     "output_type": "stream",
     "text": [
      "F-beta (beta=2, average='macro'): 0.9994202217059975\n"
     ]
    }
   ],
   "source": [
    "from sklearn.metrics import fbeta_score\n",
    "\n",
    "# Calculate the F-beta score with the 'macro' average option\n",
    "beta = 2  # You can adjust the value of beta as needed\n",
    "f_beta_macro = fbeta_score(y_test, y_pred, beta=beta, average='macro')\n",
    "print(f\"F-beta (beta={beta}, average='macro'):\", f_beta_macro)\n"
   ]
  },
  {
   "cell_type": "code",
   "execution_count": 575,
   "metadata": {},
   "outputs": [
    {
     "data": {
      "text/plain": [
       "0.9992336236607684"
      ]
     },
     "execution_count": 575,
     "metadata": {},
     "output_type": "execute_result"
    }
   ],
   "source": [
    "\n",
    "# Calculate Cohen's Kappa\n",
    "cohen_kappa_score(y_test, y_pred)"
   ]
  },
  {
   "cell_type": "code",
   "execution_count": 576,
   "metadata": {},
   "outputs": [
    {
     "name": "stdout",
     "output_type": "stream",
     "text": [
      "F1-score: 0.9988317757009346\n"
     ]
    }
   ],
   "source": [
    "# F1-score = 2 * (Precision * Recall) / (Precision + Recall)\n",
    "F1score = 2 * (precision * recall) / (precision + recall)\n",
    "print(\"F1-score:\", F1score)"
   ]
  }
 ],
 "metadata": {
  "kernelspec": {
   "display_name": "Python 3",
   "language": "python",
   "name": "python3"
  },
  "language_info": {
   "codemirror_mode": {
    "name": "ipython",
    "version": 3
   },
   "file_extension": ".py",
   "mimetype": "text/x-python",
   "name": "python",
   "nbconvert_exporter": "python",
   "pygments_lexer": "ipython3",
   "version": "3.11.4"
  },
  "orig_nbformat": 4
 },
 "nbformat": 4,
 "nbformat_minor": 2
}
