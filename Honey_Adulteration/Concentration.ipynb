{
 "cells": [
  {
   "cell_type": "code",
   "execution_count": 1,
   "id": "d9399dd9",
   "metadata": {
    "scrolled": true
   },
   "outputs": [
    {
     "name": "stderr",
     "output_type": "stream",
     "text": [
      "C:\\Users\\subha\\AppData\\Local\\Programs\\Python\\Python310\\lib\\site-packages\\numpy\\_distributor_init.py:30: UserWarning: loaded more than 1 DLL from .libs:\n",
      "C:\\Users\\subha\\AppData\\Local\\Programs\\Python\\Python310\\lib\\site-packages\\numpy\\.libs\\libopenblas.EL2C6PLE4ZYW3ECEVIV3OXXGRN2NRFM2.gfortran-win_amd64.dll\n",
      "C:\\Users\\subha\\AppData\\Local\\Programs\\Python\\Python310\\lib\\site-packages\\numpy\\.libs\\libopenblas.FB5AE2TYXYH2IJRDKGDGQ3XBKLKTF43H.gfortran-win_amd64.dll\n",
      "  warnings.warn(\"loaded more than 1 DLL from .libs:\"\n"
     ]
    }
   ],
   "source": [
    "import pandas as pd\n",
    "from sklearn.preprocessing import LabelEncoder"
   ]
  },
  {
   "cell_type": "code",
   "execution_count": 2,
   "id": "7bbce089",
   "metadata": {},
   "outputs": [],
   "source": [
    "from sklearn.metrics import precision_score, recall_score, f1_score, cohen_kappa_score,confusion_matrix\n",
    "from sklearn.metrics import roc_curve, roc_auc_score, precision_recall_curve, auc\n",
    "import matplotlib.pyplot as plt"
   ]
  },
  {
   "cell_type": "code",
   "execution_count": 3,
   "id": "0fdc45a4",
   "metadata": {},
   "outputs": [],
   "source": [
    "df=pd.read_excel('generated_data.xlsx')"
   ]
  },
  {
   "cell_type": "code",
   "execution_count": 4,
   "id": "8c56364e",
   "metadata": {},
   "outputs": [
    {
     "data": {
      "text/html": [
       "<div>\n",
       "<style scoped>\n",
       "    .dataframe tbody tr th:only-of-type {\n",
       "        vertical-align: middle;\n",
       "    }\n",
       "\n",
       "    .dataframe tbody tr th {\n",
       "        vertical-align: top;\n",
       "    }\n",
       "\n",
       "    .dataframe thead th {\n",
       "        text-align: right;\n",
       "    }\n",
       "</style>\n",
       "<table border=\"1\" class=\"dataframe\">\n",
       "  <thead>\n",
       "    <tr style=\"text-align: right;\">\n",
       "      <th></th>\n",
       "      <th>Brand</th>\n",
       "      <th>Acquisition</th>\n",
       "      <th>Concentration_Class</th>\n",
       "      <th>Concentration</th>\n",
       "      <th>399.40nm</th>\n",
       "      <th>404.39nm</th>\n",
       "      <th>409.38nm</th>\n",
       "      <th>414.37nm</th>\n",
       "      <th>419.37nm</th>\n",
       "      <th>424.38nm</th>\n",
       "      <th>...</th>\n",
       "      <th>1020.10nm</th>\n",
       "      <th>1025.55nm</th>\n",
       "      <th>1031.00nm</th>\n",
       "      <th>1036.46nm</th>\n",
       "      <th>1041.92nm</th>\n",
       "      <th>1047.38nm</th>\n",
       "      <th>1052.85nm</th>\n",
       "      <th>1058.32nm</th>\n",
       "      <th>1063.79nm</th>\n",
       "      <th>Class</th>\n",
       "    </tr>\n",
       "  </thead>\n",
       "  <tbody>\n",
       "    <tr>\n",
       "      <th>0</th>\n",
       "      <td>C11</td>\n",
       "      <td>2</td>\n",
       "      <td>5</td>\n",
       "      <td>5</td>\n",
       "      <td>0.999980</td>\n",
       "      <td>0.999967</td>\n",
       "      <td>0.999203</td>\n",
       "      <td>0.992107</td>\n",
       "      <td>0.953222</td>\n",
       "      <td>0.872113</td>\n",
       "      <td>...</td>\n",
       "      <td>0.477751</td>\n",
       "      <td>0.481703</td>\n",
       "      <td>0.487756</td>\n",
       "      <td>0.497647</td>\n",
       "      <td>0.513220</td>\n",
       "      <td>0.528185</td>\n",
       "      <td>0.544014</td>\n",
       "      <td>0.562675</td>\n",
       "      <td>0.583122</td>\n",
       "      <td>Rewarewa</td>\n",
       "    </tr>\n",
       "    <tr>\n",
       "      <th>1</th>\n",
       "      <td>C11</td>\n",
       "      <td>2</td>\n",
       "      <td>5</td>\n",
       "      <td>5</td>\n",
       "      <td>0.999980</td>\n",
       "      <td>0.999968</td>\n",
       "      <td>0.999208</td>\n",
       "      <td>0.992223</td>\n",
       "      <td>0.953823</td>\n",
       "      <td>0.873235</td>\n",
       "      <td>...</td>\n",
       "      <td>0.478158</td>\n",
       "      <td>0.482184</td>\n",
       "      <td>0.488387</td>\n",
       "      <td>0.498356</td>\n",
       "      <td>0.514065</td>\n",
       "      <td>0.529189</td>\n",
       "      <td>0.545075</td>\n",
       "      <td>0.563809</td>\n",
       "      <td>0.584472</td>\n",
       "      <td>Rewarewa</td>\n",
       "    </tr>\n",
       "    <tr>\n",
       "      <th>2</th>\n",
       "      <td>C11</td>\n",
       "      <td>2</td>\n",
       "      <td>5</td>\n",
       "      <td>5</td>\n",
       "      <td>0.999979</td>\n",
       "      <td>0.999968</td>\n",
       "      <td>0.999220</td>\n",
       "      <td>0.992204</td>\n",
       "      <td>0.953378</td>\n",
       "      <td>0.872248</td>\n",
       "      <td>...</td>\n",
       "      <td>0.477288</td>\n",
       "      <td>0.481155</td>\n",
       "      <td>0.487180</td>\n",
       "      <td>0.497018</td>\n",
       "      <td>0.512569</td>\n",
       "      <td>0.527521</td>\n",
       "      <td>0.543329</td>\n",
       "      <td>0.561971</td>\n",
       "      <td>0.582424</td>\n",
       "      <td>Rewarewa</td>\n",
       "    </tr>\n",
       "    <tr>\n",
       "      <th>3</th>\n",
       "      <td>C11</td>\n",
       "      <td>2</td>\n",
       "      <td>5</td>\n",
       "      <td>5</td>\n",
       "      <td>0.999979</td>\n",
       "      <td>0.999966</td>\n",
       "      <td>0.999189</td>\n",
       "      <td>0.992018</td>\n",
       "      <td>0.952935</td>\n",
       "      <td>0.871801</td>\n",
       "      <td>...</td>\n",
       "      <td>0.477015</td>\n",
       "      <td>0.480936</td>\n",
       "      <td>0.486965</td>\n",
       "      <td>0.496816</td>\n",
       "      <td>0.512370</td>\n",
       "      <td>0.527352</td>\n",
       "      <td>0.543177</td>\n",
       "      <td>0.561848</td>\n",
       "      <td>0.582337</td>\n",
       "      <td>Rewarewa</td>\n",
       "    </tr>\n",
       "    <tr>\n",
       "      <th>4</th>\n",
       "      <td>C11</td>\n",
       "      <td>2</td>\n",
       "      <td>5</td>\n",
       "      <td>5</td>\n",
       "      <td>0.999977</td>\n",
       "      <td>0.999965</td>\n",
       "      <td>0.999151</td>\n",
       "      <td>0.991986</td>\n",
       "      <td>0.953458</td>\n",
       "      <td>0.873161</td>\n",
       "      <td>...</td>\n",
       "      <td>0.477190</td>\n",
       "      <td>0.481269</td>\n",
       "      <td>0.487589</td>\n",
       "      <td>0.497584</td>\n",
       "      <td>0.513355</td>\n",
       "      <td>0.528691</td>\n",
       "      <td>0.544639</td>\n",
       "      <td>0.563497</td>\n",
       "      <td>0.584432</td>\n",
       "      <td>Rewarewa</td>\n",
       "    </tr>\n",
       "  </tbody>\n",
       "</table>\n",
       "<p>5 rows × 133 columns</p>\n",
       "</div>"
      ],
      "text/plain": [
       "  Brand  Acquisition  Concentration_Class  Concentration  399.40nm  404.39nm  \\\n",
       "0   C11            2                    5              5  0.999980  0.999967   \n",
       "1   C11            2                    5              5  0.999980  0.999968   \n",
       "2   C11            2                    5              5  0.999979  0.999968   \n",
       "3   C11            2                    5              5  0.999979  0.999966   \n",
       "4   C11            2                    5              5  0.999977  0.999965   \n",
       "\n",
       "   409.38nm  414.37nm  419.37nm  424.38nm  ...  1020.10nm  1025.55nm  \\\n",
       "0  0.999203  0.992107  0.953222  0.872113  ...   0.477751   0.481703   \n",
       "1  0.999208  0.992223  0.953823  0.873235  ...   0.478158   0.482184   \n",
       "2  0.999220  0.992204  0.953378  0.872248  ...   0.477288   0.481155   \n",
       "3  0.999189  0.992018  0.952935  0.871801  ...   0.477015   0.480936   \n",
       "4  0.999151  0.991986  0.953458  0.873161  ...   0.477190   0.481269   \n",
       "\n",
       "   1031.00nm  1036.46nm  1041.92nm  1047.38nm  1052.85nm  1058.32nm  \\\n",
       "0   0.487756   0.497647   0.513220   0.528185   0.544014   0.562675   \n",
       "1   0.488387   0.498356   0.514065   0.529189   0.545075   0.563809   \n",
       "2   0.487180   0.497018   0.512569   0.527521   0.543329   0.561971   \n",
       "3   0.486965   0.496816   0.512370   0.527352   0.543177   0.561848   \n",
       "4   0.487589   0.497584   0.513355   0.528691   0.544639   0.563497   \n",
       "\n",
       "   1063.79nm     Class  \n",
       "0   0.583122  Rewarewa  \n",
       "1   0.584472  Rewarewa  \n",
       "2   0.582424  Rewarewa  \n",
       "3   0.582337  Rewarewa  \n",
       "4   0.584432  Rewarewa  \n",
       "\n",
       "[5 rows x 133 columns]"
      ]
     },
     "execution_count": 4,
     "metadata": {},
     "output_type": "execute_result"
    }
   ],
   "source": [
    "df.head()"
   ]
  },
  {
   "cell_type": "code",
   "execution_count": 5,
   "id": "c30267f7",
   "metadata": {},
   "outputs": [
    {
     "data": {
      "text/plain": [
       "C11    7800\n",
       "C3     6000\n",
       "C10    4800\n",
       "C9     3600\n",
       "C7     3600\n",
       "C6     3000\n",
       "C2     1800\n",
       "C4     1800\n",
       "C1     1200\n",
       "C5      600\n",
       "C8      600\n",
       "Name: Brand, dtype: int64"
      ]
     },
     "execution_count": 5,
     "metadata": {},
     "output_type": "execute_result"
    }
   ],
   "source": [
    "df['Brand'].value_counts()"
   ]
  },
  {
   "cell_type": "code",
   "execution_count": 6,
   "id": "eea24700",
   "metadata": {},
   "outputs": [
    {
     "data": {
      "text/plain": [
       "2    5800\n",
       "3    5800\n",
       "1    5800\n",
       "4    5800\n",
       "5    5800\n",
       "6    5800\n",
       "Name: Acquisition, dtype: int64"
      ]
     },
     "execution_count": 6,
     "metadata": {},
     "output_type": "execute_result"
    }
   ],
   "source": [
    "df['Acquisition'].value_counts()"
   ]
  },
  {
   "cell_type": "code",
   "execution_count": 7,
   "id": "16811114",
   "metadata": {},
   "outputs": [
    {
     "data": {
      "text/plain": [
       "5     8700\n",
       "10    8700\n",
       "25    8700\n",
       "50    8700\n",
       "Name: Concentration_Class, dtype: int64"
      ]
     },
     "execution_count": 7,
     "metadata": {},
     "output_type": "execute_result"
    }
   ],
   "source": [
    "\n",
    "df['Concentration_Class'].value_counts()"
   ]
  },
  {
   "cell_type": "code",
   "execution_count": 8,
   "id": "290787e5",
   "metadata": {},
   "outputs": [
    {
     "data": {
      "text/plain": [
       "5     8700\n",
       "10    8700\n",
       "25    8700\n",
       "50    8700\n",
       "Name: Concentration, dtype: int64"
      ]
     },
     "execution_count": 8,
     "metadata": {},
     "output_type": "execute_result"
    }
   ],
   "source": [
    "df['Concentration'].value_counts()"
   ]
  },
  {
   "cell_type": "code",
   "execution_count": 9,
   "id": "a9143131",
   "metadata": {},
   "outputs": [
    {
     "data": {
      "text/plain": [
       "Rewarewa        3600\n",
       "ManukaUMF10     3600\n",
       "Clover          3600\n",
       "ManukaUMF5      3600\n",
       "Multifloral     2400\n",
       "ManukaUMF15     2400\n",
       "Manuka          1800\n",
       "Tawari          1800\n",
       "ManukaBlend     1800\n",
       "Rata            1200\n",
       "Kamahi          1200\n",
       "Pohu            1200\n",
       "BB              1200\n",
       "ManukaUMF20     1200\n",
       "ManukaUMF13      600\n",
       "BorageField      600\n",
       "ManukaUMF12      600\n",
       "ManukaUMF18      600\n",
       "ManukaUMF22      600\n",
       "Honeydew         600\n",
       "Field+Tawari     600\n",
       "Name: Class, dtype: int64"
      ]
     },
     "execution_count": 9,
     "metadata": {},
     "output_type": "execute_result"
    }
   ],
   "source": [
    "df['Class'].value_counts()"
   ]
  },
  {
   "cell_type": "code",
   "execution_count": 10,
   "id": "a6af0ebd",
   "metadata": {},
   "outputs": [],
   "source": [
    "Y=df['Concentration']"
   ]
  },
  {
   "cell_type": "code",
   "execution_count": 11,
   "id": "48b125c9",
   "metadata": {},
   "outputs": [
    {
     "data": {
      "text/plain": [
       "0    5\n",
       "1    5\n",
       "2    5\n",
       "3    5\n",
       "4    5\n",
       "Name: Concentration, dtype: int64"
      ]
     },
     "execution_count": 11,
     "metadata": {},
     "output_type": "execute_result"
    }
   ],
   "source": [
    "Y.head()"
   ]
  },
  {
   "cell_type": "code",
   "execution_count": 12,
   "id": "331c2665",
   "metadata": {},
   "outputs": [],
   "source": [
    "df.drop('Concentration',axis=1,inplace=True)"
   ]
  },
  {
   "cell_type": "code",
   "execution_count": 13,
   "id": "5728f692",
   "metadata": {},
   "outputs": [],
   "source": [
    "df.drop('Concentration_Class',axis=1,inplace=True)"
   ]
  },
  {
   "cell_type": "code",
   "execution_count": 14,
   "id": "cc05f41a",
   "metadata": {},
   "outputs": [
    {
     "data": {
      "text/html": [
       "<div>\n",
       "<style scoped>\n",
       "    .dataframe tbody tr th:only-of-type {\n",
       "        vertical-align: middle;\n",
       "    }\n",
       "\n",
       "    .dataframe tbody tr th {\n",
       "        vertical-align: top;\n",
       "    }\n",
       "\n",
       "    .dataframe thead th {\n",
       "        text-align: right;\n",
       "    }\n",
       "</style>\n",
       "<table border=\"1\" class=\"dataframe\">\n",
       "  <thead>\n",
       "    <tr style=\"text-align: right;\">\n",
       "      <th></th>\n",
       "      <th>Brand</th>\n",
       "      <th>Acquisition</th>\n",
       "      <th>399.40nm</th>\n",
       "      <th>404.39nm</th>\n",
       "      <th>409.38nm</th>\n",
       "      <th>414.37nm</th>\n",
       "      <th>419.37nm</th>\n",
       "      <th>424.38nm</th>\n",
       "      <th>429.38nm</th>\n",
       "      <th>434.40nm</th>\n",
       "      <th>...</th>\n",
       "      <th>1020.10nm</th>\n",
       "      <th>1025.55nm</th>\n",
       "      <th>1031.00nm</th>\n",
       "      <th>1036.46nm</th>\n",
       "      <th>1041.92nm</th>\n",
       "      <th>1047.38nm</th>\n",
       "      <th>1052.85nm</th>\n",
       "      <th>1058.32nm</th>\n",
       "      <th>1063.79nm</th>\n",
       "      <th>Class</th>\n",
       "    </tr>\n",
       "  </thead>\n",
       "  <tbody>\n",
       "    <tr>\n",
       "      <th>0</th>\n",
       "      <td>C11</td>\n",
       "      <td>2</td>\n",
       "      <td>0.999980</td>\n",
       "      <td>0.999967</td>\n",
       "      <td>0.999203</td>\n",
       "      <td>0.992107</td>\n",
       "      <td>0.953222</td>\n",
       "      <td>0.872113</td>\n",
       "      <td>0.728557</td>\n",
       "      <td>0.551524</td>\n",
       "      <td>...</td>\n",
       "      <td>0.477751</td>\n",
       "      <td>0.481703</td>\n",
       "      <td>0.487756</td>\n",
       "      <td>0.497647</td>\n",
       "      <td>0.513220</td>\n",
       "      <td>0.528185</td>\n",
       "      <td>0.544014</td>\n",
       "      <td>0.562675</td>\n",
       "      <td>0.583122</td>\n",
       "      <td>Rewarewa</td>\n",
       "    </tr>\n",
       "    <tr>\n",
       "      <th>1</th>\n",
       "      <td>C11</td>\n",
       "      <td>2</td>\n",
       "      <td>0.999980</td>\n",
       "      <td>0.999968</td>\n",
       "      <td>0.999208</td>\n",
       "      <td>0.992223</td>\n",
       "      <td>0.953823</td>\n",
       "      <td>0.873235</td>\n",
       "      <td>0.731307</td>\n",
       "      <td>0.554449</td>\n",
       "      <td>...</td>\n",
       "      <td>0.478158</td>\n",
       "      <td>0.482184</td>\n",
       "      <td>0.488387</td>\n",
       "      <td>0.498356</td>\n",
       "      <td>0.514065</td>\n",
       "      <td>0.529189</td>\n",
       "      <td>0.545075</td>\n",
       "      <td>0.563809</td>\n",
       "      <td>0.584472</td>\n",
       "      <td>Rewarewa</td>\n",
       "    </tr>\n",
       "    <tr>\n",
       "      <th>2</th>\n",
       "      <td>C11</td>\n",
       "      <td>2</td>\n",
       "      <td>0.999979</td>\n",
       "      <td>0.999968</td>\n",
       "      <td>0.999220</td>\n",
       "      <td>0.992204</td>\n",
       "      <td>0.953378</td>\n",
       "      <td>0.872248</td>\n",
       "      <td>0.728564</td>\n",
       "      <td>0.551499</td>\n",
       "      <td>...</td>\n",
       "      <td>0.477288</td>\n",
       "      <td>0.481155</td>\n",
       "      <td>0.487180</td>\n",
       "      <td>0.497018</td>\n",
       "      <td>0.512569</td>\n",
       "      <td>0.527521</td>\n",
       "      <td>0.543329</td>\n",
       "      <td>0.561971</td>\n",
       "      <td>0.582424</td>\n",
       "      <td>Rewarewa</td>\n",
       "    </tr>\n",
       "    <tr>\n",
       "      <th>3</th>\n",
       "      <td>C11</td>\n",
       "      <td>2</td>\n",
       "      <td>0.999979</td>\n",
       "      <td>0.999966</td>\n",
       "      <td>0.999189</td>\n",
       "      <td>0.992018</td>\n",
       "      <td>0.952935</td>\n",
       "      <td>0.871801</td>\n",
       "      <td>0.728091</td>\n",
       "      <td>0.551494</td>\n",
       "      <td>...</td>\n",
       "      <td>0.477015</td>\n",
       "      <td>0.480936</td>\n",
       "      <td>0.486965</td>\n",
       "      <td>0.496816</td>\n",
       "      <td>0.512370</td>\n",
       "      <td>0.527352</td>\n",
       "      <td>0.543177</td>\n",
       "      <td>0.561848</td>\n",
       "      <td>0.582337</td>\n",
       "      <td>Rewarewa</td>\n",
       "    </tr>\n",
       "    <tr>\n",
       "      <th>4</th>\n",
       "      <td>C11</td>\n",
       "      <td>2</td>\n",
       "      <td>0.999977</td>\n",
       "      <td>0.999965</td>\n",
       "      <td>0.999151</td>\n",
       "      <td>0.991986</td>\n",
       "      <td>0.953458</td>\n",
       "      <td>0.873161</td>\n",
       "      <td>0.732385</td>\n",
       "      <td>0.556812</td>\n",
       "      <td>...</td>\n",
       "      <td>0.477190</td>\n",
       "      <td>0.481269</td>\n",
       "      <td>0.487589</td>\n",
       "      <td>0.497584</td>\n",
       "      <td>0.513355</td>\n",
       "      <td>0.528691</td>\n",
       "      <td>0.544639</td>\n",
       "      <td>0.563497</td>\n",
       "      <td>0.584432</td>\n",
       "      <td>Rewarewa</td>\n",
       "    </tr>\n",
       "  </tbody>\n",
       "</table>\n",
       "<p>5 rows × 131 columns</p>\n",
       "</div>"
      ],
      "text/plain": [
       "  Brand  Acquisition  399.40nm  404.39nm  409.38nm  414.37nm  419.37nm  \\\n",
       "0   C11            2  0.999980  0.999967  0.999203  0.992107  0.953222   \n",
       "1   C11            2  0.999980  0.999968  0.999208  0.992223  0.953823   \n",
       "2   C11            2  0.999979  0.999968  0.999220  0.992204  0.953378   \n",
       "3   C11            2  0.999979  0.999966  0.999189  0.992018  0.952935   \n",
       "4   C11            2  0.999977  0.999965  0.999151  0.991986  0.953458   \n",
       "\n",
       "   424.38nm  429.38nm  434.40nm  ...  1020.10nm  1025.55nm  1031.00nm  \\\n",
       "0  0.872113  0.728557  0.551524  ...   0.477751   0.481703   0.487756   \n",
       "1  0.873235  0.731307  0.554449  ...   0.478158   0.482184   0.488387   \n",
       "2  0.872248  0.728564  0.551499  ...   0.477288   0.481155   0.487180   \n",
       "3  0.871801  0.728091  0.551494  ...   0.477015   0.480936   0.486965   \n",
       "4  0.873161  0.732385  0.556812  ...   0.477190   0.481269   0.487589   \n",
       "\n",
       "   1036.46nm  1041.92nm  1047.38nm  1052.85nm  1058.32nm  1063.79nm     Class  \n",
       "0   0.497647   0.513220   0.528185   0.544014   0.562675   0.583122  Rewarewa  \n",
       "1   0.498356   0.514065   0.529189   0.545075   0.563809   0.584472  Rewarewa  \n",
       "2   0.497018   0.512569   0.527521   0.543329   0.561971   0.582424  Rewarewa  \n",
       "3   0.496816   0.512370   0.527352   0.543177   0.561848   0.582337  Rewarewa  \n",
       "4   0.497584   0.513355   0.528691   0.544639   0.563497   0.584432  Rewarewa  \n",
       "\n",
       "[5 rows x 131 columns]"
      ]
     },
     "execution_count": 14,
     "metadata": {},
     "output_type": "execute_result"
    }
   ],
   "source": [
    "df.head()"
   ]
  },
  {
   "cell_type": "code",
   "execution_count": 15,
   "id": "cc09e36c",
   "metadata": {},
   "outputs": [],
   "source": [
    "# Define the mapping dictionary\n",
    "brand_mapping = {\n",
    "    'C1': 1,\n",
    "    'C2': 2,\n",
    "    'C3': 3,\n",
    "    'C4': 4,\n",
    "    'C5': 5,\n",
    "    'C6': 6,\n",
    "    'C7': 7,\n",
    "    'C8': 8,\n",
    "    'C9': 9,\n",
    "    'C10': 10,\n",
    "    'C11': 11,\n",
    "}\n",
    "\n",
    "# Map the values in the 'Brand' column using the mapping dictionary\n",
    "df['Brand'] = df['Brand'].map(brand_mapping)"
   ]
  },
  {
   "cell_type": "code",
   "execution_count": 16,
   "id": "cc54eeeb",
   "metadata": {},
   "outputs": [
    {
     "data": {
      "text/html": [
       "<div>\n",
       "<style scoped>\n",
       "    .dataframe tbody tr th:only-of-type {\n",
       "        vertical-align: middle;\n",
       "    }\n",
       "\n",
       "    .dataframe tbody tr th {\n",
       "        vertical-align: top;\n",
       "    }\n",
       "\n",
       "    .dataframe thead th {\n",
       "        text-align: right;\n",
       "    }\n",
       "</style>\n",
       "<table border=\"1\" class=\"dataframe\">\n",
       "  <thead>\n",
       "    <tr style=\"text-align: right;\">\n",
       "      <th></th>\n",
       "      <th>Brand</th>\n",
       "      <th>Acquisition</th>\n",
       "      <th>399.40nm</th>\n",
       "      <th>404.39nm</th>\n",
       "      <th>409.38nm</th>\n",
       "      <th>414.37nm</th>\n",
       "      <th>419.37nm</th>\n",
       "      <th>424.38nm</th>\n",
       "      <th>429.38nm</th>\n",
       "      <th>434.40nm</th>\n",
       "      <th>...</th>\n",
       "      <th>1020.10nm</th>\n",
       "      <th>1025.55nm</th>\n",
       "      <th>1031.00nm</th>\n",
       "      <th>1036.46nm</th>\n",
       "      <th>1041.92nm</th>\n",
       "      <th>1047.38nm</th>\n",
       "      <th>1052.85nm</th>\n",
       "      <th>1058.32nm</th>\n",
       "      <th>1063.79nm</th>\n",
       "      <th>Class</th>\n",
       "    </tr>\n",
       "  </thead>\n",
       "  <tbody>\n",
       "    <tr>\n",
       "      <th>0</th>\n",
       "      <td>11</td>\n",
       "      <td>2</td>\n",
       "      <td>0.999980</td>\n",
       "      <td>0.999967</td>\n",
       "      <td>0.999203</td>\n",
       "      <td>0.992107</td>\n",
       "      <td>0.953222</td>\n",
       "      <td>0.872113</td>\n",
       "      <td>0.728557</td>\n",
       "      <td>0.551524</td>\n",
       "      <td>...</td>\n",
       "      <td>0.477751</td>\n",
       "      <td>0.481703</td>\n",
       "      <td>0.487756</td>\n",
       "      <td>0.497647</td>\n",
       "      <td>0.513220</td>\n",
       "      <td>0.528185</td>\n",
       "      <td>0.544014</td>\n",
       "      <td>0.562675</td>\n",
       "      <td>0.583122</td>\n",
       "      <td>Rewarewa</td>\n",
       "    </tr>\n",
       "    <tr>\n",
       "      <th>1</th>\n",
       "      <td>11</td>\n",
       "      <td>2</td>\n",
       "      <td>0.999980</td>\n",
       "      <td>0.999968</td>\n",
       "      <td>0.999208</td>\n",
       "      <td>0.992223</td>\n",
       "      <td>0.953823</td>\n",
       "      <td>0.873235</td>\n",
       "      <td>0.731307</td>\n",
       "      <td>0.554449</td>\n",
       "      <td>...</td>\n",
       "      <td>0.478158</td>\n",
       "      <td>0.482184</td>\n",
       "      <td>0.488387</td>\n",
       "      <td>0.498356</td>\n",
       "      <td>0.514065</td>\n",
       "      <td>0.529189</td>\n",
       "      <td>0.545075</td>\n",
       "      <td>0.563809</td>\n",
       "      <td>0.584472</td>\n",
       "      <td>Rewarewa</td>\n",
       "    </tr>\n",
       "    <tr>\n",
       "      <th>2</th>\n",
       "      <td>11</td>\n",
       "      <td>2</td>\n",
       "      <td>0.999979</td>\n",
       "      <td>0.999968</td>\n",
       "      <td>0.999220</td>\n",
       "      <td>0.992204</td>\n",
       "      <td>0.953378</td>\n",
       "      <td>0.872248</td>\n",
       "      <td>0.728564</td>\n",
       "      <td>0.551499</td>\n",
       "      <td>...</td>\n",
       "      <td>0.477288</td>\n",
       "      <td>0.481155</td>\n",
       "      <td>0.487180</td>\n",
       "      <td>0.497018</td>\n",
       "      <td>0.512569</td>\n",
       "      <td>0.527521</td>\n",
       "      <td>0.543329</td>\n",
       "      <td>0.561971</td>\n",
       "      <td>0.582424</td>\n",
       "      <td>Rewarewa</td>\n",
       "    </tr>\n",
       "    <tr>\n",
       "      <th>3</th>\n",
       "      <td>11</td>\n",
       "      <td>2</td>\n",
       "      <td>0.999979</td>\n",
       "      <td>0.999966</td>\n",
       "      <td>0.999189</td>\n",
       "      <td>0.992018</td>\n",
       "      <td>0.952935</td>\n",
       "      <td>0.871801</td>\n",
       "      <td>0.728091</td>\n",
       "      <td>0.551494</td>\n",
       "      <td>...</td>\n",
       "      <td>0.477015</td>\n",
       "      <td>0.480936</td>\n",
       "      <td>0.486965</td>\n",
       "      <td>0.496816</td>\n",
       "      <td>0.512370</td>\n",
       "      <td>0.527352</td>\n",
       "      <td>0.543177</td>\n",
       "      <td>0.561848</td>\n",
       "      <td>0.582337</td>\n",
       "      <td>Rewarewa</td>\n",
       "    </tr>\n",
       "    <tr>\n",
       "      <th>4</th>\n",
       "      <td>11</td>\n",
       "      <td>2</td>\n",
       "      <td>0.999977</td>\n",
       "      <td>0.999965</td>\n",
       "      <td>0.999151</td>\n",
       "      <td>0.991986</td>\n",
       "      <td>0.953458</td>\n",
       "      <td>0.873161</td>\n",
       "      <td>0.732385</td>\n",
       "      <td>0.556812</td>\n",
       "      <td>...</td>\n",
       "      <td>0.477190</td>\n",
       "      <td>0.481269</td>\n",
       "      <td>0.487589</td>\n",
       "      <td>0.497584</td>\n",
       "      <td>0.513355</td>\n",
       "      <td>0.528691</td>\n",
       "      <td>0.544639</td>\n",
       "      <td>0.563497</td>\n",
       "      <td>0.584432</td>\n",
       "      <td>Rewarewa</td>\n",
       "    </tr>\n",
       "  </tbody>\n",
       "</table>\n",
       "<p>5 rows × 131 columns</p>\n",
       "</div>"
      ],
      "text/plain": [
       "   Brand  Acquisition  399.40nm  404.39nm  409.38nm  414.37nm  419.37nm  \\\n",
       "0     11            2  0.999980  0.999967  0.999203  0.992107  0.953222   \n",
       "1     11            2  0.999980  0.999968  0.999208  0.992223  0.953823   \n",
       "2     11            2  0.999979  0.999968  0.999220  0.992204  0.953378   \n",
       "3     11            2  0.999979  0.999966  0.999189  0.992018  0.952935   \n",
       "4     11            2  0.999977  0.999965  0.999151  0.991986  0.953458   \n",
       "\n",
       "   424.38nm  429.38nm  434.40nm  ...  1020.10nm  1025.55nm  1031.00nm  \\\n",
       "0  0.872113  0.728557  0.551524  ...   0.477751   0.481703   0.487756   \n",
       "1  0.873235  0.731307  0.554449  ...   0.478158   0.482184   0.488387   \n",
       "2  0.872248  0.728564  0.551499  ...   0.477288   0.481155   0.487180   \n",
       "3  0.871801  0.728091  0.551494  ...   0.477015   0.480936   0.486965   \n",
       "4  0.873161  0.732385  0.556812  ...   0.477190   0.481269   0.487589   \n",
       "\n",
       "   1036.46nm  1041.92nm  1047.38nm  1052.85nm  1058.32nm  1063.79nm     Class  \n",
       "0   0.497647   0.513220   0.528185   0.544014   0.562675   0.583122  Rewarewa  \n",
       "1   0.498356   0.514065   0.529189   0.545075   0.563809   0.584472  Rewarewa  \n",
       "2   0.497018   0.512569   0.527521   0.543329   0.561971   0.582424  Rewarewa  \n",
       "3   0.496816   0.512370   0.527352   0.543177   0.561848   0.582337  Rewarewa  \n",
       "4   0.497584   0.513355   0.528691   0.544639   0.563497   0.584432  Rewarewa  \n",
       "\n",
       "[5 rows x 131 columns]"
      ]
     },
     "execution_count": 16,
     "metadata": {},
     "output_type": "execute_result"
    }
   ],
   "source": [
    "df.head()"
   ]
  },
  {
   "cell_type": "code",
   "execution_count": 17,
   "id": "4b797ad2",
   "metadata": {},
   "outputs": [],
   "source": [
    "# Initialize the LabelEncoder\n",
    "label_encoder = LabelEncoder()"
   ]
  },
  {
   "cell_type": "code",
   "execution_count": 18,
   "id": "2b8953f5",
   "metadata": {},
   "outputs": [],
   "source": [
    "# Fit and transform the selected column\n",
    "df['Class'] = label_encoder.fit_transform(df['Class'])"
   ]
  },
  {
   "cell_type": "code",
   "execution_count": 19,
   "id": "9a1e296d",
   "metadata": {},
   "outputs": [
    {
     "data": {
      "text/html": [
       "<div>\n",
       "<style scoped>\n",
       "    .dataframe tbody tr th:only-of-type {\n",
       "        vertical-align: middle;\n",
       "    }\n",
       "\n",
       "    .dataframe tbody tr th {\n",
       "        vertical-align: top;\n",
       "    }\n",
       "\n",
       "    .dataframe thead th {\n",
       "        text-align: right;\n",
       "    }\n",
       "</style>\n",
       "<table border=\"1\" class=\"dataframe\">\n",
       "  <thead>\n",
       "    <tr style=\"text-align: right;\">\n",
       "      <th></th>\n",
       "      <th>Brand</th>\n",
       "      <th>Acquisition</th>\n",
       "      <th>399.40nm</th>\n",
       "      <th>404.39nm</th>\n",
       "      <th>409.38nm</th>\n",
       "      <th>414.37nm</th>\n",
       "      <th>419.37nm</th>\n",
       "      <th>424.38nm</th>\n",
       "      <th>429.38nm</th>\n",
       "      <th>434.40nm</th>\n",
       "      <th>...</th>\n",
       "      <th>1020.10nm</th>\n",
       "      <th>1025.55nm</th>\n",
       "      <th>1031.00nm</th>\n",
       "      <th>1036.46nm</th>\n",
       "      <th>1041.92nm</th>\n",
       "      <th>1047.38nm</th>\n",
       "      <th>1052.85nm</th>\n",
       "      <th>1058.32nm</th>\n",
       "      <th>1063.79nm</th>\n",
       "      <th>Class</th>\n",
       "    </tr>\n",
       "  </thead>\n",
       "  <tbody>\n",
       "    <tr>\n",
       "      <th>0</th>\n",
       "      <td>11</td>\n",
       "      <td>2</td>\n",
       "      <td>0.999980</td>\n",
       "      <td>0.999967</td>\n",
       "      <td>0.999203</td>\n",
       "      <td>0.992107</td>\n",
       "      <td>0.953222</td>\n",
       "      <td>0.872113</td>\n",
       "      <td>0.728557</td>\n",
       "      <td>0.551524</td>\n",
       "      <td>...</td>\n",
       "      <td>0.477751</td>\n",
       "      <td>0.481703</td>\n",
       "      <td>0.487756</td>\n",
       "      <td>0.497647</td>\n",
       "      <td>0.513220</td>\n",
       "      <td>0.528185</td>\n",
       "      <td>0.544014</td>\n",
       "      <td>0.562675</td>\n",
       "      <td>0.583122</td>\n",
       "      <td>19</td>\n",
       "    </tr>\n",
       "    <tr>\n",
       "      <th>1</th>\n",
       "      <td>11</td>\n",
       "      <td>2</td>\n",
       "      <td>0.999980</td>\n",
       "      <td>0.999968</td>\n",
       "      <td>0.999208</td>\n",
       "      <td>0.992223</td>\n",
       "      <td>0.953823</td>\n",
       "      <td>0.873235</td>\n",
       "      <td>0.731307</td>\n",
       "      <td>0.554449</td>\n",
       "      <td>...</td>\n",
       "      <td>0.478158</td>\n",
       "      <td>0.482184</td>\n",
       "      <td>0.488387</td>\n",
       "      <td>0.498356</td>\n",
       "      <td>0.514065</td>\n",
       "      <td>0.529189</td>\n",
       "      <td>0.545075</td>\n",
       "      <td>0.563809</td>\n",
       "      <td>0.584472</td>\n",
       "      <td>19</td>\n",
       "    </tr>\n",
       "    <tr>\n",
       "      <th>2</th>\n",
       "      <td>11</td>\n",
       "      <td>2</td>\n",
       "      <td>0.999979</td>\n",
       "      <td>0.999968</td>\n",
       "      <td>0.999220</td>\n",
       "      <td>0.992204</td>\n",
       "      <td>0.953378</td>\n",
       "      <td>0.872248</td>\n",
       "      <td>0.728564</td>\n",
       "      <td>0.551499</td>\n",
       "      <td>...</td>\n",
       "      <td>0.477288</td>\n",
       "      <td>0.481155</td>\n",
       "      <td>0.487180</td>\n",
       "      <td>0.497018</td>\n",
       "      <td>0.512569</td>\n",
       "      <td>0.527521</td>\n",
       "      <td>0.543329</td>\n",
       "      <td>0.561971</td>\n",
       "      <td>0.582424</td>\n",
       "      <td>19</td>\n",
       "    </tr>\n",
       "    <tr>\n",
       "      <th>3</th>\n",
       "      <td>11</td>\n",
       "      <td>2</td>\n",
       "      <td>0.999979</td>\n",
       "      <td>0.999966</td>\n",
       "      <td>0.999189</td>\n",
       "      <td>0.992018</td>\n",
       "      <td>0.952935</td>\n",
       "      <td>0.871801</td>\n",
       "      <td>0.728091</td>\n",
       "      <td>0.551494</td>\n",
       "      <td>...</td>\n",
       "      <td>0.477015</td>\n",
       "      <td>0.480936</td>\n",
       "      <td>0.486965</td>\n",
       "      <td>0.496816</td>\n",
       "      <td>0.512370</td>\n",
       "      <td>0.527352</td>\n",
       "      <td>0.543177</td>\n",
       "      <td>0.561848</td>\n",
       "      <td>0.582337</td>\n",
       "      <td>19</td>\n",
       "    </tr>\n",
       "    <tr>\n",
       "      <th>4</th>\n",
       "      <td>11</td>\n",
       "      <td>2</td>\n",
       "      <td>0.999977</td>\n",
       "      <td>0.999965</td>\n",
       "      <td>0.999151</td>\n",
       "      <td>0.991986</td>\n",
       "      <td>0.953458</td>\n",
       "      <td>0.873161</td>\n",
       "      <td>0.732385</td>\n",
       "      <td>0.556812</td>\n",
       "      <td>...</td>\n",
       "      <td>0.477190</td>\n",
       "      <td>0.481269</td>\n",
       "      <td>0.487589</td>\n",
       "      <td>0.497584</td>\n",
       "      <td>0.513355</td>\n",
       "      <td>0.528691</td>\n",
       "      <td>0.544639</td>\n",
       "      <td>0.563497</td>\n",
       "      <td>0.584432</td>\n",
       "      <td>19</td>\n",
       "    </tr>\n",
       "  </tbody>\n",
       "</table>\n",
       "<p>5 rows × 131 columns</p>\n",
       "</div>"
      ],
      "text/plain": [
       "   Brand  Acquisition  399.40nm  404.39nm  409.38nm  414.37nm  419.37nm  \\\n",
       "0     11            2  0.999980  0.999967  0.999203  0.992107  0.953222   \n",
       "1     11            2  0.999980  0.999968  0.999208  0.992223  0.953823   \n",
       "2     11            2  0.999979  0.999968  0.999220  0.992204  0.953378   \n",
       "3     11            2  0.999979  0.999966  0.999189  0.992018  0.952935   \n",
       "4     11            2  0.999977  0.999965  0.999151  0.991986  0.953458   \n",
       "\n",
       "   424.38nm  429.38nm  434.40nm  ...  1020.10nm  1025.55nm  1031.00nm  \\\n",
       "0  0.872113  0.728557  0.551524  ...   0.477751   0.481703   0.487756   \n",
       "1  0.873235  0.731307  0.554449  ...   0.478158   0.482184   0.488387   \n",
       "2  0.872248  0.728564  0.551499  ...   0.477288   0.481155   0.487180   \n",
       "3  0.871801  0.728091  0.551494  ...   0.477015   0.480936   0.486965   \n",
       "4  0.873161  0.732385  0.556812  ...   0.477190   0.481269   0.487589   \n",
       "\n",
       "   1036.46nm  1041.92nm  1047.38nm  1052.85nm  1058.32nm  1063.79nm  Class  \n",
       "0   0.497647   0.513220   0.528185   0.544014   0.562675   0.583122     19  \n",
       "1   0.498356   0.514065   0.529189   0.545075   0.563809   0.584472     19  \n",
       "2   0.497018   0.512569   0.527521   0.543329   0.561971   0.582424     19  \n",
       "3   0.496816   0.512370   0.527352   0.543177   0.561848   0.582337     19  \n",
       "4   0.497584   0.513355   0.528691   0.544639   0.563497   0.584432     19  \n",
       "\n",
       "[5 rows x 131 columns]"
      ]
     },
     "execution_count": 19,
     "metadata": {},
     "output_type": "execute_result"
    }
   ],
   "source": [
    "df.head()"
   ]
  },
  {
   "cell_type": "code",
   "execution_count": 20,
   "id": "a05544b5",
   "metadata": {},
   "outputs": [
    {
     "data": {
      "text/plain": [
       "19    3600\n",
       "8     3600\n",
       "2     3600\n",
       "15    3600\n",
       "16    2400\n",
       "11    2400\n",
       "6     1800\n",
       "20    1800\n",
       "7     1800\n",
       "18    1200\n",
       "5     1200\n",
       "17    1200\n",
       "0     1200\n",
       "13    1200\n",
       "10     600\n",
       "1      600\n",
       "9      600\n",
       "12     600\n",
       "14     600\n",
       "4      600\n",
       "3      600\n",
       "Name: Class, dtype: int64"
      ]
     },
     "execution_count": 20,
     "metadata": {},
     "output_type": "execute_result"
    }
   ],
   "source": [
    "df['Class'].value_counts()"
   ]
  },
  {
   "cell_type": "code",
   "execution_count": 21,
   "id": "b3a33f42",
   "metadata": {},
   "outputs": [],
   "source": [
    "X=df"
   ]
  },
  {
   "cell_type": "code",
   "execution_count": 22,
   "id": "a1923abc",
   "metadata": {},
   "outputs": [],
   "source": [
    "from sklearn.model_selection import train_test_split"
   ]
  },
  {
   "cell_type": "code",
   "execution_count": 23,
   "id": "1c8f0c98",
   "metadata": {},
   "outputs": [],
   "source": [
    "X_train,X_test,y_train,y_test=train_test_split(X,Y,test_size=0.1,random_state=42,shuffle=True)"
   ]
  },
  {
   "cell_type": "code",
   "execution_count": 25,
   "id": "ed558500",
   "metadata": {},
   "outputs": [
    {
     "data": {
      "text/plain": [
       "0.8922413793103449"
      ]
     },
     "execution_count": 25,
     "metadata": {},
     "output_type": "execute_result"
    }
   ],
   "source": [
    "from sklearn.tree import DecisionTreeClassifier\n",
    "from sklearn.metrics import accuracy_score\n",
    "tree_only=DecisionTreeClassifier(max_depth=9,max_features=8)\n",
    "tree_only.fit(X_train,y_train)\n",
    "\n",
    "y_pred=tree_only.predict(X_test)\n",
    "accuracy_score(y_test, y_pred)"
   ]
  },
  {
   "cell_type": "code",
   "execution_count": 26,
   "id": "5bcd5d7e",
   "metadata": {},
   "outputs": [
    {
     "data": {
      "text/plain": [
       "0.9982758620689656"
      ]
     },
     "execution_count": 26,
     "metadata": {},
     "output_type": "execute_result"
    }
   ],
   "source": [
    "from sklearn.ensemble import RandomForestClassifier\n",
    "from sklearn.metrics import accuracy_score\n",
    "clf = RandomForestClassifier(n_estimators=100, random_state=42)\n",
    "clf.fit(X_train, y_train)\n",
    "\n",
    "y_pred = clf.predict(X_test)\n",
    "accuracy_score(y_test, y_pred)"
   ]
  },
  {
   "cell_type": "code",
   "execution_count": 27,
   "id": "be7303a0",
   "metadata": {},
   "outputs": [
    {
     "data": {
      "text/plain": [
       "0.9994252873563219"
      ]
     },
     "execution_count": 27,
     "metadata": {},
     "output_type": "execute_result"
    }
   ],
   "source": [
    "from sklearn.neighbors import KNeighborsClassifier\n",
    "clf = KNeighborsClassifier(n_neighbors=3)\n",
    "clf.fit(X_train, y_train)\n",
    "\n",
    "y_pred = clf.predict(X_test)\n",
    "accuracy_score(y_test, y_pred)"
   ]
  },
  {
   "cell_type": "code",
   "execution_count": 28,
   "id": "24dc8fdf",
   "metadata": {},
   "outputs": [
    {
     "data": {
      "text/plain": [
       "0.6540229885057471"
      ]
     },
     "execution_count": 28,
     "metadata": {},
     "output_type": "execute_result"
    }
   ],
   "source": [
    "from sklearn import svm\n",
    "from sklearn.metrics import accuracy_score\n",
    "\n",
    "clf = svm.SVC(kernel='poly', degree=4) \n",
    "clf.fit(X_train, y_train)\n",
    "y_pred = clf.predict(X_test)\n",
    "accuracy_score(y_test, y_pred)"
   ]
  },
  {
   "cell_type": "code",
   "execution_count": 29,
   "id": "7ab280b2",
   "metadata": {},
   "outputs": [
    {
     "name": "stdout",
     "output_type": "stream",
     "text": [
      "confusion matrix:\n",
      " [[584 217  85   0]\n",
      " [403 306 135  13]\n",
      " [125  94 566 101]\n",
      " [  0   0  31 820]]\n"
     ]
    }
   ],
   "source": [
    "cm = confusion_matrix(y_test, y_pred)\n",
    "print(\"confusion matrix:\\n\",cm)"
   ]
  },
  {
   "cell_type": "code",
   "execution_count": 30,
   "id": "7f11ac6d",
   "metadata": {},
   "outputs": [],
   "source": [
    "# Extract values from the confusion matrix\n",
    "true_negatives = cm[0, 0]\n",
    "false_positives = cm[0, 1]\n",
    "false_negatives = cm[1, 0]\n",
    "true_positives = cm[1, 1]"
   ]
  },
  {
   "cell_type": "code",
   "execution_count": 31,
   "id": "bf67625e",
   "metadata": {},
   "outputs": [
    {
     "name": "stdout",
     "output_type": "stream",
     "text": [
      "False Positive Rate (FPR): 0.27091136079900124\n"
     ]
    }
   ],
   "source": [
    "# Calculate False Positive Rate (FPR)\n",
    "fpr = false_positives / (false_positives + true_negatives)\n",
    "print(\"False Positive Rate (FPR):\", fpr)"
   ]
  },
  {
   "cell_type": "code",
   "execution_count": 32,
   "id": "f2d82275",
   "metadata": {},
   "outputs": [
    {
     "name": "stdout",
     "output_type": "stream",
     "text": [
      "False Negative Rate (FNR): 0.5684062059238364\n"
     ]
    }
   ],
   "source": [
    "# Calculate False Negative Rate (FNR)\n",
    "fnr = false_negatives / (false_negatives + true_positives)\n",
    "print(\"False Negative Rate (FNR):\", fnr)"
   ]
  },
  {
   "cell_type": "code",
   "execution_count": 33,
   "id": "b9edfdec",
   "metadata": {},
   "outputs": [
    {
     "name": "stdout",
     "output_type": "stream",
     "text": [
      "Recall: 0.4315937940761636\n"
     ]
    }
   ],
   "source": [
    "# Calculate Recall (True Positive Rate)\n",
    "recall = true_positives / (true_positives + false_negatives)\n",
    "print(\"Recall:\", recall)"
   ]
  },
  {
   "cell_type": "code",
   "execution_count": 34,
   "id": "a9fd9cbf",
   "metadata": {},
   "outputs": [
    {
     "name": "stdout",
     "output_type": "stream",
     "text": [
      "Precision: 0.5850860420650096\n"
     ]
    }
   ],
   "source": [
    "# Calculate Precision\n",
    "precision = true_positives / (true_positives + false_positives)\n",
    "print(\"Precision:\", precision)"
   ]
  },
  {
   "cell_type": "code",
   "execution_count": 35,
   "id": "05ba5124",
   "metadata": {},
   "outputs": [
    {
     "name": "stdout",
     "output_type": "stream",
     "text": [
      "F-beta (beta=2, average='macro'): 0.6498655627740315\n"
     ]
    }
   ],
   "source": [
    "from sklearn.metrics import fbeta_score\n",
    "\n",
    "# Calculate the F-beta score with the 'macro' average option\n",
    "beta = 2  # You can adjust the value of beta as needed\n",
    "f_beta_macro = fbeta_score(y_test, y_pred, beta=beta, average='macro')\n",
    "print(f\"F-beta (beta={beta}, average='macro'):\", f_beta_macro)"
   ]
  },
  {
   "cell_type": "code",
   "execution_count": 36,
   "id": "410f969a",
   "metadata": {},
   "outputs": [
    {
     "name": "stdout",
     "output_type": "stream",
     "text": [
      "F1-score: 0.4967532467532468\n"
     ]
    }
   ],
   "source": [
    "# F1-score = 2 * (Precision * Recall) / (Precision + Recall)\n",
    "F1score = 2 * (precision * recall) / (precision + recall)\n",
    "print(\"F1-score:\", F1score)"
   ]
  },
  {
   "cell_type": "code",
   "execution_count": 37,
   "id": "0db59295",
   "metadata": {},
   "outputs": [
    {
     "data": {
      "text/plain": [
       "0.5384383031698659"
      ]
     },
     "execution_count": 37,
     "metadata": {},
     "output_type": "execute_result"
    }
   ],
   "source": [
    "# Calculate Cohen's Kappa\n",
    "cohen_kappa_score(y_test, y_pred)"
   ]
  },
  {
   "cell_type": "code",
   "execution_count": 38,
   "id": "5a94e00f",
   "metadata": {
    "scrolled": true
   },
   "outputs": [
    {
     "name": "stdout",
     "output_type": "stream",
     "text": [
      "Round : 0.29098\n",
      "0.2909795063411135\n"
     ]
    }
   ],
   "source": [
    "a=0.2893106119287374\n",
    "b=0.2939497716894977\n",
    "c=0.28967813540510545\n",
    "\n",
    "print(\"Round : \" + str(round((a+b+c)/3,6)))\n",
    "print((a+b+c)/3)"
   ]
  },
  {
   "cell_type": "code",
   "execution_count": 39,
   "id": "2b48dd0a",
   "metadata": {},
   "outputs": [
    {
     "name": "stdout",
     "output_type": "stream",
     "text": [
      "0.001835\n"
     ]
    }
   ],
   "source": [
    "print(round(0.0018348502813393937,6))"
   ]
  },
  {
   "cell_type": "code",
   "execution_count": 40,
   "id": "bc8770e0",
   "metadata": {},
   "outputs": [
    {
     "data": {
      "text/plain": [
       "(34800, 33)"
      ]
     },
     "execution_count": 40,
     "metadata": {},
     "output_type": "execute_result"
    }
   ],
   "source": [
    "from sklearn.decomposition import PCA\n",
    "\n",
    "pca = PCA(0.9999999)\n",
    "X_pca = pca.fit_transform(X)\n",
    "X_pca.shape"
   ]
  },
  {
   "cell_type": "code",
   "execution_count": 41,
   "id": "483fceb9",
   "metadata": {},
   "outputs": [],
   "source": [
    "X_train_pca, X_test_pca, y_train, y_test = train_test_split(X_pca, Y, test_size=0.1, random_state=30)"
   ]
  },
  {
   "cell_type": "code",
   "execution_count": 42,
   "id": "b8b2d607",
   "metadata": {},
   "outputs": [],
   "source": [
    "from sklearn.linear_model import LogisticRegression\n",
    "\n",
    "model = LogisticRegression(max_iter=10000)\n",
    "model.fit(X_train_pca, y_train)\n",
    "model.score(X_test_pca, y_test)\n",
    "y_pred=model.predict(X_test_pca)"
   ]
  },
  {
   "cell_type": "code",
   "execution_count": 43,
   "id": "fea17d8b",
   "metadata": {},
   "outputs": [
    {
     "data": {
      "text/plain": [
       "0.7933908045977012"
      ]
     },
     "execution_count": 43,
     "metadata": {},
     "output_type": "execute_result"
    }
   ],
   "source": [
    "model.score(X_test_pca, y_test)"
   ]
  },
  {
   "cell_type": "markdown",
   "id": "3f4bd88d",
   "metadata": {},
   "source": [
    "# Random Forest"
   ]
  },
  {
   "cell_type": "code",
   "execution_count": 53,
   "id": "9921679f",
   "metadata": {},
   "outputs": [
    {
     "data": {
      "image/png": "[encoded data removed]",
      "text/plain": [
       "<Figure size 576x432 with 1 Axes>"
      ]
     },
     "metadata": {
      "needs_background": "light"
     },
     "output_type": "display_data"
    }
   ],
   "source": [
    "from sklearn.ensemble import RandomForestClassifier\n",
    "from sklearn.metrics import accuracy_score\n",
    "clf = RandomForestClassifier(n_estimators=100, random_state=42)\n",
    "clf.fit(X_train, y_train)\n",
    "\n",
    "y_pred = clf.predict(X_test)\n",
    "accuracy_score(y_test, y_pred)\n",
    "\n",
    "cm = confusion_matrix(y_test, y_pred)\n",
    "plt.figure(figsize=(8, 6))\n",
    "sns.heatmap(cm, annot=True, fmt='d', cmap='Blues', cbar=False)\n",
    "plt.title('Confusion Matrix (DecisionTree)')\n",
    "plt.xlabel('Predicted')\n",
    "plt.ylabel('True')\n",
    "plt.show()"
   ]
  },
  {
   "cell_type": "code",
   "execution_count": 55,
   "id": "68c50805",
   "metadata": {},
   "outputs": [
    {
     "data": {
      "image/png": "[encoded data removed]",
      "text/plain": [
       "<Figure size 576x432 with 1 Axes>"
      ]
     },
     "metadata": {
      "needs_background": "light"
     },
     "output_type": "display_data"
    }
   ],
   "source": [
    "from sklearn.metrics import roc_curve, auc\n",
    "import matplotlib.pyplot as plt\n",
    "from sklearn.preprocessing import label_binarize\n",
    "from sklearn.multiclass import OneVsRestClassifier\n",
    "from sklearn.ensemble import RandomForestClassifier\n",
    "\n",
    "# Binarize the target variable for each class\n",
    "y_bin = label_binarize(y_test, classes=[5, 10, 25, 50])\n",
    "n_classes = y_bin.shape[1]\n",
    "\n",
    "# Initialize a OneVsRestClassifier with DecisionTreeClassifier as the underlying classifier\n",
    "classifier = OneVsRestClassifier(RandomForestClassifier())\n",
    "\n",
    "# Fit the classifier for each class\n",
    "y_score = classifier.fit(X_test, y_bin).predict_proba(X_test)\n",
    "\n",
    "# Compute ROC curve and ROC area for each class\n",
    "fpr = dict()\n",
    "tpr = dict()\n",
    "roc_auc = dict()\n",
    "for i in range(n_classes):\n",
    "    fpr[i], tpr[i], _ = roc_curve(y_bin[:, i], y_score[:, i])\n",
    "    roc_auc[i] = auc(fpr[i], tpr[i])\n",
    "\n",
    "# Plot ROC curves for each class\n",
    "plt.figure(figsize=(8, 6))\n",
    "colors = ['blue', 'red', 'green', 'purple']  # You can customize colors\n",
    "concentrations = [5, 10, 25, 50]  # Specify the concentrations\n",
    "for i in range(n_classes):\n",
    "    plt.plot(fpr[i], tpr[i], color=colors[i], lw=2,\n",
    "             label=f'Concentration {concentrations[i]} (AUC = {roc_auc[i]:.2f})')\n",
    "\n",
    "plt.plot([0, 1], [0, 1], 'k--', lw=2)\n",
    "plt.xlim([0.0, 1.0])\n",
    "plt.ylim([0.0, 1.05])\n",
    "plt.xlabel('False Positive Rate')\n",
    "plt.ylabel('True Positive Rate')\n",
    "plt.title('ROC Curve for Multiclass Classification (DecisionTreeClassifier)')\n",
    "plt.legend(loc=\"lower right\")\n",
    "plt.show()"
   ]
  },
  {
   "cell_type": "code",
   "execution_count": 57,
   "id": "eee8d043",
   "metadata": {},
   "outputs": [
    {
     "ename": "ValueError",
     "evalue": "The truth value of an array with more than one element is ambiguous. Use a.any() or a.all()",
     "output_type": "error",
     "traceback": [
      "\u001b[1;31m---------------------------------------------------------------------------\u001b[0m",
      "\u001b[1;31mValueError\u001b[0m                                Traceback (most recent call last)",
      "Input \u001b[1;32mIn [57]\u001b[0m, in \u001b[0;36m<module>\u001b[1;34m\u001b[0m\n\u001b[0;32m     19\u001b[0m \u001b[38;5;66;03m# Calculate AUC for each class\u001b[39;00m\n\u001b[0;32m     20\u001b[0m \u001b[38;5;28;01mfor\u001b[39;00m class_label \u001b[38;5;129;01min\u001b[39;00m classes:\n\u001b[0;32m     21\u001b[0m     \u001b[38;5;66;03m# Find the index corresponding to the class label\u001b[39;00m\n\u001b[1;32m---> 22\u001b[0m     class_index \u001b[38;5;241m=\u001b[39m \u001b[38;5;28;43mlist\u001b[39;49m\u001b[43m(\u001b[49m\u001b[43mclf\u001b[49m\u001b[38;5;241;43m.\u001b[39;49m\u001b[43mclasses_\u001b[49m\u001b[43m)\u001b[49m\u001b[38;5;241;43m.\u001b[39;49m\u001b[43mindex\u001b[49m\u001b[43m(\u001b[49m\u001b[43mclass_label\u001b[49m\u001b[43m)\u001b[49m\u001b[38;5;241m.\u001b[39many()\n\u001b[0;32m     24\u001b[0m     \u001b[38;5;66;03m# Extract the predicted probabilities for the current class\u001b[39;00m\n\u001b[0;32m     25\u001b[0m     class_probs \u001b[38;5;241m=\u001b[39m y_probs[:, class_index]\n",
      "\u001b[1;31mValueError\u001b[0m: The truth value of an array with more than one element is ambiguous. Use a.any() or a.all()"
     ]
    }
   ],
   "source": [
    "from sklearn.metrics import roc_auc_score\n",
    "\n",
    "import numpy as np\n",
    "\n",
    "# Convert X_test to a NumPy array if it's a DataFrame\n",
    "#if isinstance(X_test, pd.DataFrame):\n",
    "#    X_testt = X_test.values\n",
    "\n",
    "\n",
    "# Define the classes for which you want to calculate ROC AUC scores\n",
    "classes = [5, 10, 25, 50]\n",
    "\n",
    "# Initialize lists to store AUC values\n",
    "roc_auc_values = []\n",
    "\n",
    "# Calculate predicted probabilities for each class\n",
    "y_probs = clf.predict_proba(X_test)\n",
    "\n",
    "# Calculate AUC for each class\n",
    "for class_label in classes:\n",
    "    # Find the index corresponding to the class label\n",
    "    class_index = list(clf.classes_).index(class_label)\n",
    "    \n",
    "    # Extract the predicted probabilities for the current class\n",
    "    class_probs = y_probs[:, class_index]\n",
    "    \n",
    "    # Calculate ROC AUC for the current class\n",
    "    auc = roc_auc_score(y_test == class_label, class_probs)\n",
    "    \n",
    "    # Append the AUC value to the list\n",
    "    roc_auc_values.append(auc)\n",
    "\n",
    "# Plot AUC values\n",
    "plt.figure(figsize=(8, 6))\n",
    "plt.bar(classes, roc_auc_values, color='skyblue')\n",
    "plt.xlabel('Class')\n",
    "plt.ylabel('AUC')\n",
    "plt.title('AUC for Each Class')\n",
    "plt.xticks(classes)\n",
    "plt.show()"
   ]
  },
  {
   "cell_type": "code",
   "execution_count": null,
   "id": "cbae30e9",
   "metadata": {},
   "outputs": [],
   "source": [
    "from sklearn.metrics import precision_recall_curve\n",
    "\n",
    "# Calculate precision and recall for each class\n",
    "precisions = []\n",
    "recalls = []\n",
    "classes = [5, 10, 25, 50]\n",
    "\n",
    "for i in range(len(classes)):\n",
    "    precision, recall, _ = precision_recall_curve((y_test == classes[i]).astype(int), y_probs[:, i])\n",
    "    precisions.append(precision)\n",
    "    recalls.append(recall)\n",
    "\n",
    "# Plot PR curve for each class\n",
    "plt.figure(figsize=(8, 6))\n",
    "for i in range(len(classes)):\n",
    "    plt.plot(recalls[i], precisions[i], lw=2, label=f'Concentration {classes[i]}')\n",
    "\n",
    "plt.xlabel('Recall')\n",
    "plt.ylabel('Precision')\n",
    "plt.title('Precision-Recall Curve')\n",
    "plt.legend()\n",
    "plt.show()"
   ]
  },
  {
   "cell_type": "markdown",
   "id": "59f68baf",
   "metadata": {},
   "source": [
    "# Decision Tree"
   ]
  },
  {
   "cell_type": "code",
   "execution_count": 46,
   "id": "8d963c29",
   "metadata": {},
   "outputs": [
    {
     "data": {
      "image/png": "[encoded data removed]",
      "text/plain": [
       "<Figure size 576x432 with 1 Axes>"
      ]
     },
     "metadata": {
      "needs_background": "light"
     },
     "output_type": "display_data"
    }
   ],
   "source": [
    "import seaborn as sns\n",
    "from sklearn.tree import DecisionTreeClassifier\n",
    "from sklearn.metrics import accuracy_score\n",
    "tree_only=DecisionTreeClassifier(max_depth=9,max_features=8)\n",
    "tree_only.fit(X_train,y_train)\n",
    "\n",
    "y_pred=tree_only.predict(X_test)\n",
    "accuracy_score(y_test, y_pred)\n",
    "\n",
    "\n",
    "cm = confusion_matrix(y_test, y_pred)\n",
    "plt.figure(figsize=(8, 6))\n",
    "sns.heatmap(cm, annot=True, fmt='d', cmap='Blues', cbar=False)\n",
    "plt.title('Confusion Matrix (DecisionTree)')\n",
    "plt.xlabel('Predicted')\n",
    "plt.ylabel('True')\n",
    "plt.show()"
   ]
  },
  {
   "cell_type": "code",
   "execution_count": 50,
   "id": "96af11fb",
   "metadata": {},
   "outputs": [
    {
     "data": {
      "image/png": "[encoded data removed]",
      "text/plain": [
       "<Figure size 576x432 with 1 Axes>"
      ]
     },
     "metadata": {
      "needs_background": "light"
     },
     "output_type": "display_data"
    }
   ],
   "source": [
    "from sklearn.metrics import roc_curve, auc\n",
    "import matplotlib.pyplot as plt\n",
    "from sklearn.preprocessing import label_binarize\n",
    "from sklearn.multiclass import OneVsRestClassifier\n",
    "from sklearn.tree import DecisionTreeClassifier  # Import DecisionTreeClassifier\n",
    "\n",
    "# Binarize the target variable for each class\n",
    "y_bin = label_binarize(y_test, classes=[5, 10, 25, 50])\n",
    "n_classes = y_bin.shape[1]\n",
    "\n",
    "# Initialize a OneVsRestClassifier with DecisionTreeClassifier as the underlying classifier\n",
    "classifier = OneVsRestClassifier(DecisionTreeClassifier())\n",
    "\n",
    "# Fit the classifier for each class\n",
    "y_score = classifier.fit(X_test, y_bin).predict_proba(X_test)\n",
    "\n",
    "# Compute ROC curve and ROC area for each class\n",
    "fpr = dict()\n",
    "tpr = dict()\n",
    "roc_auc = dict()\n",
    "for i in range(n_classes):\n",
    "    fpr[i], tpr[i], _ = roc_curve(y_bin[:, i], y_score[:, i])\n",
    "    roc_auc[i] = auc(fpr[i], tpr[i])\n",
    "\n",
    "# Plot ROC curves for each class\n",
    "plt.figure(figsize=(8, 6))\n",
    "colors = ['blue', 'red', 'green', 'purple']  # You can customize colors\n",
    "concentrations = [5, 10, 25, 50]  # Specify the concentrations\n",
    "for i in range(n_classes):\n",
    "    plt.plot(fpr[i], tpr[i], color=colors[i], lw=2,\n",
    "             label=f'Concentration {concentrations[i]} (AUC = {roc_auc[i]:.2f})')\n",
    "\n",
    "plt.plot([0, 1], [0, 1], 'k--', lw=2)\n",
    "plt.xlim([0.0, 1.0])\n",
    "plt.ylim([0.0, 1.05])\n",
    "plt.xlabel('False Positive Rate')\n",
    "plt.ylabel('True Positive Rate')\n",
    "plt.title('ROC Curve for Multiclass Classification (DecisionTreeClassifier)')\n",
    "plt.legend(loc=\"lower right\")\n",
    "plt.show()"
   ]
  },
  {
   "cell_type": "code",
   "execution_count": 51,
   "id": "2372dea0",
   "metadata": {},
   "outputs": [
    {
     "data": {
      "image/png": "[encoded data removed]",
      "text/plain": [
       "<Figure size 576x432 with 1 Axes>"
      ]
     },
     "metadata": {
      "needs_background": "light"
     },
     "output_type": "display_data"
    }
   ],
   "source": [
    "from sklearn.metrics import roc_auc_score\n",
    "\n",
    "import numpy as np\n",
    "\n",
    "# Convert X_test to a NumPy array if it's a DataFrame\n",
    "#if isinstance(X_test, pd.DataFrame):\n",
    "#    X_testt = X_test.values\n",
    "\n",
    "\n",
    "# Define the classes for which you want to calculate ROC AUC scores\n",
    "classes = [5, 10, 25, 50]\n",
    "\n",
    "# Initialize lists to store AUC values\n",
    "roc_auc_values = []\n",
    "\n",
    "# Calculate predicted probabilities for each class\n",
    "y_probs = tree_only.predict_proba(X_test)\n",
    "\n",
    "# Calculate AUC for each class\n",
    "for class_label in classes:\n",
    "    # Find the index corresponding to the class label\n",
    "    class_index = list(clf.classes_).index(class_label)\n",
    "    \n",
    "    # Extract the predicted probabilities for the current class\n",
    "    class_probs = y_probs[:, class_index]\n",
    "    \n",
    "    # Calculate ROC AUC for the current class\n",
    "    auc = roc_auc_score(y_test == class_label, class_probs)\n",
    "    \n",
    "    # Append the AUC value to the list\n",
    "    roc_auc_values.append(auc)\n",
    "\n",
    "# Plot AUC values\n",
    "plt.figure(figsize=(8, 6))\n",
    "plt.bar(classes, roc_auc_values, color='skyblue')\n",
    "plt.xlabel('Class')\n",
    "plt.ylabel('AUC')\n",
    "plt.title('AUC for Each Class')\n",
    "plt.xticks(classes)\n",
    "plt.show()"
   ]
  },
  {
   "cell_type": "code",
   "execution_count": 52,
   "id": "2b4b5b25",
   "metadata": {},
   "outputs": [
    {
     "data": {
      "image/png": "[encoded data removed]",
      "text/plain": [
       "<Figure size 576x432 with 1 Axes>"
      ]
     },
     "metadata": {
      "needs_background": "light"
     },
     "output_type": "display_data"
    }
   ],
   "source": [
    "from sklearn.metrics import precision_recall_curve\n",
    "\n",
    "# Calculate precision and recall for each class\n",
    "precisions = []\n",
    "recalls = []\n",
    "classes = [5, 10, 25, 50]\n",
    "\n",
    "for i in range(len(classes)):\n",
    "    precision, recall, _ = precision_recall_curve((y_test == classes[i]).astype(int), y_probs[:, i])\n",
    "    precisions.append(precision)\n",
    "    recalls.append(recall)\n",
    "\n",
    "# Plot PR curve for each class\n",
    "plt.figure(figsize=(8, 6))\n",
    "for i in range(len(classes)):\n",
    "    plt.plot(recalls[i], precisions[i], lw=2, label=f'Concentration {classes[i]}')\n",
    "\n",
    "plt.xlabel('Recall')\n",
    "plt.ylabel('Precision')\n",
    "plt.title('Precision-Recall Curve')\n",
    "plt.legend()\n",
    "plt.show()"
   ]
  },
  {
   "cell_type": "code",
   "execution_count": null,
   "id": "22a47d60",
   "metadata": {},
   "outputs": [],
   "source": []
  }
 ],
 "metadata": {
  "kernelspec": {
   "display_name": "Python 3 (ipykernel)",
   "language": "python",
   "name": "python3"
  },
  "language_info": {
   "codemirror_mode": {
    "name": "ipython",
    "version": 3
   },
   "file_extension": ".py",
   "mimetype": "text/x-python",
   "name": "python",
   "nbconvert_exporter": "python",
   "pygments_lexer": "ipython3",
   "version": "3.10.2"
  }
 },
 "nbformat": 4,
 "nbformat_minor": 5
}
